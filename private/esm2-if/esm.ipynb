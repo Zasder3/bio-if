{
 "cells": [
  {
   "cell_type": "code",
   "execution_count": 1,
   "metadata": {},
   "outputs": [],
   "source": [
    "from transformers import AutoTokenizer, AutoModelForMaskedLM\n",
    "from transformers import default_data_collator\n",
    "from datasets import Dataset\n",
    "import torch\n",
    "import torch.nn as nn\n",
    "import torch.nn.functional as F\n",
    "import matplotlib.pyplot as plt\n",
    "import logging\n",
    "logging.basicConfig(level=logging.DEBUG)"
   ]
  },
  {
   "cell_type": "code",
   "execution_count": 2,
   "metadata": {},
   "outputs": [],
   "source": [
    "# set default device\n",
    "torch.cuda.set_device(7)"
   ]
  },
  {
   "cell_type": "code",
   "execution_count": 3,
   "metadata": {},
   "outputs": [
    {
     "name": "stderr",
     "output_type": "stream",
     "text": [
      "DEBUG:urllib3.connectionpool:Starting new HTTPS connection (1): huggingface.co:443\n",
      "DEBUG:urllib3.connectionpool:https://huggingface.co:443 \"HEAD /facebook/esm2_t12_35M_UR50D/resolve/main/tokenizer_config.json HTTP/1.1\" 200 0\n",
      "DEBUG:urllib3.connectionpool:https://huggingface.co:443 \"HEAD /facebook/esm2_t12_35M_UR50D/resolve/main/config.json HTTP/1.1\" 200 0\n"
     ]
    }
   ],
   "source": [
    "tokenizer = AutoTokenizer.from_pretrained(\"facebook/esm2_t12_35M_UR50D\")\n",
    "model = AutoModelForMaskedLM.from_pretrained(\"facebook/esm2_t12_35M_UR50D\", device_map='cuda:3')\n",
    "# remove model.esm.contact_head from model\n",
    "del model.esm.contact_head"
   ]
  },
  {
   "cell_type": "code",
   "execution_count": 4,
   "metadata": {},
   "outputs": [],
   "source": [
    "# process fasta\n",
    "def read_fasta(fasta_file):\n",
    "    with open(fasta_file) as f:\n",
    "        lines = f.readlines()\n",
    "    seqs = []\n",
    "    for line in lines:\n",
    "        if line[0] == '>':\n",
    "            if seqs:\n",
    "                seqs[-1] = ''.join(seqs[-1])\n",
    "            seqs.append([])\n",
    "        else:\n",
    "            seqs[-1].append(line.strip())\n",
    "    seqs[-1] = ''.join(seqs[-1])\n",
    "    return seqs"
   ]
  },
  {
   "cell_type": "code",
   "execution_count": 5,
   "metadata": {},
   "outputs": [],
   "source": [
    "seqs = read_fasta('partial.fasta')"
   ]
  },
  {
   "cell_type": "code",
   "execution_count": 6,
   "metadata": {},
   "outputs": [
    {
     "name": "stderr",
     "output_type": "stream",
     "text": [
      "DEBUG:matplotlib.pyplot:Loaded backend module://matplotlib_inline.backend_inline version unknown.\n",
      "DEBUG:matplotlib.pyplot:Loaded backend module://matplotlib_inline.backend_inline version unknown.\n",
      "DEBUG:matplotlib.font_manager:findfont: Matching sans\\-serif:style=normal:variant=normal:weight=normal:stretch=normal:size=10.0.\n",
      "DEBUG:matplotlib.font_manager:findfont: score(FontEntry(fname='/home/cadegord/miniconda3/envs/bio-if/lib/python3.9/site-packages/matplotlib/mpl-data/fonts/ttf/DejaVuSans-Bold.ttf', name='DejaVu Sans', style='normal', variant='normal', weight=700, stretch='normal', size='scalable')) = 0.33499999999999996\n",
      "DEBUG:matplotlib.font_manager:findfont: score(FontEntry(fname='/home/cadegord/miniconda3/envs/bio-if/lib/python3.9/site-packages/matplotlib/mpl-data/fonts/ttf/cmex10.ttf', name='cmex10', style='normal', variant='normal', weight=400, stretch='normal', size='scalable')) = 10.05\n",
      "DEBUG:matplotlib.font_manager:findfont: score(FontEntry(fname='/home/cadegord/miniconda3/envs/bio-if/lib/python3.9/site-packages/matplotlib/mpl-data/fonts/ttf/cmmi10.ttf', name='cmmi10', style='normal', variant='normal', weight=400, stretch='normal', size='scalable')) = 10.05\n",
      "DEBUG:matplotlib.font_manager:findfont: score(FontEntry(fname='/home/cadegord/miniconda3/envs/bio-if/lib/python3.9/site-packages/matplotlib/mpl-data/fonts/ttf/STIXSizFourSymBol.ttf', name='STIXSizeFourSym', style='normal', variant='normal', weight=700, stretch='normal', size='scalable')) = 10.335\n",
      "DEBUG:matplotlib.font_manager:findfont: score(FontEntry(fname='/home/cadegord/miniconda3/envs/bio-if/lib/python3.9/site-packages/matplotlib/mpl-data/fonts/ttf/STIXSizTwoSymBol.ttf', name='STIXSizeTwoSym', style='normal', variant='normal', weight=700, stretch='normal', size='scalable')) = 10.335\n",
      "DEBUG:matplotlib.font_manager:findfont: score(FontEntry(fname='/home/cadegord/miniconda3/envs/bio-if/lib/python3.9/site-packages/matplotlib/mpl-data/fonts/ttf/STIXSizFiveSymReg.ttf', name='STIXSizeFiveSym', style='normal', variant='normal', weight=400, stretch='normal', size='scalable')) = 10.05\n",
      "DEBUG:matplotlib.font_manager:findfont: score(FontEntry(fname='/home/cadegord/miniconda3/envs/bio-if/lib/python3.9/site-packages/matplotlib/mpl-data/fonts/ttf/cmss10.ttf', name='cmss10', style='normal', variant='normal', weight=400, stretch='normal', size='scalable')) = 10.05\n",
      "DEBUG:matplotlib.font_manager:findfont: score(FontEntry(fname='/home/cadegord/miniconda3/envs/bio-if/lib/python3.9/site-packages/matplotlib/mpl-data/fonts/ttf/cmsy10.ttf', name='cmsy10', style='normal', variant='normal', weight=400, stretch='normal', size='scalable')) = 10.05\n",
      "DEBUG:matplotlib.font_manager:findfont: score(FontEntry(fname='/home/cadegord/miniconda3/envs/bio-if/lib/python3.9/site-packages/matplotlib/mpl-data/fonts/ttf/STIXNonUniBolIta.ttf', name='STIXNonUnicode', style='italic', variant='normal', weight=700, stretch='normal', size='scalable')) = 11.335\n",
      "DEBUG:matplotlib.font_manager:findfont: score(FontEntry(fname='/home/cadegord/miniconda3/envs/bio-if/lib/python3.9/site-packages/matplotlib/mpl-data/fonts/ttf/STIXSizTwoSymReg.ttf', name='STIXSizeTwoSym', style='normal', variant='normal', weight=400, stretch='normal', size='scalable')) = 10.05\n",
      "DEBUG:matplotlib.font_manager:findfont: score(FontEntry(fname='/home/cadegord/miniconda3/envs/bio-if/lib/python3.9/site-packages/matplotlib/mpl-data/fonts/ttf/STIXSizThreeSymReg.ttf', name='STIXSizeThreeSym', style='normal', variant='normal', weight=400, stretch='normal', size='scalable')) = 10.05\n",
      "DEBUG:matplotlib.font_manager:findfont: score(FontEntry(fname='/home/cadegord/miniconda3/envs/bio-if/lib/python3.9/site-packages/matplotlib/mpl-data/fonts/ttf/STIXSizOneSymReg.ttf', name='STIXSizeOneSym', style='normal', variant='normal', weight=400, stretch='normal', size='scalable')) = 10.05\n",
      "DEBUG:matplotlib.font_manager:findfont: score(FontEntry(fname='/home/cadegord/miniconda3/envs/bio-if/lib/python3.9/site-packages/matplotlib/mpl-data/fonts/ttf/DejaVuSerif.ttf', name='DejaVu Serif', style='normal', variant='normal', weight=400, stretch='normal', size='scalable')) = 10.05\n",
      "DEBUG:matplotlib.font_manager:findfont: score(FontEntry(fname='/home/cadegord/miniconda3/envs/bio-if/lib/python3.9/site-packages/matplotlib/mpl-data/fonts/ttf/STIXGeneralBolIta.ttf', name='STIXGeneral', style='italic', variant='normal', weight=700, stretch='normal', size='scalable')) = 11.335\n",
      "DEBUG:matplotlib.font_manager:findfont: score(FontEntry(fname='/home/cadegord/miniconda3/envs/bio-if/lib/python3.9/site-packages/matplotlib/mpl-data/fonts/ttf/cmb10.ttf', name='cmb10', style='normal', variant='normal', weight=400, stretch='normal', size='scalable')) = 10.05\n",
      "DEBUG:matplotlib.font_manager:findfont: score(FontEntry(fname='/home/cadegord/miniconda3/envs/bio-if/lib/python3.9/site-packages/matplotlib/mpl-data/fonts/ttf/DejaVuSansMono-Oblique.ttf', name='DejaVu Sans Mono', style='oblique', variant='normal', weight=400, stretch='normal', size='scalable')) = 11.05\n",
      "DEBUG:matplotlib.font_manager:findfont: score(FontEntry(fname='/home/cadegord/miniconda3/envs/bio-if/lib/python3.9/site-packages/matplotlib/mpl-data/fonts/ttf/DejaVuSerifDisplay.ttf', name='DejaVu Serif Display', style='normal', variant='normal', weight=400, stretch='normal', size='scalable')) = 10.05\n",
      "DEBUG:matplotlib.font_manager:findfont: score(FontEntry(fname='/home/cadegord/miniconda3/envs/bio-if/lib/python3.9/site-packages/matplotlib/mpl-data/fonts/ttf/STIXGeneral.ttf', name='STIXGeneral', style='normal', variant='normal', weight=400, stretch='normal', size='scalable')) = 10.05\n",
      "DEBUG:matplotlib.font_manager:findfont: score(FontEntry(fname='/home/cadegord/miniconda3/envs/bio-if/lib/python3.9/site-packages/matplotlib/mpl-data/fonts/ttf/STIXSizOneSymBol.ttf', name='STIXSizeOneSym', style='normal', variant='normal', weight=700, stretch='normal', size='scalable')) = 10.335\n",
      "DEBUG:matplotlib.font_manager:findfont: score(FontEntry(fname='/home/cadegord/miniconda3/envs/bio-if/lib/python3.9/site-packages/matplotlib/mpl-data/fonts/ttf/STIXNonUniBol.ttf', name='STIXNonUnicode', style='normal', variant='normal', weight=700, stretch='normal', size='scalable')) = 10.335\n",
      "DEBUG:matplotlib.font_manager:findfont: score(FontEntry(fname='/home/cadegord/miniconda3/envs/bio-if/lib/python3.9/site-packages/matplotlib/mpl-data/fonts/ttf/DejaVuSansMono-Bold.ttf', name='DejaVu Sans Mono', style='normal', variant='normal', weight=700, stretch='normal', size='scalable')) = 10.335\n",
      "DEBUG:matplotlib.font_manager:findfont: score(FontEntry(fname='/home/cadegord/miniconda3/envs/bio-if/lib/python3.9/site-packages/matplotlib/mpl-data/fonts/ttf/STIXSizFourSymReg.ttf', name='STIXSizeFourSym', style='normal', variant='normal', weight=400, stretch='normal', size='scalable')) = 10.05\n",
      "DEBUG:matplotlib.font_manager:findfont: score(FontEntry(fname='/home/cadegord/miniconda3/envs/bio-if/lib/python3.9/site-packages/matplotlib/mpl-data/fonts/ttf/DejaVuSansMono-BoldOblique.ttf', name='DejaVu Sans Mono', style='oblique', variant='normal', weight=700, stretch='normal', size='scalable')) = 11.335\n",
      "DEBUG:matplotlib.font_manager:findfont: score(FontEntry(fname='/home/cadegord/miniconda3/envs/bio-if/lib/python3.9/site-packages/matplotlib/mpl-data/fonts/ttf/DejaVuSerif-Italic.ttf', name='DejaVu Serif', style='italic', variant='normal', weight=400, stretch='normal', size='scalable')) = 11.05\n",
      "DEBUG:matplotlib.font_manager:findfont: score(FontEntry(fname='/home/cadegord/miniconda3/envs/bio-if/lib/python3.9/site-packages/matplotlib/mpl-data/fonts/ttf/DejaVuSans-Oblique.ttf', name='DejaVu Sans', style='oblique', variant='normal', weight=400, stretch='normal', size='scalable')) = 1.05\n",
      "DEBUG:matplotlib.font_manager:findfont: score(FontEntry(fname='/home/cadegord/miniconda3/envs/bio-if/lib/python3.9/site-packages/matplotlib/mpl-data/fonts/ttf/DejaVuSerif-Bold.ttf', name='DejaVu Serif', style='normal', variant='normal', weight=700, stretch='normal', size='scalable')) = 10.335\n",
      "DEBUG:matplotlib.font_manager:findfont: score(FontEntry(fname='/home/cadegord/miniconda3/envs/bio-if/lib/python3.9/site-packages/matplotlib/mpl-data/fonts/ttf/STIXNonUni.ttf', name='STIXNonUnicode', style='normal', variant='normal', weight=400, stretch='normal', size='scalable')) = 10.05\n",
      "DEBUG:matplotlib.font_manager:findfont: score(FontEntry(fname='/home/cadegord/miniconda3/envs/bio-if/lib/python3.9/site-packages/matplotlib/mpl-data/fonts/ttf/STIXNonUniIta.ttf', name='STIXNonUnicode', style='italic', variant='normal', weight=400, stretch='normal', size='scalable')) = 11.05\n",
      "DEBUG:matplotlib.font_manager:findfont: score(FontEntry(fname='/home/cadegord/miniconda3/envs/bio-if/lib/python3.9/site-packages/matplotlib/mpl-data/fonts/ttf/STIXGeneralBol.ttf', name='STIXGeneral', style='normal', variant='normal', weight=700, stretch='normal', size='scalable')) = 10.335\n",
      "DEBUG:matplotlib.font_manager:findfont: score(FontEntry(fname='/home/cadegord/miniconda3/envs/bio-if/lib/python3.9/site-packages/matplotlib/mpl-data/fonts/ttf/DejaVuSerif-BoldItalic.ttf', name='DejaVu Serif', style='italic', variant='normal', weight=700, stretch='normal', size='scalable')) = 11.335\n",
      "DEBUG:matplotlib.font_manager:findfont: score(FontEntry(fname='/home/cadegord/miniconda3/envs/bio-if/lib/python3.9/site-packages/matplotlib/mpl-data/fonts/ttf/STIXGeneralItalic.ttf', name='STIXGeneral', style='italic', variant='normal', weight=400, stretch='normal', size='scalable')) = 11.05\n",
      "DEBUG:matplotlib.font_manager:findfont: score(FontEntry(fname='/home/cadegord/miniconda3/envs/bio-if/lib/python3.9/site-packages/matplotlib/mpl-data/fonts/ttf/cmtt10.ttf', name='cmtt10', style='normal', variant='normal', weight=400, stretch='normal', size='scalable')) = 10.05\n",
      "DEBUG:matplotlib.font_manager:findfont: score(FontEntry(fname='/home/cadegord/miniconda3/envs/bio-if/lib/python3.9/site-packages/matplotlib/mpl-data/fonts/ttf/DejaVuSansDisplay.ttf', name='DejaVu Sans Display', style='normal', variant='normal', weight=400, stretch='normal', size='scalable')) = 10.05\n",
      "DEBUG:matplotlib.font_manager:findfont: score(FontEntry(fname='/home/cadegord/miniconda3/envs/bio-if/lib/python3.9/site-packages/matplotlib/mpl-data/fonts/ttf/DejaVuSans-BoldOblique.ttf', name='DejaVu Sans', style='oblique', variant='normal', weight=700, stretch='normal', size='scalable')) = 1.335\n",
      "DEBUG:matplotlib.font_manager:findfont: score(FontEntry(fname='/home/cadegord/miniconda3/envs/bio-if/lib/python3.9/site-packages/matplotlib/mpl-data/fonts/ttf/cmr10.ttf', name='cmr10', style='normal', variant='normal', weight=400, stretch='normal', size='scalable')) = 10.05\n",
      "DEBUG:matplotlib.font_manager:findfont: score(FontEntry(fname='/home/cadegord/miniconda3/envs/bio-if/lib/python3.9/site-packages/matplotlib/mpl-data/fonts/ttf/STIXSizThreeSymBol.ttf', name='STIXSizeThreeSym', style='normal', variant='normal', weight=700, stretch='normal', size='scalable')) = 10.335\n",
      "DEBUG:matplotlib.font_manager:findfont: score(FontEntry(fname='/home/cadegord/miniconda3/envs/bio-if/lib/python3.9/site-packages/matplotlib/mpl-data/fonts/ttf/DejaVuSansMono.ttf', name='DejaVu Sans Mono', style='normal', variant='normal', weight=400, stretch='normal', size='scalable')) = 10.05\n",
      "DEBUG:matplotlib.font_manager:findfont: score(FontEntry(fname='/home/cadegord/miniconda3/envs/bio-if/lib/python3.9/site-packages/matplotlib/mpl-data/fonts/ttf/DejaVuSans.ttf', name='DejaVu Sans', style='normal', variant='normal', weight=400, stretch='normal', size='scalable')) = 0.05\n",
      "DEBUG:matplotlib.font_manager:findfont: score(FontEntry(fname='/usr/share/fonts/truetype/liberation/LiberationMono-Regular.ttf', name='Liberation Mono', style='normal', variant='normal', weight=400, stretch='normal', size='scalable')) = 10.05\n",
      "DEBUG:matplotlib.font_manager:findfont: score(FontEntry(fname='/usr/share/fonts/truetype/lyx/cmex10.ttf', name='cmex10', style='normal', variant='normal', weight=400, stretch='normal', size='scalable')) = 10.05\n",
      "DEBUG:matplotlib.font_manager:findfont: score(FontEntry(fname='/usr/share/fonts/truetype/liberation/LiberationMono-Bold.ttf', name='Liberation Mono', style='normal', variant='normal', weight=700, stretch='normal', size='scalable')) = 10.335\n",
      "DEBUG:matplotlib.font_manager:findfont: score(FontEntry(fname='/usr/share/fonts/truetype/lyx/msbm10.ttf', name='msbm10', style='normal', variant='normal', weight=400, stretch='normal', size='scalable')) = 10.05\n",
      "DEBUG:matplotlib.font_manager:findfont: score(FontEntry(fname='/usr/share/fonts/truetype/dejavu/DejaVuSansMono.ttf', name='DejaVu Sans Mono', style='normal', variant='normal', weight=400, stretch='normal', size='scalable')) = 10.05\n",
      "DEBUG:matplotlib.font_manager:findfont: score(FontEntry(fname='/usr/share/fonts/truetype/dejavu/DejaVuSerif-Bold.ttf', name='DejaVu Serif', style='normal', variant='normal', weight=700, stretch='normal', size='scalable')) = 10.335\n",
      "DEBUG:matplotlib.font_manager:findfont: score(FontEntry(fname='/usr/share/fonts/truetype/liberation/LiberationSans-BoldItalic.ttf', name='Liberation Sans', style='italic', variant='normal', weight=700, stretch='normal', size='scalable')) = 11.335\n",
      "DEBUG:matplotlib.font_manager:findfont: score(FontEntry(fname='/usr/share/fonts/truetype/liberation/LiberationSansNarrow-Bold.ttf', name='Liberation Sans Narrow', style='normal', variant='normal', weight=700, stretch='condensed', size='scalable')) = 10.535\n",
      "DEBUG:matplotlib.font_manager:findfont: score(FontEntry(fname='/usr/share/fonts/truetype/lyx/esint10.ttf', name='esint10', style='normal', variant='normal', weight=400, stretch='normal', size='scalable')) = 10.05\n",
      "DEBUG:matplotlib.font_manager:findfont: score(FontEntry(fname='/usr/share/fonts/truetype/liberation/LiberationMono-Italic.ttf', name='Liberation Mono', style='italic', variant='normal', weight=400, stretch='normal', size='scalable')) = 11.05\n",
      "DEBUG:matplotlib.font_manager:findfont: score(FontEntry(fname='/usr/share/fonts/truetype/liberation/LiberationSerif-Regular.ttf', name='Liberation Serif', style='normal', variant='normal', weight=400, stretch='normal', size='scalable')) = 10.05\n",
      "DEBUG:matplotlib.font_manager:findfont: score(FontEntry(fname='/usr/share/fonts/truetype/lyx/eufm10.ttf', name='eufm10', style='normal', variant='normal', weight=400, stretch='normal', size='scalable')) = 10.05\n",
      "DEBUG:matplotlib.font_manager:findfont: score(FontEntry(fname='/usr/share/fonts/truetype/liberation/LiberationSans-Italic.ttf', name='Liberation Sans', style='italic', variant='normal', weight=400, stretch='normal', size='scalable')) = 11.05\n",
      "DEBUG:matplotlib.font_manager:findfont: score(FontEntry(fname='/usr/share/fonts/truetype/liberation/LiberationSans-Regular.ttf', name='Liberation Sans', style='normal', variant='normal', weight=400, stretch='normal', size='scalable')) = 10.05\n",
      "DEBUG:matplotlib.font_manager:findfont: score(FontEntry(fname='/usr/share/fonts/truetype/lyx/stmary10.ttf', name='stmary10', style='normal', variant='normal', weight=400, stretch='normal', size='scalable')) = 10.05\n",
      "DEBUG:matplotlib.font_manager:findfont: score(FontEntry(fname='/usr/share/fonts/truetype/dejavu/DejaVuSans-Bold.ttf', name='DejaVu Sans', style='normal', variant='normal', weight=700, stretch='normal', size='scalable')) = 0.33499999999999996\n",
      "DEBUG:matplotlib.font_manager:findfont: score(FontEntry(fname='/usr/share/fonts/truetype/lyx/dsrom10.ttf', name='dsrom10', style='normal', variant='normal', weight=400, stretch='normal', size='scalable')) = 10.05\n",
      "DEBUG:matplotlib.font_manager:findfont: score(FontEntry(fname='/usr/share/fonts/truetype/liberation/LiberationSerif-BoldItalic.ttf', name='Liberation Serif', style='italic', variant='normal', weight=700, stretch='normal', size='scalable')) = 11.335\n",
      "DEBUG:matplotlib.font_manager:findfont: score(FontEntry(fname='/usr/share/fonts/truetype/lyx/cmr10.ttf', name='cmr10', style='normal', variant='normal', weight=400, stretch='normal', size='scalable')) = 10.05\n",
      "DEBUG:matplotlib.font_manager:findfont: score(FontEntry(fname='/usr/share/fonts/truetype/dejavu/DejaVuSerif.ttf', name='DejaVu Serif', style='normal', variant='normal', weight=400, stretch='normal', size='scalable')) = 10.05\n",
      "DEBUG:matplotlib.font_manager:findfont: score(FontEntry(fname='/usr/share/fonts/truetype/dejavu/DejaVuSansMono-Bold.ttf', name='DejaVu Sans Mono', style='normal', variant='normal', weight=700, stretch='normal', size='scalable')) = 10.335\n",
      "DEBUG:matplotlib.font_manager:findfont: score(FontEntry(fname='/usr/share/fonts/truetype/liberation/LiberationSansNarrow-Italic.ttf', name='Liberation Sans Narrow', style='italic', variant='normal', weight=400, stretch='condensed', size='scalable')) = 11.25\n",
      "DEBUG:matplotlib.font_manager:findfont: score(FontEntry(fname='/usr/share/fonts/truetype/lyx/cmsy10.ttf', name='cmsy10', style='normal', variant='normal', weight=400, stretch='normal', size='scalable')) = 10.05\n",
      "DEBUG:matplotlib.font_manager:findfont: score(FontEntry(fname='/usr/share/fonts/truetype/liberation/LiberationSansNarrow-Regular.ttf', name='Liberation Sans Narrow', style='normal', variant='normal', weight=400, stretch='condensed', size='scalable')) = 10.25\n",
      "DEBUG:matplotlib.font_manager:findfont: score(FontEntry(fname='/usr/share/fonts/truetype/lyx/msam10.ttf', name='msam10', style='normal', variant='normal', weight=400, stretch='normal', size='scalable')) = 10.05\n",
      "DEBUG:matplotlib.font_manager:findfont: score(FontEntry(fname='/usr/share/fonts/truetype/lyx/wasy10.ttf', name='wasy10', style='normal', variant='normal', weight=400, stretch='normal', size='scalable')) = 10.05\n",
      "DEBUG:matplotlib.font_manager:findfont: score(FontEntry(fname='/usr/share/fonts/truetype/lyx/rsfs10.ttf', name='rsfs10', style='italic', variant='normal', weight=400, stretch='normal', size='scalable')) = 11.05\n",
      "DEBUG:matplotlib.font_manager:findfont: score(FontEntry(fname='/usr/share/fonts/truetype/lyx/cmmi10.ttf', name='cmmi10', style='normal', variant='normal', weight=400, stretch='normal', size='scalable')) = 10.05\n",
      "DEBUG:matplotlib.font_manager:findfont: score(FontEntry(fname='/usr/share/fonts/truetype/liberation/LiberationSansNarrow-BoldItalic.ttf', name='Liberation Sans Narrow', style='italic', variant='normal', weight=700, stretch='condensed', size='scalable')) = 11.535\n",
      "DEBUG:matplotlib.font_manager:findfont: score(FontEntry(fname='/usr/share/fonts/truetype/liberation/LiberationSerif-Bold.ttf', name='Liberation Serif', style='normal', variant='normal', weight=700, stretch='normal', size='scalable')) = 10.335\n",
      "DEBUG:matplotlib.font_manager:findfont: score(FontEntry(fname='/usr/share/fonts/truetype/liberation/LiberationSans-Bold.ttf', name='Liberation Sans', style='normal', variant='normal', weight=700, stretch='normal', size='scalable')) = 10.335\n",
      "DEBUG:matplotlib.font_manager:findfont: score(FontEntry(fname='/usr/share/fonts/truetype/liberation/LiberationSerif-Italic.ttf', name='Liberation Serif', style='italic', variant='normal', weight=400, stretch='normal', size='scalable')) = 11.05\n",
      "DEBUG:matplotlib.font_manager:findfont: score(FontEntry(fname='/usr/share/fonts/truetype/liberation/LiberationMono-BoldItalic.ttf', name='Liberation Mono', style='italic', variant='normal', weight=700, stretch='normal', size='scalable')) = 11.335\n",
      "DEBUG:matplotlib.font_manager:findfont: score(FontEntry(fname='/usr/share/fonts/truetype/dejavu/DejaVuSans.ttf', name='DejaVu Sans', style='normal', variant='normal', weight=400, stretch='normal', size='scalable')) = 0.05\n",
      "DEBUG:matplotlib.font_manager:findfont: Matching sans\\-serif:style=normal:variant=normal:weight=normal:stretch=normal:size=10.0 to DejaVu Sans ('/home/cadegord/miniconda3/envs/bio-if/lib/python3.9/site-packages/matplotlib/mpl-data/fonts/ttf/DejaVuSans.ttf') with score of 0.050000.\n"
     ]
    },
    {
     "data": {
      "text/plain": [
       "Text(0, 0.5, 'Frequency')"
      ]
     },
     "execution_count": 6,
     "metadata": {},
     "output_type": "execute_result"
    },
    {
     "data": {
      "image/png": "[encoded data removed]",
      "text/plain": [
       "<Figure size 640x480 with 1 Axes>"
      ]
     },
     "metadata": {},
     "output_type": "display_data"
    }
   ],
   "source": [
    "plt.hist([len(seq) for seq in seqs], bins=100)\n",
    "plt.xlabel('Sequence length')\n",
    "plt.ylabel('Frequency')"
   ]
  },
  {
   "cell_type": "code",
   "execution_count": 7,
   "metadata": {},
   "outputs": [
    {
     "data": {
      "application/vnd.jupyter.widget-view+json": {
       "model_id": "b24248bdef714cd6a217360815609f06",
       "version_major": 2,
       "version_minor": 0
      },
      "text/plain": [
       "Map:   0%|          | 0/2331 [00:00<?, ? examples/s]"
      ]
     },
     "metadata": {},
     "output_type": "display_data"
    }
   ],
   "source": [
    "ds = Dataset.from_dict({'seq': [seq[:256] for seq in seqs]})\n",
    "ds = ds.map(lambda x: tokenizer(x['seq'], padding='max_length', truncation=True, max_length=256, return_tensors='pt'), batched=True)"
   ]
  },
  {
   "cell_type": "code",
   "execution_count": 8,
   "metadata": {},
   "outputs": [
    {
     "data": {
      "text/plain": [
       "Dataset({\n",
       "    features: ['seq', 'input_ids', 'attention_mask'],\n",
       "    num_rows: 2331\n",
       "})"
      ]
     },
     "execution_count": 8,
     "metadata": {},
     "output_type": "execute_result"
    }
   ],
   "source": [
    "ds"
   ]
  },
  {
   "cell_type": "code",
   "execution_count": 9,
   "metadata": {},
   "outputs": [],
   "source": [
    "from kronfluence import Analyzer, prepare_model\n",
    "from kronfluence.task import Task\n",
    "from kronfluence.utils.dataset import DataLoaderKwargs"
   ]
  },
  {
   "cell_type": "code",
   "execution_count": 10,
   "metadata": {},
   "outputs": [],
   "source": [
    "from typing import Dict, Optional\n",
    "\n",
    "BATCH_TYPE = Dict[str, torch.Tensor]\n",
    "\n",
    "class MLMTask(Task):\n",
    "    def compute_train_loss(\n",
    "        self,\n",
    "        batch: BATCH_TYPE,\n",
    "        model: nn.Module,\n",
    "        sample: bool = False,\n",
    "    ) -> torch.Tensor:\n",
    "        logits = model(\n",
    "            input_ids=batch[\"input_ids\"],\n",
    "            attention_mask=batch[\"attention_mask\"],\n",
    "        ).logits\n",
    "\n",
    "        if not sample:\n",
    "            return (F.cross_entropy(logits.transpose(1,2), batch[\"input_ids\"], reduction='none') * batch[\"attention_mask\"]).sum()\n",
    "        with torch.no_grad():\n",
    "            sampled_labels = torch.distributions.Categorical(logits=logits).sample()\n",
    "        return (F.cross_entropy(logits.transpose(1,2), sampled_labels.detach(), reduction='none') * batch[\"attention_mask\"]).sum()\n",
    "\n",
    "    def compute_measurement(\n",
    "        self,\n",
    "        batch: BATCH_TYPE,\n",
    "        model: nn.Module,\n",
    "    ) -> torch.Tensor:\n",
    "        # Copied from: https://github.com/MadryLab/trak/blob/main/trak/modelout_functions.py.\n",
    "        logits = model(\n",
    "            input_ids=batch[\"input_ids\"],\n",
    "            attention_mask=batch[\"attention_mask\"],\n",
    "        ).logits\n",
    "\n",
    "        labels = batch[\"input_ids\"]\n",
    "        logits_correct = logits.view(-1, logits.size(-1))\n",
    "        logits_correct = logits_correct[torch.arange(len(labels.view(-1))), labels.view(-1)]\n",
    "        logits_correct = logits_correct.view(*labels.size())\n",
    "\n",
    "        cloned_logits = logits.clone()\n",
    "        cloned_logits = cloned_logits.view(-1, cloned_logits.size(-1))\n",
    "        cloned_logits[torch.arange(len(labels.view(-1))), labels.view(-1)] = float(\"-inf\")\n",
    "        cloned_logits = cloned_logits.view(*logits.size())\n",
    "\n",
    "        margins = logits_correct - cloned_logits.logsumexp(dim=-1)\n",
    "        margins = margins * batch[\"attention_mask\"]\n",
    "        return -margins.sum()\n",
    "\n",
    "    def get_attention_mask(self, batch: BATCH_TYPE) -> Optional[torch.Tensor]:\n",
    "        return batch[\"attention_mask\"]"
   ]
  },
  {
   "cell_type": "code",
   "execution_count": 11,
   "metadata": {},
   "outputs": [],
   "source": [
    "task = MLMTask()\n",
    "model = prepare_model(model, task)"
   ]
  },
  {
   "cell_type": "code",
   "execution_count": 12,
   "metadata": {},
   "outputs": [
    {
     "name": "stderr",
     "output_type": "stream",
     "text": [
      "INFO:kronfluence.computer.computer:Tracking modules with names: ['esm.encoder.layer.0.attention.self.query', 'esm.encoder.layer.0.attention.self.key', 'esm.encoder.layer.0.attention.self.value', 'esm.encoder.layer.0.attention.output.dense', 'esm.encoder.layer.0.intermediate.dense', 'esm.encoder.layer.0.output.dense', 'esm.encoder.layer.1.attention.self.query', 'esm.encoder.layer.1.attention.self.key', 'esm.encoder.layer.1.attention.self.value', 'esm.encoder.layer.1.attention.output.dense', 'esm.encoder.layer.1.intermediate.dense', 'esm.encoder.layer.1.output.dense', 'esm.encoder.layer.2.attention.self.query', 'esm.encoder.layer.2.attention.self.key', 'esm.encoder.layer.2.attention.self.value', 'esm.encoder.layer.2.attention.output.dense', 'esm.encoder.layer.2.intermediate.dense', 'esm.encoder.layer.2.output.dense', 'esm.encoder.layer.3.attention.self.query', 'esm.encoder.layer.3.attention.self.key', 'esm.encoder.layer.3.attention.self.value', 'esm.encoder.layer.3.attention.output.dense', 'esm.encoder.layer.3.intermediate.dense', 'esm.encoder.layer.3.output.dense', 'esm.encoder.layer.4.attention.self.query', 'esm.encoder.layer.4.attention.self.key', 'esm.encoder.layer.4.attention.self.value', 'esm.encoder.layer.4.attention.output.dense', 'esm.encoder.layer.4.intermediate.dense', 'esm.encoder.layer.4.output.dense', 'esm.encoder.layer.5.attention.self.query', 'esm.encoder.layer.5.attention.self.key', 'esm.encoder.layer.5.attention.self.value', 'esm.encoder.layer.5.attention.output.dense', 'esm.encoder.layer.5.intermediate.dense', 'esm.encoder.layer.5.output.dense', 'esm.encoder.layer.6.attention.self.query', 'esm.encoder.layer.6.attention.self.key', 'esm.encoder.layer.6.attention.self.value', 'esm.encoder.layer.6.attention.output.dense', 'esm.encoder.layer.6.intermediate.dense', 'esm.encoder.layer.6.output.dense', 'esm.encoder.layer.7.attention.self.query', 'esm.encoder.layer.7.attention.self.key', 'esm.encoder.layer.7.attention.self.value', 'esm.encoder.layer.7.attention.output.dense', 'esm.encoder.layer.7.intermediate.dense', 'esm.encoder.layer.7.output.dense', 'esm.encoder.layer.8.attention.self.query', 'esm.encoder.layer.8.attention.self.key', 'esm.encoder.layer.8.attention.self.value', 'esm.encoder.layer.8.attention.output.dense', 'esm.encoder.layer.8.intermediate.dense', 'esm.encoder.layer.8.output.dense', 'esm.encoder.layer.9.attention.self.query', 'esm.encoder.layer.9.attention.self.key', 'esm.encoder.layer.9.attention.self.value', 'esm.encoder.layer.9.attention.output.dense', 'esm.encoder.layer.9.intermediate.dense', 'esm.encoder.layer.9.output.dense', 'esm.encoder.layer.10.attention.self.query', 'esm.encoder.layer.10.attention.self.key', 'esm.encoder.layer.10.attention.self.value', 'esm.encoder.layer.10.attention.output.dense', 'esm.encoder.layer.10.intermediate.dense', 'esm.encoder.layer.10.output.dense', 'esm.encoder.layer.11.attention.self.query', 'esm.encoder.layer.11.attention.self.key', 'esm.encoder.layer.11.attention.self.value', 'esm.encoder.layer.11.attention.output.dense', 'esm.encoder.layer.11.intermediate.dense', 'esm.encoder.layer.11.output.dense', 'lm_head.dense', 'lm_head.decoder'].\n",
      "INFO:kronfluence.computer.computer:Initializing Computer with parameters: {'self': <kronfluence.analyzer.Analyzer object at 0x7f25e716d9a0>, 'analysis_name': 'esm2_t12_35M_UR50D_benchmarking', 'model': EsmForMaskedLM(\n",
      "  (esm): EsmModel(\n",
      "    (embeddings): EsmEmbeddings(\n",
      "      (word_embeddings): Embedding(33, 480, padding_idx=1)\n",
      "      (dropout): Dropout(p=0.0, inplace=False)\n",
      "      (position_embeddings): Embedding(1026, 480, padding_idx=1)\n",
      "    )\n",
      "    (encoder): EsmEncoder(\n",
      "      (layer): ModuleList(\n",
      "        (0-11): 12 x EsmLayer(\n",
      "          (attention): EsmAttention(\n",
      "            (self): EsmSelfAttention(\n",
      "              (query): TrackedLinear(\n",
      "                (original_module): Linear(in_features=480, out_features=480, bias=True)\n",
      "              )\n",
      "              (key): TrackedLinear(\n",
      "                (original_module): Linear(in_features=480, out_features=480, bias=True)\n",
      "              )\n",
      "              (value): TrackedLinear(\n",
      "                (original_module): Linear(in_features=480, out_features=480, bias=True)\n",
      "              )\n",
      "              (dropout): Dropout(p=0.0, inplace=False)\n",
      "              (rotary_embeddings): RotaryEmbedding()\n",
      "            )\n",
      "            (output): EsmSelfOutput(\n",
      "              (dense): TrackedLinear(\n",
      "                (original_module): Linear(in_features=480, out_features=480, bias=True)\n",
      "              )\n",
      "              (dropout): Dropout(p=0.0, inplace=False)\n",
      "            )\n",
      "            (LayerNorm): LayerNorm((480,), eps=1e-05, elementwise_affine=True)\n",
      "          )\n",
      "          (intermediate): EsmIntermediate(\n",
      "            (dense): TrackedLinear(\n",
      "              (original_module): Linear(in_features=480, out_features=1920, bias=True)\n",
      "            )\n",
      "          )\n",
      "          (output): EsmOutput(\n",
      "            (dense): TrackedLinear(\n",
      "              (original_module): Linear(in_features=1920, out_features=480, bias=True)\n",
      "            )\n",
      "            (dropout): Dropout(p=0.0, inplace=False)\n",
      "          )\n",
      "          (LayerNorm): LayerNorm((480,), eps=1e-05, elementwise_affine=True)\n",
      "        )\n",
      "      )\n",
      "      (emb_layer_norm_after): LayerNorm((480,), eps=1e-05, elementwise_affine=True)\n",
      "    )\n",
      "  )\n",
      "  (lm_head): EsmLMHead(\n",
      "    (dense): TrackedLinear(\n",
      "      (original_module): Linear(in_features=480, out_features=480, bias=True)\n",
      "    )\n",
      "    (layer_norm): LayerNorm((480,), eps=1e-05, elementwise_affine=True)\n",
      "    (decoder): TrackedLinear(\n",
      "      (original_module): Linear(in_features=480, out_features=33, bias=False)\n",
      "    )\n",
      "  )\n",
      "), 'task': <__main__.MLMTask object at 0x7f25e71f1220>, 'cpu': False, 'log_level': None, 'log_main_process_only': True, 'profile': False, 'output_dir': './analyses', 'disable_model_save': True, '__class__': <class 'kronfluence.analyzer.Analyzer'>}\n",
      "DEBUG:kronfluence.computer.computer:Process state configuration:\n",
      "Num processes: 1\n",
      "Process index: 0\n",
      "Local process index: 0\n",
      "Device: cuda\n",
      "\n"
     ]
    }
   ],
   "source": [
    "analyzer = Analyzer(\n",
    "    analysis_name=f\"esm2_t12_35M_UR50D_benchmarking\",\n",
    "    task=task,\n",
    "    model=model,\n",
    "    cpu=False,\n",
    ")\n",
    "dataloader_kwargs = DataLoaderKwargs(collate_fn=default_data_collator)\n",
    "analyzer.set_dataloader_kwargs(dataloader_kwargs)"
   ]
  },
  {
   "cell_type": "code",
   "execution_count": 13,
   "metadata": {},
   "outputs": [
    {
     "name": "stderr",
     "output_type": "stream",
     "text": [
      "DEBUG:kronfluence.computer.computer:Fitting covariance matrices with parameters: {'self': <kronfluence.analyzer.Analyzer object at 0x7f25e716d9a0>, 'factors_name': 'esm2_t12_35M_UR50D_benchmarking', 'dataset': Dataset({\n",
      "    features: ['seq', 'input_ids', 'attention_mask'],\n",
      "    num_rows: 256\n",
      "}), 'per_device_batch_size': None, 'initial_per_device_batch_size_attempt': 512, 'dataloader_kwargs': None, 'factor_args': None, 'target_data_partitions': None, 'target_module_partitions': None, 'overwrite_output_dir': False}\n",
      "INFO:kronfluence.computer.computer:Found existing covariance matrices at `/home/cadegord/projects/bio-if/private/esm2-if/analyses/esm2_t12_35M_UR50D_benchmarking/factors_esm2_t12_35M_UR50D_benchmarking`. Skipping.\n",
      "DEBUG:kronfluence.computer.computer:Performing Eigendecomposition with parameters: {'self': <kronfluence.analyzer.Analyzer object at 0x7f25e716d9a0>, 'factors_name': 'esm2_t12_35M_UR50D_benchmarking', 'factor_args': None, 'overwrite_output_dir': False, 'load_from_factors_name': None}\n",
      "INFO:kronfluence.computer.computer:Found existing Eigendecomposition results at `/home/cadegord/projects/bio-if/private/esm2-if/analyses/esm2_t12_35M_UR50D_benchmarking/factors_esm2_t12_35M_UR50D_benchmarking`. Skipping.\n",
      "DEBUG:kronfluence.computer.computer:Fitting Lambda matrices with parameters: {'self': <kronfluence.analyzer.Analyzer object at 0x7f25e716d9a0>, 'factors_name': 'esm2_t12_35M_UR50D_benchmarking', 'dataset': Dataset({\n",
      "    features: ['seq', 'input_ids', 'attention_mask'],\n",
      "    num_rows: 256\n",
      "}), 'per_device_batch_size': None, 'initial_per_device_batch_size_attempt': 512, 'dataloader_kwargs': None, 'factor_args': None, 'target_data_partitions': None, 'target_module_partitions': None, 'overwrite_output_dir': False, 'load_from_factors_name': None}\n",
      "INFO:kronfluence.computer.computer:Found existing Lambda matrices at `/home/cadegord/projects/bio-if/private/esm2-if/analyses/esm2_t12_35M_UR50D_benchmarking/factors_esm2_t12_35M_UR50D_benchmarking`. Skipping.\n"
     ]
    }
   ],
   "source": [
    "analyzer.fit_all_factors(\n",
    "    factors_name=\"esm2_t12_35M_UR50D_benchmarking\",\n",
    "    dataset=Dataset.from_dict(ds[:256]),\n",
    "    # dataset=ds,\n",
    "    per_device_batch_size=None,\n",
    "    overwrite_output_dir=False,\n",
    "    initial_per_device_batch_size_attempt=512,\n",
    ")"
   ]
  },
  {
   "cell_type": "code",
   "execution_count": 14,
   "metadata": {},
   "outputs": [
    {
     "name": "stderr",
     "output_type": "stream",
     "text": [
      "DEBUG:kronfluence.computer.computer:Computing pairwise scores with parameters: {'self': <kronfluence.analyzer.Analyzer object at 0x7f25e716d9a0>, 'scores_name': 'esm2_t12_35M_UR50D_benchmarking', 'factors_name': 'esm2_t12_35M_UR50D_benchmarking', 'query_dataset': Dataset({\n",
      "    features: ['seq', 'input_ids', 'attention_mask'],\n",
      "    num_rows: 256\n",
      "}), 'train_dataset': Dataset({\n",
      "    features: ['seq', 'input_ids', 'attention_mask'],\n",
      "    num_rows: 256\n",
      "}), 'per_device_query_batch_size': 16, 'per_device_train_batch_size': None, 'initial_per_device_train_batch_size_attempt': 4096, 'query_indices': None, 'train_indices': None, 'dataloader_kwargs': None, 'score_args': None, 'target_data_partitions': None, 'target_module_partitions': None, 'overwrite_output_dir': True}\n",
      "INFO:kronfluence.computer.computer:Score arguments not provided. Using the default configuration: ScoreArguments(damping=None, immediate_gradient_removal=False, cached_activation_cpu_offload=False, distributed_sync_steps=1000, data_partition_size=1, module_partition_size=1, per_module_score=False, query_gradient_rank=None, query_gradient_svd_dtype=torch.float64, score_dtype=torch.float32, per_sample_gradient_dtype=torch.float32, precondition_dtype=torch.float32).\n",
      "INFO:kronfluence.computer.computer:Loaded `FactorArguments` with configuration: FactorArguments(strategy='ekfac', use_empirical_fisher=False, immediate_gradient_removal=False, ignore_bias=False, distributed_sync_steps=1000, covariance_max_examples=100000, covariance_data_partition_size=1, covariance_module_partition_size=1, activation_covariance_dtype='torch.float32', gradient_covariance_dtype='torch.float32', eigendecomposition_dtype='torch.float64', lambda_max_examples=100000, lambda_data_partition_size=1, lambda_module_partition_size=1, lambda_iterative_aggregate=False, cached_activation_cpu_offload=False, lambda_dtype='torch.float32').\n",
      "INFO:kronfluence.computer.computer:Saved arguments at `/home/cadegord/projects/bio-if/private/esm2-if/analyses/esm2_t12_35M_UR50D_benchmarking/scores_esm2_t12_35M_UR50D_benchmarking/score_arguments.json`.\n",
      "INFO:kronfluence.computer.computer:Saved arguments at `/home/cadegord/projects/bio-if/private/esm2-if/analyses/esm2_t12_35M_UR50D_benchmarking/scores_esm2_t12_35M_UR50D_benchmarking/factor_arguments.json`.\n",
      "INFO:kronfluence.computer.computer:DataLoader arguments not provided. Using the configuration: DataLoaderKwargs(num_workers=0, collate_fn=<function default_data_collator at 0x7f24bf0891f0>, pin_memory=False, timeout=0, worker_init_fn=None, multiprocessing_context=None, generator=None, prefetch_factor=None, persistent_workers=False, pin_memory_device='').\n",
      "INFO:kronfluence.computer.computer:Saved dataset metadata at `/home/cadegord/projects/bio-if/private/esm2-if/analyses/esm2_t12_35M_UR50D_benchmarking/scores_esm2_t12_35M_UR50D_benchmarking/query_dataset_metadata.json`.\n",
      "INFO:kronfluence.computer.computer:Saved dataset metadata at `/home/cadegord/projects/bio-if/private/esm2-if/analyses/esm2_t12_35M_UR50D_benchmarking/scores_esm2_t12_35M_UR50D_benchmarking/train_dataset_metadata.json`.\n",
      "INFO:kronfluence.computer.computer:Fitting pairwise scores with data indices (0, 256) and modules ['esm.encoder.layer.0.attention.self.query', 'esm.encoder.layer.0.attention.self.key', 'esm.encoder.layer.0.attention.self.value', 'esm.encoder.layer.0.attention.output.dense', 'esm.encoder.layer.0.intermediate.dense', 'esm.encoder.layer.0.output.dense', 'esm.encoder.layer.1.attention.self.query', 'esm.encoder.layer.1.attention.self.key', 'esm.encoder.layer.1.attention.self.value', 'esm.encoder.layer.1.attention.output.dense', 'esm.encoder.layer.1.intermediate.dense', 'esm.encoder.layer.1.output.dense', 'esm.encoder.layer.2.attention.self.query', 'esm.encoder.layer.2.attention.self.key', 'esm.encoder.layer.2.attention.self.value', 'esm.encoder.layer.2.attention.output.dense', 'esm.encoder.layer.2.intermediate.dense', 'esm.encoder.layer.2.output.dense', 'esm.encoder.layer.3.attention.self.query', 'esm.encoder.layer.3.attention.self.key', 'esm.encoder.layer.3.attention.self.value', 'esm.encoder.layer.3.attention.output.dense', 'esm.encoder.layer.3.intermediate.dense', 'esm.encoder.layer.3.output.dense', 'esm.encoder.layer.4.attention.self.query', 'esm.encoder.layer.4.attention.self.key', 'esm.encoder.layer.4.attention.self.value', 'esm.encoder.layer.4.attention.output.dense', 'esm.encoder.layer.4.intermediate.dense', 'esm.encoder.layer.4.output.dense', 'esm.encoder.layer.5.attention.self.query', 'esm.encoder.layer.5.attention.self.key', 'esm.encoder.layer.5.attention.self.value', 'esm.encoder.layer.5.attention.output.dense', 'esm.encoder.layer.5.intermediate.dense', 'esm.encoder.layer.5.output.dense', 'esm.encoder.layer.6.attention.self.query', 'esm.encoder.layer.6.attention.self.key', 'esm.encoder.layer.6.attention.self.value', 'esm.encoder.layer.6.attention.output.dense', 'esm.encoder.layer.6.intermediate.dense', 'esm.encoder.layer.6.output.dense', 'esm.encoder.layer.7.attention.self.query', 'esm.encoder.layer.7.attention.self.key', 'esm.encoder.layer.7.attention.self.value', 'esm.encoder.layer.7.attention.output.dense', 'esm.encoder.layer.7.intermediate.dense', 'esm.encoder.layer.7.output.dense', 'esm.encoder.layer.8.attention.self.query', 'esm.encoder.layer.8.attention.self.key', 'esm.encoder.layer.8.attention.self.value', 'esm.encoder.layer.8.attention.output.dense', 'esm.encoder.layer.8.intermediate.dense', 'esm.encoder.layer.8.output.dense', 'esm.encoder.layer.9.attention.self.query', 'esm.encoder.layer.9.attention.self.key', 'esm.encoder.layer.9.attention.self.value', 'esm.encoder.layer.9.attention.output.dense', 'esm.encoder.layer.9.intermediate.dense', 'esm.encoder.layer.9.output.dense', 'esm.encoder.layer.10.attention.self.query', 'esm.encoder.layer.10.attention.self.key', 'esm.encoder.layer.10.attention.self.value', 'esm.encoder.layer.10.attention.output.dense', 'esm.encoder.layer.10.intermediate.dense', 'esm.encoder.layer.10.output.dense', 'esm.encoder.layer.11.attention.self.query', 'esm.encoder.layer.11.attention.self.key', 'esm.encoder.layer.11.attention.self.value', 'esm.encoder.layer.11.attention.output.dense', 'esm.encoder.layer.11.intermediate.dense', 'esm.encoder.layer.11.output.dense', 'lm_head.dense', 'lm_head.decoder'].\n",
      "INFO:kronfluence.computer.computer:Automatically determining executable batch size.\n",
      "INFO:kronfluence.computer.computer:Attempting to set per-device batch size to 256.\n",
      "DEBUG:kronfluence.computer.computer:Using sampler <torch.utils.data.sampler.SequentialSampler object at 0x7f25e1fd7910> for the DataLoader.\n",
      "DEBUG:kronfluence.computer.computer:Using sampler <torch.utils.data.sampler.SequentialSampler object at 0x7f25e71f1250> for the DataLoader.\n",
      "Computing pairwise scores (training gradient) [0/1]   0%|           [time left: ?, time spent: 00:00]\n",
      "Computing pairwise scores (query gradient) [0/1]   0%|           [time left: ?, time spent: 00:01]\n",
      "INFO:kronfluence.computer.computer:Attempting to set per-device batch size to 128.\n",
      "DEBUG:kronfluence.computer.computer:Using sampler <torch.utils.data.sampler.SequentialSampler object at 0x7f25e70284f0> for the DataLoader.\n",
      "DEBUG:kronfluence.computer.computer:Using sampler <torch.utils.data.sampler.SequentialSampler object at 0x7f25e7028fa0> for the DataLoader.\n",
      "Computing pairwise scores (training gradient) [0/1]   0%|           [time left: ?, time spent: 00:00]\n",
      "Computing pairwise scores (query gradient) [0/1]   0%|           [time left: ?, time spent: 00:01]\n",
      "INFO:kronfluence.computer.computer:Attempting to set per-device batch size to 64.\n",
      "DEBUG:kronfluence.computer.computer:Using sampler <torch.utils.data.sampler.SequentialSampler object at 0x7f25e70411c0> for the DataLoader.\n",
      "DEBUG:kronfluence.computer.computer:Using sampler <torch.utils.data.sampler.SequentialSampler object at 0x7f25e7041be0> for the DataLoader.\n",
      "Computing pairwise scores (training gradient) [0/1]   0%|           [time left: ?, time spent: 00:00]\n",
      "Computing pairwise scores (query gradient) [0/1]   0%|           [time left: ?, time spent: 00:01]\n",
      "INFO:kronfluence.computer.computer:Attempting to set per-device batch size to 32.\n",
      "DEBUG:kronfluence.computer.computer:Using sampler <torch.utils.data.sampler.SequentialSampler object at 0x7f25e7028b80> for the DataLoader.\n",
      "DEBUG:kronfluence.computer.computer:Using sampler <torch.utils.data.sampler.SequentialSampler object at 0x7f25e7028fa0> for the DataLoader.\n",
      "Computing pairwise scores (training gradient) [0/1]   0%|           [time left: ?, time spent: 00:00]\n",
      "Computing pairwise scores (query gradient) [0/1]   0%|           [time left: ?, time spent: 00:01]\n",
      "INFO:kronfluence.computer.computer:Attempting to set per-device batch size to 16.\n",
      "DEBUG:kronfluence.computer.computer:Using sampler <torch.utils.data.sampler.SequentialSampler object at 0x7f25e70414c0> for the DataLoader.\n",
      "DEBUG:kronfluence.computer.computer:Using sampler <torch.utils.data.sampler.SequentialSampler object at 0x7f25e7041970> for the DataLoader.\n",
      "Computing pairwise scores (training gradient) [1/1] 100%|██████████ [time left: 00:00, time spent: 00:00]\n",
      "Computing pairwise scores (query gradient) [1/1] 100%|██████████ [time left: 00:00, time spent: 00:01]\n",
      "INFO:kronfluence.computer.computer:Executable batch size determined: 16.\n",
      "DEBUG:kronfluence.computer.computer:Using sampler <torch.utils.data.sampler.SequentialSampler object at 0x7f25e703d250> for the DataLoader.\n",
      "DEBUG:kronfluence.computer.computer:Using sampler <torch.utils.data.sampler.SequentialSampler object at 0x7f25e703d340> for the DataLoader.\n",
      "Computing pairwise scores (training gradient) [16/16] 100%|██████████ [time left: 00:00, time spent: 00:04]\n",
      "Computing pairwise scores (training gradient) [16/16] 100%|██████████ [time left: 00:00, time spent: 00:04]\n",
      "Computing pairwise scores (training gradient) [16/16] 100%|██████████ [time left: 00:00, time spent: 00:04]\n",
      "Computing pairwise scores (training gradient) [16/16] 100%|██████████ [time left: 00:00, time spent: 00:04]\n",
      "Computing pairwise scores (training gradient) [16/16] 100%|██████████ [time left: 00:00, time spent: 00:04]\n",
      "Computing pairwise scores (training gradient) [16/16] 100%|██████████ [time left: 00:00, time spent: 00:04]\n",
      "Computing pairwise scores (training gradient) [16/16] 100%|██████████ [time left: 00:00, time spent: 00:04]\n",
      "Computing pairwise scores (training gradient) [16/16] 100%|██████████ [time left: 00:00, time spent: 00:04]\n",
      "Computing pairwise scores (training gradient) [16/16] 100%|██████████ [time left: 00:00, time spent: 00:04]\n",
      "Computing pairwise scores (training gradient) [16/16] 100%|██████████ [time left: 00:00, time spent: 00:04]\n",
      "Computing pairwise scores (training gradient) [16/16] 100%|██████████ [time left: 00:00, time spent: 00:04]\n",
      "Computing pairwise scores (training gradient) [16/16] 100%|██████████ [time left: 00:00, time spent: 00:04]\n",
      "Computing pairwise scores (training gradient) [16/16] 100%|██████████ [time left: 00:00, time spent: 00:04]\n",
      "Computing pairwise scores (training gradient) [16/16] 100%|██████████ [time left: 00:00, time spent: 00:04]\n",
      "Computing pairwise scores (training gradient) [16/16] 100%|██████████ [time left: 00:00, time spent: 00:04]\n",
      "Computing pairwise scores (training gradient) [16/16] 100%|██████████ [time left: 00:00, time spent: 00:04]\n",
      "Computing pairwise scores (query gradient) [16/16] 100%|██████████ [time left: 00:00, time spent: 01:33]\n",
      "INFO:kronfluence.computer.computer:Computed pairwise influence scores in 93.79 seconds.\n",
      "INFO:kronfluence.computer.computer:Saved pairwise scores at /home/cadegord/projects/bio-if/private/esm2-if/analyses/esm2_t12_35M_UR50D_benchmarking/scores_esm2_t12_35M_UR50D_benchmarking.\n"
     ]
    }
   ],
   "source": [
    "analyzer.compute_pairwise_scores(\n",
    "    scores_name=\"esm2_t12_35M_UR50D_benchmarking\",\n",
    "    factors_name=\"esm2_t12_35M_UR50D_benchmarking\",\n",
    "    overwrite_output_dir=True,\n",
    "    query_dataset=Dataset.from_dict(ds[:256]),\n",
    "    train_dataset=Dataset.from_dict(ds[:256]),\n",
    "    per_device_query_batch_size=16,\n",
    ")"
   ]
  },
  {
   "cell_type": "code",
   "execution_count": 9,
   "metadata": {},
   "outputs": [
    {
     "name": "stderr",
     "output_type": "stream",
     "text": [
      "DEBUG:urllib3.connectionpool:Starting new HTTPS connection (1): huggingface.co:443\n",
      "DEBUG:urllib3.connectionpool:https://huggingface.co:443 \"HEAD /facebook/esm2_t30_150M_UR50D/resolve/main/tokenizer_config.json HTTP/1.1\" 200 0\n",
      "DEBUG:filelock:Attempting to acquire lock 139672161896912 on /home/cadegord/.cache/huggingface/hub/.locks/models--facebook--esm2_t30_150M_UR50D/3f0d47e841e1cb75257aeaf76d156802899a217e.lock\n",
      "DEBUG:filelock:Lock 139672161896912 acquired on /home/cadegord/.cache/huggingface/hub/.locks/models--facebook--esm2_t30_150M_UR50D/3f0d47e841e1cb75257aeaf76d156802899a217e.lock\n",
      "DEBUG:urllib3.connectionpool:https://huggingface.co:443 \"GET /facebook/esm2_t30_150M_UR50D/resolve/main/tokenizer_config.json HTTP/1.1\" 200 95\n"
     ]
    },
    {
     "data": {
      "application/vnd.jupyter.widget-view+json": {
       "model_id": "e0c9036453ae4babb0cf649bf881d5ef",
       "version_major": 2,
       "version_minor": 0
      },
      "text/plain": [
       "tokenizer_config.json:   0%|          | 0.00/95.0 [00:00<?, ?B/s]"
      ]
     },
     "metadata": {},
     "output_type": "display_data"
    },
    {
     "name": "stderr",
     "output_type": "stream",
     "text": [
      "DEBUG:filelock:Attempting to release lock 139672161896912 on /home/cadegord/.cache/huggingface/hub/.locks/models--facebook--esm2_t30_150M_UR50D/3f0d47e841e1cb75257aeaf76d156802899a217e.lock\n",
      "DEBUG:filelock:Lock 139672161896912 released on /home/cadegord/.cache/huggingface/hub/.locks/models--facebook--esm2_t30_150M_UR50D/3f0d47e841e1cb75257aeaf76d156802899a217e.lock\n",
      "DEBUG:urllib3.connectionpool:https://huggingface.co:443 \"HEAD /facebook/esm2_t30_150M_UR50D/resolve/main/vocab.txt HTTP/1.1\" 200 0\n",
      "DEBUG:filelock:Attempting to acquire lock 139665957118880 on /home/cadegord/.cache/huggingface/hub/.locks/models--facebook--esm2_t30_150M_UR50D/6b946952cc35537226f07fd70957ee2f848880d2.lock\n",
      "DEBUG:filelock:Lock 139665957118880 acquired on /home/cadegord/.cache/huggingface/hub/.locks/models--facebook--esm2_t30_150M_UR50D/6b946952cc35537226f07fd70957ee2f848880d2.lock\n",
      "DEBUG:urllib3.connectionpool:https://huggingface.co:443 \"GET /facebook/esm2_t30_150M_UR50D/resolve/main/vocab.txt HTTP/1.1\" 200 93\n"
     ]
    },
    {
     "data": {
      "application/vnd.jupyter.widget-view+json": {
       "model_id": "da77b4d4f30e41ec91dbf23736ee40da",
       "version_major": 2,
       "version_minor": 0
      },
      "text/plain": [
       "vocab.txt:   0%|          | 0.00/93.0 [00:00<?, ?B/s]"
      ]
     },
     "metadata": {},
     "output_type": "display_data"
    },
    {
     "name": "stderr",
     "output_type": "stream",
     "text": [
      "DEBUG:filelock:Attempting to release lock 139665957118880 on /home/cadegord/.cache/huggingface/hub/.locks/models--facebook--esm2_t30_150M_UR50D/6b946952cc35537226f07fd70957ee2f848880d2.lock\n",
      "DEBUG:filelock:Lock 139665957118880 released on /home/cadegord/.cache/huggingface/hub/.locks/models--facebook--esm2_t30_150M_UR50D/6b946952cc35537226f07fd70957ee2f848880d2.lock\n",
      "DEBUG:urllib3.connectionpool:https://huggingface.co:443 \"HEAD /facebook/esm2_t30_150M_UR50D/resolve/main/added_tokens.json HTTP/1.1\" 404 0\n",
      "DEBUG:urllib3.connectionpool:https://huggingface.co:443 \"HEAD /facebook/esm2_t30_150M_UR50D/resolve/main/special_tokens_map.json HTTP/1.1\" 200 0\n",
      "DEBUG:filelock:Attempting to acquire lock 139673392458960 on /home/cadegord/.cache/huggingface/hub/.locks/models--facebook--esm2_t30_150M_UR50D/ba0f9b53dbbf27934f7555e5d31e37bdea9317f1.lock\n",
      "DEBUG:filelock:Lock 139673392458960 acquired on /home/cadegord/.cache/huggingface/hub/.locks/models--facebook--esm2_t30_150M_UR50D/ba0f9b53dbbf27934f7555e5d31e37bdea9317f1.lock\n",
      "DEBUG:urllib3.connectionpool:https://huggingface.co:443 \"GET /facebook/esm2_t30_150M_UR50D/resolve/main/special_tokens_map.json HTTP/1.1\" 200 125\n"
     ]
    },
    {
     "data": {
      "application/vnd.jupyter.widget-view+json": {
       "model_id": "df0e425285e24571927649fb3f81b096",
       "version_major": 2,
       "version_minor": 0
      },
      "text/plain": [
       "special_tokens_map.json:   0%|          | 0.00/125 [00:00<?, ?B/s]"
      ]
     },
     "metadata": {},
     "output_type": "display_data"
    },
    {
     "name": "stderr",
     "output_type": "stream",
     "text": [
      "DEBUG:filelock:Attempting to release lock 139673392458960 on /home/cadegord/.cache/huggingface/hub/.locks/models--facebook--esm2_t30_150M_UR50D/ba0f9b53dbbf27934f7555e5d31e37bdea9317f1.lock\n",
      "DEBUG:filelock:Lock 139673392458960 released on /home/cadegord/.cache/huggingface/hub/.locks/models--facebook--esm2_t30_150M_UR50D/ba0f9b53dbbf27934f7555e5d31e37bdea9317f1.lock\n",
      "DEBUG:urllib3.connectionpool:https://huggingface.co:443 \"HEAD /facebook/esm2_t30_150M_UR50D/resolve/main/tokenizer.json HTTP/1.1\" 404 0\n",
      "DEBUG:urllib3.connectionpool:https://huggingface.co:443 \"HEAD /facebook/esm2_t30_150M_UR50D/resolve/main/config.json HTTP/1.1\" 200 0\n",
      "DEBUG:filelock:Attempting to acquire lock 139665957038160 on /home/cadegord/.cache/huggingface/hub/.locks/models--facebook--esm2_t30_150M_UR50D/52e04179e6fbad6663a94ea5cc44f09d764c5cd4.lock\n",
      "DEBUG:filelock:Lock 139665957038160 acquired on /home/cadegord/.cache/huggingface/hub/.locks/models--facebook--esm2_t30_150M_UR50D/52e04179e6fbad6663a94ea5cc44f09d764c5cd4.lock\n",
      "DEBUG:urllib3.connectionpool:https://huggingface.co:443 \"GET /facebook/esm2_t30_150M_UR50D/resolve/main/config.json HTTP/1.1\" 200 779\n"
     ]
    },
    {
     "data": {
      "application/vnd.jupyter.widget-view+json": {
       "model_id": "31f7e704f536495d8468c97501de441b",
       "version_major": 2,
       "version_minor": 0
      },
      "text/plain": [
       "config.json:   0%|          | 0.00/779 [00:00<?, ?B/s]"
      ]
     },
     "metadata": {},
     "output_type": "display_data"
    },
    {
     "name": "stderr",
     "output_type": "stream",
     "text": [
      "DEBUG:filelock:Attempting to release lock 139665957038160 on /home/cadegord/.cache/huggingface/hub/.locks/models--facebook--esm2_t30_150M_UR50D/52e04179e6fbad6663a94ea5cc44f09d764c5cd4.lock\n",
      "DEBUG:filelock:Lock 139665957038160 released on /home/cadegord/.cache/huggingface/hub/.locks/models--facebook--esm2_t30_150M_UR50D/52e04179e6fbad6663a94ea5cc44f09d764c5cd4.lock\n",
      "DEBUG:urllib3.connectionpool:https://huggingface.co:443 \"HEAD /facebook/esm2_t30_150M_UR50D/resolve/main/model.safetensors HTTP/1.1\" 302 0\n",
      "DEBUG:filelock:Attempting to acquire lock 139672162485872 on /home/cadegord/.cache/huggingface/hub/.locks/models--facebook--esm2_t30_150M_UR50D/c3f1da8aea53bddd32c246c86168c23b9fd72341fb9db9a94436f855f5053566.lock\n",
      "DEBUG:filelock:Lock 139672162485872 acquired on /home/cadegord/.cache/huggingface/hub/.locks/models--facebook--esm2_t30_150M_UR50D/c3f1da8aea53bddd32c246c86168c23b9fd72341fb9db9a94436f855f5053566.lock\n",
      "DEBUG:urllib3.connectionpool:Starting new HTTPS connection (1): cdn-lfs.huggingface.co:443\n",
      "DEBUG:urllib3.connectionpool:https://cdn-lfs.huggingface.co:443 \"GET /repos/b8/af/b8af0577cba84bd8caeb80105e1c69d68ec9fbf2d9614bcb462d24d085da62fe/c3f1da8aea53bddd32c246c86168c23b9fd72341fb9db9a94436f855f5053566?response-content-disposition=attachment%3B+filename*%3DUTF-8%27%27model.safetensors%3B+filename%3D%22model.safetensors%22%3B&Expires=1712876305&Policy=eyJTdGF0ZW1lbnQiOlt7IkNvbmRpdGlvbiI6eyJEYXRlTGVzc1RoYW4iOnsiQVdTOkVwb2NoVGltZSI6MTcxMjg3NjMwNX19LCJSZXNvdXJjZSI6Imh0dHBzOi8vY2RuLWxmcy5odWdnaW5nZmFjZS5jby9yZXBvcy9iOC9hZi9iOGFmMDU3N2NiYTg0YmQ4Y2FlYjgwMTA1ZTFjNjlkNjhlYzlmYmYyZDk2MTRiY2I0NjJkMjRkMDg1ZGE2MmZlL2MzZjFkYThhZWE1M2JkZGQzMmMyNDZjODYxNjhjMjNiOWZkNzIzNDFmYjlkYjlhOTQ0MzZmODU1ZjUwNTM1NjY~cmVzcG9uc2UtY29udGVudC1kaXNwb3NpdGlvbj0qIn1dfQ__&Signature=a5kjRufzUn3pbrnA5hCzT4nwyP3aJIlAPbA0IxvYQq1Hp6s07pMMWjGuEKwpS64I0lijphzhW2sjr670x4PJsOmOc6R36pT5dRZUIx29ODngnd~v1UXWDcDtRpbNZfJSSfoAszQycpXspxssp6tQGgf41aeib2gESesFYcRi8mOk4rCmmWT5egul8zq10wKsvCShnJuanGQm9PoxceuUZ8ev9Hb25XWKQxEubvbXrrmMMU4H86-nrW07ENVDCi0q7Zr2cmei2Hc1l3aV25K2K~h2N-K8SvNI5PDewDqAvAd7ur07LmE7YbhDMa~o8eY~XGQB9EF18u~NdiIzE7GAnw__&Key-Pair-Id=KVTP0A1DKRTAX HTTP/1.1\" 200 595257706\n"
     ]
    },
    {
     "data": {
      "application/vnd.jupyter.widget-view+json": {
       "model_id": "be3142bde07e43f1a2b86ce573007a01",
       "version_major": 2,
       "version_minor": 0
      },
      "text/plain": [
       "model.safetensors:   0%|          | 0.00/595M [00:00<?, ?B/s]"
      ]
     },
     "metadata": {},
     "output_type": "display_data"
    },
    {
     "name": "stderr",
     "output_type": "stream",
     "text": [
      "DEBUG:filelock:Attempting to release lock 139672162485872 on /home/cadegord/.cache/huggingface/hub/.locks/models--facebook--esm2_t30_150M_UR50D/c3f1da8aea53bddd32c246c86168c23b9fd72341fb9db9a94436f855f5053566.lock\n",
      "DEBUG:filelock:Lock 139672162485872 released on /home/cadegord/.cache/huggingface/hub/.locks/models--facebook--esm2_t30_150M_UR50D/c3f1da8aea53bddd32c246c86168c23b9fd72341fb9db9a94436f855f5053566.lock\n"
     ]
    }
   ],
   "source": [
    "tokenizer = AutoTokenizer.from_pretrained(\"facebook/esm2_t30_150M_UR50D\")\n",
    "model = AutoModelForMaskedLM.from_pretrained(\"facebook/esm2_t30_150M_UR50D\", device_map='cuda:7')\n",
    "# remove model.esm.contact_head from model\n",
    "del model.esm.contact_head"
   ]
  },
  {
   "cell_type": "code",
   "execution_count": 17,
   "metadata": {},
   "outputs": [],
   "source": [
    "task = MLMTask()\n",
    "model = prepare_model(model, task)"
   ]
  },
  {
   "cell_type": "code",
   "execution_count": 18,
   "metadata": {},
   "outputs": [
    {
     "name": "stderr",
     "output_type": "stream",
     "text": [
      "INFO:kronfluence.computer.computer:Tracking modules with names: ['esm.encoder.layer.0.attention.self.query', 'esm.encoder.layer.0.attention.self.key', 'esm.encoder.layer.0.attention.self.value', 'esm.encoder.layer.0.attention.output.dense', 'esm.encoder.layer.0.intermediate.dense', 'esm.encoder.layer.0.output.dense', 'esm.encoder.layer.1.attention.self.query', 'esm.encoder.layer.1.attention.self.key', 'esm.encoder.layer.1.attention.self.value', 'esm.encoder.layer.1.attention.output.dense', 'esm.encoder.layer.1.intermediate.dense', 'esm.encoder.layer.1.output.dense', 'esm.encoder.layer.2.attention.self.query', 'esm.encoder.layer.2.attention.self.key', 'esm.encoder.layer.2.attention.self.value', 'esm.encoder.layer.2.attention.output.dense', 'esm.encoder.layer.2.intermediate.dense', 'esm.encoder.layer.2.output.dense', 'esm.encoder.layer.3.attention.self.query', 'esm.encoder.layer.3.attention.self.key', 'esm.encoder.layer.3.attention.self.value', 'esm.encoder.layer.3.attention.output.dense', 'esm.encoder.layer.3.intermediate.dense', 'esm.encoder.layer.3.output.dense', 'esm.encoder.layer.4.attention.self.query', 'esm.encoder.layer.4.attention.self.key', 'esm.encoder.layer.4.attention.self.value', 'esm.encoder.layer.4.attention.output.dense', 'esm.encoder.layer.4.intermediate.dense', 'esm.encoder.layer.4.output.dense', 'esm.encoder.layer.5.attention.self.query', 'esm.encoder.layer.5.attention.self.key', 'esm.encoder.layer.5.attention.self.value', 'esm.encoder.layer.5.attention.output.dense', 'esm.encoder.layer.5.intermediate.dense', 'esm.encoder.layer.5.output.dense', 'esm.encoder.layer.6.attention.self.query', 'esm.encoder.layer.6.attention.self.key', 'esm.encoder.layer.6.attention.self.value', 'esm.encoder.layer.6.attention.output.dense', 'esm.encoder.layer.6.intermediate.dense', 'esm.encoder.layer.6.output.dense', 'esm.encoder.layer.7.attention.self.query', 'esm.encoder.layer.7.attention.self.key', 'esm.encoder.layer.7.attention.self.value', 'esm.encoder.layer.7.attention.output.dense', 'esm.encoder.layer.7.intermediate.dense', 'esm.encoder.layer.7.output.dense', 'esm.encoder.layer.8.attention.self.query', 'esm.encoder.layer.8.attention.self.key', 'esm.encoder.layer.8.attention.self.value', 'esm.encoder.layer.8.attention.output.dense', 'esm.encoder.layer.8.intermediate.dense', 'esm.encoder.layer.8.output.dense', 'esm.encoder.layer.9.attention.self.query', 'esm.encoder.layer.9.attention.self.key', 'esm.encoder.layer.9.attention.self.value', 'esm.encoder.layer.9.attention.output.dense', 'esm.encoder.layer.9.intermediate.dense', 'esm.encoder.layer.9.output.dense', 'esm.encoder.layer.10.attention.self.query', 'esm.encoder.layer.10.attention.self.key', 'esm.encoder.layer.10.attention.self.value', 'esm.encoder.layer.10.attention.output.dense', 'esm.encoder.layer.10.intermediate.dense', 'esm.encoder.layer.10.output.dense', 'esm.encoder.layer.11.attention.self.query', 'esm.encoder.layer.11.attention.self.key', 'esm.encoder.layer.11.attention.self.value', 'esm.encoder.layer.11.attention.output.dense', 'esm.encoder.layer.11.intermediate.dense', 'esm.encoder.layer.11.output.dense', 'esm.encoder.layer.12.attention.self.query', 'esm.encoder.layer.12.attention.self.key', 'esm.encoder.layer.12.attention.self.value', 'esm.encoder.layer.12.attention.output.dense', 'esm.encoder.layer.12.intermediate.dense', 'esm.encoder.layer.12.output.dense', 'esm.encoder.layer.13.attention.self.query', 'esm.encoder.layer.13.attention.self.key', 'esm.encoder.layer.13.attention.self.value', 'esm.encoder.layer.13.attention.output.dense', 'esm.encoder.layer.13.intermediate.dense', 'esm.encoder.layer.13.output.dense', 'esm.encoder.layer.14.attention.self.query', 'esm.encoder.layer.14.attention.self.key', 'esm.encoder.layer.14.attention.self.value', 'esm.encoder.layer.14.attention.output.dense', 'esm.encoder.layer.14.intermediate.dense', 'esm.encoder.layer.14.output.dense', 'esm.encoder.layer.15.attention.self.query', 'esm.encoder.layer.15.attention.self.key', 'esm.encoder.layer.15.attention.self.value', 'esm.encoder.layer.15.attention.output.dense', 'esm.encoder.layer.15.intermediate.dense', 'esm.encoder.layer.15.output.dense', 'esm.encoder.layer.16.attention.self.query', 'esm.encoder.layer.16.attention.self.key', 'esm.encoder.layer.16.attention.self.value', 'esm.encoder.layer.16.attention.output.dense', 'esm.encoder.layer.16.intermediate.dense', 'esm.encoder.layer.16.output.dense', 'esm.encoder.layer.17.attention.self.query', 'esm.encoder.layer.17.attention.self.key', 'esm.encoder.layer.17.attention.self.value', 'esm.encoder.layer.17.attention.output.dense', 'esm.encoder.layer.17.intermediate.dense', 'esm.encoder.layer.17.output.dense', 'esm.encoder.layer.18.attention.self.query', 'esm.encoder.layer.18.attention.self.key', 'esm.encoder.layer.18.attention.self.value', 'esm.encoder.layer.18.attention.output.dense', 'esm.encoder.layer.18.intermediate.dense', 'esm.encoder.layer.18.output.dense', 'esm.encoder.layer.19.attention.self.query', 'esm.encoder.layer.19.attention.self.key', 'esm.encoder.layer.19.attention.self.value', 'esm.encoder.layer.19.attention.output.dense', 'esm.encoder.layer.19.intermediate.dense', 'esm.encoder.layer.19.output.dense', 'esm.encoder.layer.20.attention.self.query', 'esm.encoder.layer.20.attention.self.key', 'esm.encoder.layer.20.attention.self.value', 'esm.encoder.layer.20.attention.output.dense', 'esm.encoder.layer.20.intermediate.dense', 'esm.encoder.layer.20.output.dense', 'esm.encoder.layer.21.attention.self.query', 'esm.encoder.layer.21.attention.self.key', 'esm.encoder.layer.21.attention.self.value', 'esm.encoder.layer.21.attention.output.dense', 'esm.encoder.layer.21.intermediate.dense', 'esm.encoder.layer.21.output.dense', 'esm.encoder.layer.22.attention.self.query', 'esm.encoder.layer.22.attention.self.key', 'esm.encoder.layer.22.attention.self.value', 'esm.encoder.layer.22.attention.output.dense', 'esm.encoder.layer.22.intermediate.dense', 'esm.encoder.layer.22.output.dense', 'esm.encoder.layer.23.attention.self.query', 'esm.encoder.layer.23.attention.self.key', 'esm.encoder.layer.23.attention.self.value', 'esm.encoder.layer.23.attention.output.dense', 'esm.encoder.layer.23.intermediate.dense', 'esm.encoder.layer.23.output.dense', 'esm.encoder.layer.24.attention.self.query', 'esm.encoder.layer.24.attention.self.key', 'esm.encoder.layer.24.attention.self.value', 'esm.encoder.layer.24.attention.output.dense', 'esm.encoder.layer.24.intermediate.dense', 'esm.encoder.layer.24.output.dense', 'esm.encoder.layer.25.attention.self.query', 'esm.encoder.layer.25.attention.self.key', 'esm.encoder.layer.25.attention.self.value', 'esm.encoder.layer.25.attention.output.dense', 'esm.encoder.layer.25.intermediate.dense', 'esm.encoder.layer.25.output.dense', 'esm.encoder.layer.26.attention.self.query', 'esm.encoder.layer.26.attention.self.key', 'esm.encoder.layer.26.attention.self.value', 'esm.encoder.layer.26.attention.output.dense', 'esm.encoder.layer.26.intermediate.dense', 'esm.encoder.layer.26.output.dense', 'esm.encoder.layer.27.attention.self.query', 'esm.encoder.layer.27.attention.self.key', 'esm.encoder.layer.27.attention.self.value', 'esm.encoder.layer.27.attention.output.dense', 'esm.encoder.layer.27.intermediate.dense', 'esm.encoder.layer.27.output.dense', 'esm.encoder.layer.28.attention.self.query', 'esm.encoder.layer.28.attention.self.key', 'esm.encoder.layer.28.attention.self.value', 'esm.encoder.layer.28.attention.output.dense', 'esm.encoder.layer.28.intermediate.dense', 'esm.encoder.layer.28.output.dense', 'esm.encoder.layer.29.attention.self.query', 'esm.encoder.layer.29.attention.self.key', 'esm.encoder.layer.29.attention.self.value', 'esm.encoder.layer.29.attention.output.dense', 'esm.encoder.layer.29.intermediate.dense', 'esm.encoder.layer.29.output.dense', 'lm_head.dense', 'lm_head.decoder'].\n",
      "INFO:kronfluence.computer.computer:Initializing Computer with parameters: {'self': <kronfluence.analyzer.Analyzer object at 0x7f0681ed5a60>, 'analysis_name': 'esm2_t30_150M_UR50D_benchmarking', 'model': EsmForMaskedLM(\n",
      "  (esm): EsmModel(\n",
      "    (embeddings): EsmEmbeddings(\n",
      "      (word_embeddings): Embedding(33, 640, padding_idx=1)\n",
      "      (dropout): Dropout(p=0.0, inplace=False)\n",
      "      (position_embeddings): Embedding(1026, 640, padding_idx=1)\n",
      "    )\n",
      "    (encoder): EsmEncoder(\n",
      "      (layer): ModuleList(\n",
      "        (0-29): 30 x EsmLayer(\n",
      "          (attention): EsmAttention(\n",
      "            (self): EsmSelfAttention(\n",
      "              (query): TrackedLinear(\n",
      "                (original_module): Linear(in_features=640, out_features=640, bias=True)\n",
      "              )\n",
      "              (key): TrackedLinear(\n",
      "                (original_module): Linear(in_features=640, out_features=640, bias=True)\n",
      "              )\n",
      "              (value): TrackedLinear(\n",
      "                (original_module): Linear(in_features=640, out_features=640, bias=True)\n",
      "              )\n",
      "              (dropout): Dropout(p=0.0, inplace=False)\n",
      "              (rotary_embeddings): RotaryEmbedding()\n",
      "            )\n",
      "            (output): EsmSelfOutput(\n",
      "              (dense): TrackedLinear(\n",
      "                (original_module): Linear(in_features=640, out_features=640, bias=True)\n",
      "              )\n",
      "              (dropout): Dropout(p=0.0, inplace=False)\n",
      "            )\n",
      "            (LayerNorm): LayerNorm((640,), eps=1e-05, elementwise_affine=True)\n",
      "          )\n",
      "          (intermediate): EsmIntermediate(\n",
      "            (dense): TrackedLinear(\n",
      "              (original_module): Linear(in_features=640, out_features=2560, bias=True)\n",
      "            )\n",
      "          )\n",
      "          (output): EsmOutput(\n",
      "            (dense): TrackedLinear(\n",
      "              (original_module): Linear(in_features=2560, out_features=640, bias=True)\n",
      "            )\n",
      "            (dropout): Dropout(p=0.0, inplace=False)\n",
      "          )\n",
      "          (LayerNorm): LayerNorm((640,), eps=1e-05, elementwise_affine=True)\n",
      "        )\n",
      "      )\n",
      "      (emb_layer_norm_after): LayerNorm((640,), eps=1e-05, elementwise_affine=True)\n",
      "    )\n",
      "  )\n",
      "  (lm_head): EsmLMHead(\n",
      "    (dense): TrackedLinear(\n",
      "      (original_module): Linear(in_features=640, out_features=640, bias=True)\n",
      "    )\n",
      "    (layer_norm): LayerNorm((640,), eps=1e-05, elementwise_affine=True)\n",
      "    (decoder): TrackedLinear(\n",
      "      (original_module): Linear(in_features=640, out_features=33, bias=False)\n",
      "    )\n",
      "  )\n",
      "), 'task': <__main__.MLMTask object at 0x7f0683c1a8e0>, 'cpu': False, 'log_level': None, 'log_main_process_only': True, 'profile': False, 'output_dir': './analyses', 'disable_model_save': True, '__class__': <class 'kronfluence.analyzer.Analyzer'>}\n",
      "DEBUG:kronfluence.computer.computer:Process state configuration:\n",
      "Num processes: 1\n",
      "Process index: 0\n",
      "Local process index: 0\n",
      "Device: cuda\n",
      "\n"
     ]
    }
   ],
   "source": [
    "analyzer = Analyzer(\n",
    "    analysis_name=f\"esm2_t30_150M_UR50D_benchmarking\",\n",
    "    task=task,\n",
    "    model=model,\n",
    "    cpu=False,\n",
    ")\n",
    "dataloader_kwargs = DataLoaderKwargs(collate_fn=default_data_collator)\n",
    "analyzer.set_dataloader_kwargs(dataloader_kwargs)"
   ]
  },
  {
   "cell_type": "code",
   "execution_count": 19,
   "metadata": {},
   "outputs": [
    {
     "name": "stderr",
     "output_type": "stream",
     "text": [
      "DEBUG:kronfluence.computer.computer:Fitting covariance matrices with parameters: {'self': <kronfluence.analyzer.Analyzer object at 0x7f0681ed5a60>, 'factors_name': 'esm2_t30_150M_UR50D_benchmarking', 'dataset': Dataset({\n",
      "    features: ['seq', 'input_ids', 'attention_mask'],\n",
      "    num_rows: 256\n",
      "}), 'per_device_batch_size': None, 'initial_per_device_batch_size_attempt': 512, 'dataloader_kwargs': None, 'factor_args': None, 'target_data_partitions': None, 'target_module_partitions': None, 'overwrite_output_dir': False}\n",
      "INFO:kronfluence.computer.computer:Factor arguments not provided. Using the default configuration: FactorArguments(strategy='ekfac', use_empirical_fisher=False, immediate_gradient_removal=False, ignore_bias=False, distributed_sync_steps=1000, covariance_max_examples=100000, covariance_data_partition_size=1, covariance_module_partition_size=1, activation_covariance_dtype=torch.float32, gradient_covariance_dtype=torch.float32, eigendecomposition_dtype=torch.float64, lambda_max_examples=100000, lambda_data_partition_size=1, lambda_module_partition_size=1, lambda_iterative_aggregate=False, cached_activation_cpu_offload=False, lambda_dtype=torch.float32).\n",
      "INFO:kronfluence.computer.computer:Saved arguments at `/home/cadegord/projects/bio-if/private/esm2-if/analyses/esm2_t30_150M_UR50D_benchmarking/factors_esm2_t30_150M_UR50D_benchmarking/factor_arguments.json`.\n",
      "INFO:kronfluence.computer.computer:DataLoader arguments not provided. Using the configuration: DataLoaderKwargs(num_workers=0, collate_fn=<function default_data_collator at 0x7f06c8f921f0>, pin_memory=False, timeout=0, worker_init_fn=None, multiprocessing_context=None, generator=None, prefetch_factor=None, persistent_workers=False, pin_memory_device='').\n",
      "INFO:kronfluence.computer.computer:Saved dataset metadata at `/home/cadegord/projects/bio-if/private/esm2-if/analyses/esm2_t30_150M_UR50D_benchmarking/factors_esm2_t30_150M_UR50D_benchmarking/covariance_dataset_metadata.json`.\n",
      "INFO:kronfluence.computer.computer:Total data examples to fit covariance matrices: 256.\n",
      "INFO:kronfluence.computer.computer:Fitting covariance matrices with data indices (0, 256) and modules ['esm.encoder.layer.0.attention.self.query', 'esm.encoder.layer.0.attention.self.key', 'esm.encoder.layer.0.attention.self.value', 'esm.encoder.layer.0.attention.output.dense', 'esm.encoder.layer.0.intermediate.dense', 'esm.encoder.layer.0.output.dense', 'esm.encoder.layer.1.attention.self.query', 'esm.encoder.layer.1.attention.self.key', 'esm.encoder.layer.1.attention.self.value', 'esm.encoder.layer.1.attention.output.dense', 'esm.encoder.layer.1.intermediate.dense', 'esm.encoder.layer.1.output.dense', 'esm.encoder.layer.2.attention.self.query', 'esm.encoder.layer.2.attention.self.key', 'esm.encoder.layer.2.attention.self.value', 'esm.encoder.layer.2.attention.output.dense', 'esm.encoder.layer.2.intermediate.dense', 'esm.encoder.layer.2.output.dense', 'esm.encoder.layer.3.attention.self.query', 'esm.encoder.layer.3.attention.self.key', 'esm.encoder.layer.3.attention.self.value', 'esm.encoder.layer.3.attention.output.dense', 'esm.encoder.layer.3.intermediate.dense', 'esm.encoder.layer.3.output.dense', 'esm.encoder.layer.4.attention.self.query', 'esm.encoder.layer.4.attention.self.key', 'esm.encoder.layer.4.attention.self.value', 'esm.encoder.layer.4.attention.output.dense', 'esm.encoder.layer.4.intermediate.dense', 'esm.encoder.layer.4.output.dense', 'esm.encoder.layer.5.attention.self.query', 'esm.encoder.layer.5.attention.self.key', 'esm.encoder.layer.5.attention.self.value', 'esm.encoder.layer.5.attention.output.dense', 'esm.encoder.layer.5.intermediate.dense', 'esm.encoder.layer.5.output.dense', 'esm.encoder.layer.6.attention.self.query', 'esm.encoder.layer.6.attention.self.key', 'esm.encoder.layer.6.attention.self.value', 'esm.encoder.layer.6.attention.output.dense', 'esm.encoder.layer.6.intermediate.dense', 'esm.encoder.layer.6.output.dense', 'esm.encoder.layer.7.attention.self.query', 'esm.encoder.layer.7.attention.self.key', 'esm.encoder.layer.7.attention.self.value', 'esm.encoder.layer.7.attention.output.dense', 'esm.encoder.layer.7.intermediate.dense', 'esm.encoder.layer.7.output.dense', 'esm.encoder.layer.8.attention.self.query', 'esm.encoder.layer.8.attention.self.key', 'esm.encoder.layer.8.attention.self.value', 'esm.encoder.layer.8.attention.output.dense', 'esm.encoder.layer.8.intermediate.dense', 'esm.encoder.layer.8.output.dense', 'esm.encoder.layer.9.attention.self.query', 'esm.encoder.layer.9.attention.self.key', 'esm.encoder.layer.9.attention.self.value', 'esm.encoder.layer.9.attention.output.dense', 'esm.encoder.layer.9.intermediate.dense', 'esm.encoder.layer.9.output.dense', 'esm.encoder.layer.10.attention.self.query', 'esm.encoder.layer.10.attention.self.key', 'esm.encoder.layer.10.attention.self.value', 'esm.encoder.layer.10.attention.output.dense', 'esm.encoder.layer.10.intermediate.dense', 'esm.encoder.layer.10.output.dense', 'esm.encoder.layer.11.attention.self.query', 'esm.encoder.layer.11.attention.self.key', 'esm.encoder.layer.11.attention.self.value', 'esm.encoder.layer.11.attention.output.dense', 'esm.encoder.layer.11.intermediate.dense', 'esm.encoder.layer.11.output.dense', 'esm.encoder.layer.12.attention.self.query', 'esm.encoder.layer.12.attention.self.key', 'esm.encoder.layer.12.attention.self.value', 'esm.encoder.layer.12.attention.output.dense', 'esm.encoder.layer.12.intermediate.dense', 'esm.encoder.layer.12.output.dense', 'esm.encoder.layer.13.attention.self.query', 'esm.encoder.layer.13.attention.self.key', 'esm.encoder.layer.13.attention.self.value', 'esm.encoder.layer.13.attention.output.dense', 'esm.encoder.layer.13.intermediate.dense', 'esm.encoder.layer.13.output.dense', 'esm.encoder.layer.14.attention.self.query', 'esm.encoder.layer.14.attention.self.key', 'esm.encoder.layer.14.attention.self.value', 'esm.encoder.layer.14.attention.output.dense', 'esm.encoder.layer.14.intermediate.dense', 'esm.encoder.layer.14.output.dense', 'esm.encoder.layer.15.attention.self.query', 'esm.encoder.layer.15.attention.self.key', 'esm.encoder.layer.15.attention.self.value', 'esm.encoder.layer.15.attention.output.dense', 'esm.encoder.layer.15.intermediate.dense', 'esm.encoder.layer.15.output.dense', 'esm.encoder.layer.16.attention.self.query', 'esm.encoder.layer.16.attention.self.key', 'esm.encoder.layer.16.attention.self.value', 'esm.encoder.layer.16.attention.output.dense', 'esm.encoder.layer.16.intermediate.dense', 'esm.encoder.layer.16.output.dense', 'esm.encoder.layer.17.attention.self.query', 'esm.encoder.layer.17.attention.self.key', 'esm.encoder.layer.17.attention.self.value', 'esm.encoder.layer.17.attention.output.dense', 'esm.encoder.layer.17.intermediate.dense', 'esm.encoder.layer.17.output.dense', 'esm.encoder.layer.18.attention.self.query', 'esm.encoder.layer.18.attention.self.key', 'esm.encoder.layer.18.attention.self.value', 'esm.encoder.layer.18.attention.output.dense', 'esm.encoder.layer.18.intermediate.dense', 'esm.encoder.layer.18.output.dense', 'esm.encoder.layer.19.attention.self.query', 'esm.encoder.layer.19.attention.self.key', 'esm.encoder.layer.19.attention.self.value', 'esm.encoder.layer.19.attention.output.dense', 'esm.encoder.layer.19.intermediate.dense', 'esm.encoder.layer.19.output.dense', 'esm.encoder.layer.20.attention.self.query', 'esm.encoder.layer.20.attention.self.key', 'esm.encoder.layer.20.attention.self.value', 'esm.encoder.layer.20.attention.output.dense', 'esm.encoder.layer.20.intermediate.dense', 'esm.encoder.layer.20.output.dense', 'esm.encoder.layer.21.attention.self.query', 'esm.encoder.layer.21.attention.self.key', 'esm.encoder.layer.21.attention.self.value', 'esm.encoder.layer.21.attention.output.dense', 'esm.encoder.layer.21.intermediate.dense', 'esm.encoder.layer.21.output.dense', 'esm.encoder.layer.22.attention.self.query', 'esm.encoder.layer.22.attention.self.key', 'esm.encoder.layer.22.attention.self.value', 'esm.encoder.layer.22.attention.output.dense', 'esm.encoder.layer.22.intermediate.dense', 'esm.encoder.layer.22.output.dense', 'esm.encoder.layer.23.attention.self.query', 'esm.encoder.layer.23.attention.self.key', 'esm.encoder.layer.23.attention.self.value', 'esm.encoder.layer.23.attention.output.dense', 'esm.encoder.layer.23.intermediate.dense', 'esm.encoder.layer.23.output.dense', 'esm.encoder.layer.24.attention.self.query', 'esm.encoder.layer.24.attention.self.key', 'esm.encoder.layer.24.attention.self.value', 'esm.encoder.layer.24.attention.output.dense', 'esm.encoder.layer.24.intermediate.dense', 'esm.encoder.layer.24.output.dense', 'esm.encoder.layer.25.attention.self.query', 'esm.encoder.layer.25.attention.self.key', 'esm.encoder.layer.25.attention.self.value', 'esm.encoder.layer.25.attention.output.dense', 'esm.encoder.layer.25.intermediate.dense', 'esm.encoder.layer.25.output.dense', 'esm.encoder.layer.26.attention.self.query', 'esm.encoder.layer.26.attention.self.key', 'esm.encoder.layer.26.attention.self.value', 'esm.encoder.layer.26.attention.output.dense', 'esm.encoder.layer.26.intermediate.dense', 'esm.encoder.layer.26.output.dense', 'esm.encoder.layer.27.attention.self.query', 'esm.encoder.layer.27.attention.self.key', 'esm.encoder.layer.27.attention.self.value', 'esm.encoder.layer.27.attention.output.dense', 'esm.encoder.layer.27.intermediate.dense', 'esm.encoder.layer.27.output.dense', 'esm.encoder.layer.28.attention.self.query', 'esm.encoder.layer.28.attention.self.key', 'esm.encoder.layer.28.attention.self.value', 'esm.encoder.layer.28.attention.output.dense', 'esm.encoder.layer.28.intermediate.dense', 'esm.encoder.layer.28.output.dense', 'esm.encoder.layer.29.attention.self.query', 'esm.encoder.layer.29.attention.self.key', 'esm.encoder.layer.29.attention.self.value', 'esm.encoder.layer.29.attention.output.dense', 'esm.encoder.layer.29.intermediate.dense', 'esm.encoder.layer.29.output.dense', 'lm_head.dense', 'lm_head.decoder'].\n",
      "INFO:kronfluence.computer.computer:Automatically determining executable batch size.\n",
      "INFO:kronfluence.computer.computer:Attempting to set per-device batch size to 256.\n",
      "DEBUG:kronfluence.computer.computer:Using sampler <torch.utils.data.sampler.SequentialSampler object at 0x7f08112a32b0> for the DataLoader.\n",
      "Fitting covariance matrices [0/1]   0%|           [time left: ?, time spent: 00:00]\n",
      "INFO:kronfluence.computer.computer:Attempting to set per-device batch size to 128.\n",
      "DEBUG:kronfluence.computer.computer:Using sampler <torch.utils.data.sampler.SequentialSampler object at 0x7f0681eab460> for the DataLoader.\n",
      "Fitting covariance matrices [0/1]   0%|           [time left: ?, time spent: 00:00]\n",
      "INFO:kronfluence.computer.computer:Attempting to set per-device batch size to 64.\n",
      "DEBUG:kronfluence.computer.computer:Using sampler <torch.utils.data.sampler.SequentialSampler object at 0x7f0681eb07c0> for the DataLoader.\n",
      "Fitting covariance matrices [0/1]   0%|           [time left: ?, time spent: 00:00]\n",
      "INFO:kronfluence.computer.computer:Attempting to set per-device batch size to 32.\n",
      "DEBUG:kronfluence.computer.computer:Using sampler <torch.utils.data.sampler.SequentialSampler object at 0x7f0681eabbb0> for the DataLoader.\n",
      "Fitting covariance matrices [0/1]   0%|           [time left: ?, time spent: 00:00]\n",
      "INFO:kronfluence.computer.computer:Attempting to set per-device batch size to 16.\n",
      "DEBUG:kronfluence.computer.computer:Using sampler <torch.utils.data.sampler.SequentialSampler object at 0x7f0681eb06a0> for the DataLoader.\n",
      "Fitting covariance matrices [0/1]   0%|           [time left: ?, time spent: 00:00]\n",
      "INFO:kronfluence.computer.computer:Attempting to set per-device batch size to 8.\n",
      "DEBUG:kronfluence.computer.computer:Using sampler <torch.utils.data.sampler.SequentialSampler object at 0x7f0681eaba00> for the DataLoader.\n",
      "Fitting covariance matrices [1/1] 100%|██████████ [time left: 00:00, time spent: 00:00]\n",
      "INFO:kronfluence.computer.computer:Executable batch size determined: 8.\n",
      "DEBUG:kronfluence.computer.computer:Using sampler <torch.utils.data.sampler.SequentialSampler object at 0x7f0681e9be50> for the DataLoader.\n",
      "Fitting covariance matrices [32/32] 100%|██████████ [time left: 00:00, time spent: 00:19]\n",
      "INFO:kronfluence.computer.computer:Fitted covariance matrices with 256 data points in 19.83 seconds.\n",
      "INFO:kronfluence.computer.computer:Saved covariance matrices at `/home/cadegord/projects/bio-if/private/esm2-if/analyses/esm2_t30_150M_UR50D_benchmarking/factors_esm2_t30_150M_UR50D_benchmarking`.\n",
      "DEBUG:kronfluence.computer.computer:Performing Eigendecomposition with parameters: {'self': <kronfluence.analyzer.Analyzer object at 0x7f0681ed5a60>, 'factors_name': 'esm2_t30_150M_UR50D_benchmarking', 'factor_args': None, 'overwrite_output_dir': False, 'load_from_factors_name': None}\n",
      "INFO:kronfluence.computer.computer:Factor arguments not provided. Using the default configuration: FactorArguments(strategy='ekfac', use_empirical_fisher=False, immediate_gradient_removal=False, ignore_bias=False, distributed_sync_steps=1000, covariance_max_examples=100000, covariance_data_partition_size=1, covariance_module_partition_size=1, activation_covariance_dtype=torch.float32, gradient_covariance_dtype=torch.float32, eigendecomposition_dtype=torch.float64, lambda_max_examples=100000, lambda_data_partition_size=1, lambda_module_partition_size=1, lambda_iterative_aggregate=False, cached_activation_cpu_offload=False, lambda_dtype=torch.float32).\n",
      "INFO:kronfluence.computer.computer:Found existing saved arguments at `/home/cadegord/projects/bio-if/private/esm2-if/analyses/esm2_t30_150M_UR50D_benchmarking/factors_esm2_t30_150M_UR50D_benchmarking/factor_arguments.json`.\n",
      "Performing Eigendecomposition [182/182] 100%|██████████ [time left: 00:00, time spent: 01:22]\n",
      "INFO:kronfluence.computer.computer:Performed Eigendecomposition in 82.14 seconds.\n",
      "INFO:kronfluence.computer.computer:Saved Eigendecomposition results at `/home/cadegord/projects/bio-if/private/esm2-if/analyses/esm2_t30_150M_UR50D_benchmarking/factors_esm2_t30_150M_UR50D_benchmarking`.\n",
      "DEBUG:kronfluence.computer.computer:Fitting Lambda matrices with parameters: {'self': <kronfluence.analyzer.Analyzer object at 0x7f0681ed5a60>, 'factors_name': 'esm2_t30_150M_UR50D_benchmarking', 'dataset': Dataset({\n",
      "    features: ['seq', 'input_ids', 'attention_mask'],\n",
      "    num_rows: 256\n",
      "}), 'per_device_batch_size': None, 'initial_per_device_batch_size_attempt': 512, 'dataloader_kwargs': None, 'factor_args': None, 'target_data_partitions': None, 'target_module_partitions': None, 'overwrite_output_dir': False, 'load_from_factors_name': None}\n",
      "INFO:kronfluence.computer.computer:Factor arguments not provided. Using the default configuration: FactorArguments(strategy='ekfac', use_empirical_fisher=False, immediate_gradient_removal=False, ignore_bias=False, distributed_sync_steps=1000, covariance_max_examples=100000, covariance_data_partition_size=1, covariance_module_partition_size=1, activation_covariance_dtype=torch.float32, gradient_covariance_dtype=torch.float32, eigendecomposition_dtype=torch.float64, lambda_max_examples=100000, lambda_data_partition_size=1, lambda_module_partition_size=1, lambda_iterative_aggregate=False, cached_activation_cpu_offload=False, lambda_dtype=torch.float32).\n",
      "INFO:kronfluence.computer.computer:Found existing saved arguments at `/home/cadegord/projects/bio-if/private/esm2-if/analyses/esm2_t30_150M_UR50D_benchmarking/factors_esm2_t30_150M_UR50D_benchmarking/factor_arguments.json`.\n",
      "INFO:kronfluence.computer.computer:DataLoader arguments not provided. Using the configuration: DataLoaderKwargs(num_workers=0, collate_fn=<function default_data_collator at 0x7f06c8f921f0>, pin_memory=False, timeout=0, worker_init_fn=None, multiprocessing_context=None, generator=None, prefetch_factor=None, persistent_workers=False, pin_memory_device='').\n",
      "INFO:kronfluence.computer.computer:Saved dataset metadata at `/home/cadegord/projects/bio-if/private/esm2-if/analyses/esm2_t30_150M_UR50D_benchmarking/factors_esm2_t30_150M_UR50D_benchmarking/lambda_dataset_metadata.json`.\n",
      "INFO:kronfluence.computer.computer:Total data examples to fit Lambda matrices: 256.\n",
      "INFO:kronfluence.computer.computer:Fitting Lambda matrices with data indices (0, 256) and modules ['esm.encoder.layer.0.attention.self.query', 'esm.encoder.layer.0.attention.self.key', 'esm.encoder.layer.0.attention.self.value', 'esm.encoder.layer.0.attention.output.dense', 'esm.encoder.layer.0.intermediate.dense', 'esm.encoder.layer.0.output.dense', 'esm.encoder.layer.1.attention.self.query', 'esm.encoder.layer.1.attention.self.key', 'esm.encoder.layer.1.attention.self.value', 'esm.encoder.layer.1.attention.output.dense', 'esm.encoder.layer.1.intermediate.dense', 'esm.encoder.layer.1.output.dense', 'esm.encoder.layer.2.attention.self.query', 'esm.encoder.layer.2.attention.self.key', 'esm.encoder.layer.2.attention.self.value', 'esm.encoder.layer.2.attention.output.dense', 'esm.encoder.layer.2.intermediate.dense', 'esm.encoder.layer.2.output.dense', 'esm.encoder.layer.3.attention.self.query', 'esm.encoder.layer.3.attention.self.key', 'esm.encoder.layer.3.attention.self.value', 'esm.encoder.layer.3.attention.output.dense', 'esm.encoder.layer.3.intermediate.dense', 'esm.encoder.layer.3.output.dense', 'esm.encoder.layer.4.attention.self.query', 'esm.encoder.layer.4.attention.self.key', 'esm.encoder.layer.4.attention.self.value', 'esm.encoder.layer.4.attention.output.dense', 'esm.encoder.layer.4.intermediate.dense', 'esm.encoder.layer.4.output.dense', 'esm.encoder.layer.5.attention.self.query', 'esm.encoder.layer.5.attention.self.key', 'esm.encoder.layer.5.attention.self.value', 'esm.encoder.layer.5.attention.output.dense', 'esm.encoder.layer.5.intermediate.dense', 'esm.encoder.layer.5.output.dense', 'esm.encoder.layer.6.attention.self.query', 'esm.encoder.layer.6.attention.self.key', 'esm.encoder.layer.6.attention.self.value', 'esm.encoder.layer.6.attention.output.dense', 'esm.encoder.layer.6.intermediate.dense', 'esm.encoder.layer.6.output.dense', 'esm.encoder.layer.7.attention.self.query', 'esm.encoder.layer.7.attention.self.key', 'esm.encoder.layer.7.attention.self.value', 'esm.encoder.layer.7.attention.output.dense', 'esm.encoder.layer.7.intermediate.dense', 'esm.encoder.layer.7.output.dense', 'esm.encoder.layer.8.attention.self.query', 'esm.encoder.layer.8.attention.self.key', 'esm.encoder.layer.8.attention.self.value', 'esm.encoder.layer.8.attention.output.dense', 'esm.encoder.layer.8.intermediate.dense', 'esm.encoder.layer.8.output.dense', 'esm.encoder.layer.9.attention.self.query', 'esm.encoder.layer.9.attention.self.key', 'esm.encoder.layer.9.attention.self.value', 'esm.encoder.layer.9.attention.output.dense', 'esm.encoder.layer.9.intermediate.dense', 'esm.encoder.layer.9.output.dense', 'esm.encoder.layer.10.attention.self.query', 'esm.encoder.layer.10.attention.self.key', 'esm.encoder.layer.10.attention.self.value', 'esm.encoder.layer.10.attention.output.dense', 'esm.encoder.layer.10.intermediate.dense', 'esm.encoder.layer.10.output.dense', 'esm.encoder.layer.11.attention.self.query', 'esm.encoder.layer.11.attention.self.key', 'esm.encoder.layer.11.attention.self.value', 'esm.encoder.layer.11.attention.output.dense', 'esm.encoder.layer.11.intermediate.dense', 'esm.encoder.layer.11.output.dense', 'esm.encoder.layer.12.attention.self.query', 'esm.encoder.layer.12.attention.self.key', 'esm.encoder.layer.12.attention.self.value', 'esm.encoder.layer.12.attention.output.dense', 'esm.encoder.layer.12.intermediate.dense', 'esm.encoder.layer.12.output.dense', 'esm.encoder.layer.13.attention.self.query', 'esm.encoder.layer.13.attention.self.key', 'esm.encoder.layer.13.attention.self.value', 'esm.encoder.layer.13.attention.output.dense', 'esm.encoder.layer.13.intermediate.dense', 'esm.encoder.layer.13.output.dense', 'esm.encoder.layer.14.attention.self.query', 'esm.encoder.layer.14.attention.self.key', 'esm.encoder.layer.14.attention.self.value', 'esm.encoder.layer.14.attention.output.dense', 'esm.encoder.layer.14.intermediate.dense', 'esm.encoder.layer.14.output.dense', 'esm.encoder.layer.15.attention.self.query', 'esm.encoder.layer.15.attention.self.key', 'esm.encoder.layer.15.attention.self.value', 'esm.encoder.layer.15.attention.output.dense', 'esm.encoder.layer.15.intermediate.dense', 'esm.encoder.layer.15.output.dense', 'esm.encoder.layer.16.attention.self.query', 'esm.encoder.layer.16.attention.self.key', 'esm.encoder.layer.16.attention.self.value', 'esm.encoder.layer.16.attention.output.dense', 'esm.encoder.layer.16.intermediate.dense', 'esm.encoder.layer.16.output.dense', 'esm.encoder.layer.17.attention.self.query', 'esm.encoder.layer.17.attention.self.key', 'esm.encoder.layer.17.attention.self.value', 'esm.encoder.layer.17.attention.output.dense', 'esm.encoder.layer.17.intermediate.dense', 'esm.encoder.layer.17.output.dense', 'esm.encoder.layer.18.attention.self.query', 'esm.encoder.layer.18.attention.self.key', 'esm.encoder.layer.18.attention.self.value', 'esm.encoder.layer.18.attention.output.dense', 'esm.encoder.layer.18.intermediate.dense', 'esm.encoder.layer.18.output.dense', 'esm.encoder.layer.19.attention.self.query', 'esm.encoder.layer.19.attention.self.key', 'esm.encoder.layer.19.attention.self.value', 'esm.encoder.layer.19.attention.output.dense', 'esm.encoder.layer.19.intermediate.dense', 'esm.encoder.layer.19.output.dense', 'esm.encoder.layer.20.attention.self.query', 'esm.encoder.layer.20.attention.self.key', 'esm.encoder.layer.20.attention.self.value', 'esm.encoder.layer.20.attention.output.dense', 'esm.encoder.layer.20.intermediate.dense', 'esm.encoder.layer.20.output.dense', 'esm.encoder.layer.21.attention.self.query', 'esm.encoder.layer.21.attention.self.key', 'esm.encoder.layer.21.attention.self.value', 'esm.encoder.layer.21.attention.output.dense', 'esm.encoder.layer.21.intermediate.dense', 'esm.encoder.layer.21.output.dense', 'esm.encoder.layer.22.attention.self.query', 'esm.encoder.layer.22.attention.self.key', 'esm.encoder.layer.22.attention.self.value', 'esm.encoder.layer.22.attention.output.dense', 'esm.encoder.layer.22.intermediate.dense', 'esm.encoder.layer.22.output.dense', 'esm.encoder.layer.23.attention.self.query', 'esm.encoder.layer.23.attention.self.key', 'esm.encoder.layer.23.attention.self.value', 'esm.encoder.layer.23.attention.output.dense', 'esm.encoder.layer.23.intermediate.dense', 'esm.encoder.layer.23.output.dense', 'esm.encoder.layer.24.attention.self.query', 'esm.encoder.layer.24.attention.self.key', 'esm.encoder.layer.24.attention.self.value', 'esm.encoder.layer.24.attention.output.dense', 'esm.encoder.layer.24.intermediate.dense', 'esm.encoder.layer.24.output.dense', 'esm.encoder.layer.25.attention.self.query', 'esm.encoder.layer.25.attention.self.key', 'esm.encoder.layer.25.attention.self.value', 'esm.encoder.layer.25.attention.output.dense', 'esm.encoder.layer.25.intermediate.dense', 'esm.encoder.layer.25.output.dense', 'esm.encoder.layer.26.attention.self.query', 'esm.encoder.layer.26.attention.self.key', 'esm.encoder.layer.26.attention.self.value', 'esm.encoder.layer.26.attention.output.dense', 'esm.encoder.layer.26.intermediate.dense', 'esm.encoder.layer.26.output.dense', 'esm.encoder.layer.27.attention.self.query', 'esm.encoder.layer.27.attention.self.key', 'esm.encoder.layer.27.attention.self.value', 'esm.encoder.layer.27.attention.output.dense', 'esm.encoder.layer.27.intermediate.dense', 'esm.encoder.layer.27.output.dense', 'esm.encoder.layer.28.attention.self.query', 'esm.encoder.layer.28.attention.self.key', 'esm.encoder.layer.28.attention.self.value', 'esm.encoder.layer.28.attention.output.dense', 'esm.encoder.layer.28.intermediate.dense', 'esm.encoder.layer.28.output.dense', 'esm.encoder.layer.29.attention.self.query', 'esm.encoder.layer.29.attention.self.key', 'esm.encoder.layer.29.attention.self.value', 'esm.encoder.layer.29.attention.output.dense', 'esm.encoder.layer.29.intermediate.dense', 'esm.encoder.layer.29.output.dense', 'lm_head.dense', 'lm_head.decoder'].\n",
      "INFO:kronfluence.computer.computer:Automatically determining executable batch size.\n",
      "INFO:kronfluence.computer.computer:Attempting to set per-device batch size to 256.\n",
      "DEBUG:kronfluence.computer.computer:Using sampler <torch.utils.data.sampler.SequentialSampler object at 0x7f0681e8d2e0> for the DataLoader.\n",
      "Fitting Lambda matrices [0/1]   0%|           [time left: ?, time spent: 00:00]\n",
      "INFO:kronfluence.computer.computer:Attempting to set per-device batch size to 128.\n",
      "DEBUG:kronfluence.computer.computer:Using sampler <torch.utils.data.sampler.SequentialSampler object at 0x7f06806223a0> for the DataLoader.\n",
      "Fitting Lambda matrices [0/1]   0%|           [time left: ?, time spent: 00:00]\n",
      "INFO:kronfluence.computer.computer:Attempting to set per-device batch size to 64.\n",
      "DEBUG:kronfluence.computer.computer:Using sampler <torch.utils.data.sampler.SequentialSampler object at 0x7f0681e8d040> for the DataLoader.\n",
      "Fitting Lambda matrices [0/1]   0%|           [time left: ?, time spent: 00:00]\n",
      "INFO:kronfluence.computer.computer:Attempting to set per-device batch size to 32.\n",
      "DEBUG:kronfluence.computer.computer:Using sampler <torch.utils.data.sampler.SequentialSampler object at 0x7f0680603370> for the DataLoader.\n",
      "Fitting Lambda matrices [0/1]   0%|           [time left: ?, time spent: 00:00]\n",
      "INFO:kronfluence.computer.computer:Attempting to set per-device batch size to 16.\n",
      "DEBUG:kronfluence.computer.computer:Using sampler <torch.utils.data.sampler.SequentialSampler object at 0x7f0681e8deb0> for the DataLoader.\n",
      "Fitting Lambda matrices [0/1]   0%|           [time left: ?, time spent: 00:00]\n",
      "INFO:kronfluence.computer.computer:Attempting to set per-device batch size to 8.\n",
      "DEBUG:kronfluence.computer.computer:Using sampler <torch.utils.data.sampler.SequentialSampler object at 0x7f0680603e20> for the DataLoader.\n",
      "Fitting Lambda matrices [1/1] 100%|██████████ [time left: 00:00, time spent: 00:34]\n",
      "INFO:kronfluence.computer.computer:Executable batch size determined: 8.\n",
      "DEBUG:kronfluence.computer.computer:Using sampler <torch.utils.data.sampler.SequentialSampler object at 0x7f068063b370> for the DataLoader.\n",
      "Fitting Lambda matrices [32/32] 100%|██████████ [time left: 00:00, time spent: 00:37]\n",
      "INFO:kronfluence.computer.computer:Fitted Lambda matrices with 256 data points in 37.78 seconds.\n",
      "INFO:kronfluence.computer.computer:Saved Lambda matrices at `/home/cadegord/projects/bio-if/private/esm2-if/analyses/esm2_t30_150M_UR50D_benchmarking/factors_esm2_t30_150M_UR50D_benchmarking`.\n"
     ]
    }
   ],
   "source": [
    "analyzer.fit_all_factors(\n",
    "    factors_name=\"esm2_t30_150M_UR50D_benchmarking\",\n",
    "    dataset=Dataset.from_dict(ds[:256]),\n",
    "    # dataset=ds,\n",
    "    per_device_batch_size=None,\n",
    "    overwrite_output_dir=False,\n",
    "    initial_per_device_batch_size_attempt=512,\n",
    ")"
   ]
  },
  {
   "cell_type": "code",
   "execution_count": 21,
   "metadata": {},
   "outputs": [
    {
     "name": "stderr",
     "output_type": "stream",
     "text": [
      "DEBUG:kronfluence.computer.computer:Computing pairwise scores with parameters: {'self': <kronfluence.analyzer.Analyzer object at 0x7f0681ed5a60>, 'scores_name': 'esm2_t30_150M_UR50D_benchmarking', 'factors_name': 'esm2_t30_150M_UR50D_benchmarking', 'query_dataset': Dataset({\n",
      "    features: ['seq', 'input_ids', 'attention_mask'],\n",
      "    num_rows: 256\n",
      "}), 'train_dataset': Dataset({\n",
      "    features: ['seq', 'input_ids', 'attention_mask'],\n",
      "    num_rows: 256\n",
      "}), 'per_device_query_batch_size': 8, 'per_device_train_batch_size': None, 'initial_per_device_train_batch_size_attempt': 4096, 'query_indices': None, 'train_indices': None, 'dataloader_kwargs': None, 'score_args': None, 'target_data_partitions': None, 'target_module_partitions': None, 'overwrite_output_dir': True}\n",
      "INFO:kronfluence.computer.computer:Score arguments not provided. Using the default configuration: ScoreArguments(damping=None, immediate_gradient_removal=False, cached_activation_cpu_offload=False, distributed_sync_steps=1000, data_partition_size=1, module_partition_size=1, per_module_score=False, query_gradient_rank=None, query_gradient_svd_dtype=torch.float64, score_dtype=torch.float32, per_sample_gradient_dtype=torch.float32, precondition_dtype=torch.float32).\n",
      "INFO:kronfluence.computer.computer:Loaded `FactorArguments` with configuration: FactorArguments(strategy='ekfac', use_empirical_fisher=False, immediate_gradient_removal=False, ignore_bias=False, distributed_sync_steps=1000, covariance_max_examples=100000, covariance_data_partition_size=1, covariance_module_partition_size=1, activation_covariance_dtype='torch.float32', gradient_covariance_dtype='torch.float32', eigendecomposition_dtype='torch.float64', lambda_max_examples=100000, lambda_data_partition_size=1, lambda_module_partition_size=1, lambda_iterative_aggregate=False, cached_activation_cpu_offload=False, lambda_dtype='torch.float32').\n",
      "INFO:kronfluence.computer.computer:Saved arguments at `/home/cadegord/projects/bio-if/private/esm2-if/analyses/esm2_t30_150M_UR50D_benchmarking/scores_esm2_t30_150M_UR50D_benchmarking/score_arguments.json`.\n",
      "INFO:kronfluence.computer.computer:Saved arguments at `/home/cadegord/projects/bio-if/private/esm2-if/analyses/esm2_t30_150M_UR50D_benchmarking/scores_esm2_t30_150M_UR50D_benchmarking/factor_arguments.json`.\n",
      "INFO:kronfluence.computer.computer:DataLoader arguments not provided. Using the configuration: DataLoaderKwargs(num_workers=0, collate_fn=<function default_data_collator at 0x7f06c8f921f0>, pin_memory=False, timeout=0, worker_init_fn=None, multiprocessing_context=None, generator=None, prefetch_factor=None, persistent_workers=False, pin_memory_device='').\n",
      "INFO:kronfluence.computer.computer:Saved dataset metadata at `/home/cadegord/projects/bio-if/private/esm2-if/analyses/esm2_t30_150M_UR50D_benchmarking/scores_esm2_t30_150M_UR50D_benchmarking/query_dataset_metadata.json`.\n",
      "INFO:kronfluence.computer.computer:Saved dataset metadata at `/home/cadegord/projects/bio-if/private/esm2-if/analyses/esm2_t30_150M_UR50D_benchmarking/scores_esm2_t30_150M_UR50D_benchmarking/train_dataset_metadata.json`.\n",
      "INFO:kronfluence.computer.computer:Fitting pairwise scores with data indices (0, 256) and modules ['esm.encoder.layer.0.attention.self.query', 'esm.encoder.layer.0.attention.self.key', 'esm.encoder.layer.0.attention.self.value', 'esm.encoder.layer.0.attention.output.dense', 'esm.encoder.layer.0.intermediate.dense', 'esm.encoder.layer.0.output.dense', 'esm.encoder.layer.1.attention.self.query', 'esm.encoder.layer.1.attention.self.key', 'esm.encoder.layer.1.attention.self.value', 'esm.encoder.layer.1.attention.output.dense', 'esm.encoder.layer.1.intermediate.dense', 'esm.encoder.layer.1.output.dense', 'esm.encoder.layer.2.attention.self.query', 'esm.encoder.layer.2.attention.self.key', 'esm.encoder.layer.2.attention.self.value', 'esm.encoder.layer.2.attention.output.dense', 'esm.encoder.layer.2.intermediate.dense', 'esm.encoder.layer.2.output.dense', 'esm.encoder.layer.3.attention.self.query', 'esm.encoder.layer.3.attention.self.key', 'esm.encoder.layer.3.attention.self.value', 'esm.encoder.layer.3.attention.output.dense', 'esm.encoder.layer.3.intermediate.dense', 'esm.encoder.layer.3.output.dense', 'esm.encoder.layer.4.attention.self.query', 'esm.encoder.layer.4.attention.self.key', 'esm.encoder.layer.4.attention.self.value', 'esm.encoder.layer.4.attention.output.dense', 'esm.encoder.layer.4.intermediate.dense', 'esm.encoder.layer.4.output.dense', 'esm.encoder.layer.5.attention.self.query', 'esm.encoder.layer.5.attention.self.key', 'esm.encoder.layer.5.attention.self.value', 'esm.encoder.layer.5.attention.output.dense', 'esm.encoder.layer.5.intermediate.dense', 'esm.encoder.layer.5.output.dense', 'esm.encoder.layer.6.attention.self.query', 'esm.encoder.layer.6.attention.self.key', 'esm.encoder.layer.6.attention.self.value', 'esm.encoder.layer.6.attention.output.dense', 'esm.encoder.layer.6.intermediate.dense', 'esm.encoder.layer.6.output.dense', 'esm.encoder.layer.7.attention.self.query', 'esm.encoder.layer.7.attention.self.key', 'esm.encoder.layer.7.attention.self.value', 'esm.encoder.layer.7.attention.output.dense', 'esm.encoder.layer.7.intermediate.dense', 'esm.encoder.layer.7.output.dense', 'esm.encoder.layer.8.attention.self.query', 'esm.encoder.layer.8.attention.self.key', 'esm.encoder.layer.8.attention.self.value', 'esm.encoder.layer.8.attention.output.dense', 'esm.encoder.layer.8.intermediate.dense', 'esm.encoder.layer.8.output.dense', 'esm.encoder.layer.9.attention.self.query', 'esm.encoder.layer.9.attention.self.key', 'esm.encoder.layer.9.attention.self.value', 'esm.encoder.layer.9.attention.output.dense', 'esm.encoder.layer.9.intermediate.dense', 'esm.encoder.layer.9.output.dense', 'esm.encoder.layer.10.attention.self.query', 'esm.encoder.layer.10.attention.self.key', 'esm.encoder.layer.10.attention.self.value', 'esm.encoder.layer.10.attention.output.dense', 'esm.encoder.layer.10.intermediate.dense', 'esm.encoder.layer.10.output.dense', 'esm.encoder.layer.11.attention.self.query', 'esm.encoder.layer.11.attention.self.key', 'esm.encoder.layer.11.attention.self.value', 'esm.encoder.layer.11.attention.output.dense', 'esm.encoder.layer.11.intermediate.dense', 'esm.encoder.layer.11.output.dense', 'esm.encoder.layer.12.attention.self.query', 'esm.encoder.layer.12.attention.self.key', 'esm.encoder.layer.12.attention.self.value', 'esm.encoder.layer.12.attention.output.dense', 'esm.encoder.layer.12.intermediate.dense', 'esm.encoder.layer.12.output.dense', 'esm.encoder.layer.13.attention.self.query', 'esm.encoder.layer.13.attention.self.key', 'esm.encoder.layer.13.attention.self.value', 'esm.encoder.layer.13.attention.output.dense', 'esm.encoder.layer.13.intermediate.dense', 'esm.encoder.layer.13.output.dense', 'esm.encoder.layer.14.attention.self.query', 'esm.encoder.layer.14.attention.self.key', 'esm.encoder.layer.14.attention.self.value', 'esm.encoder.layer.14.attention.output.dense', 'esm.encoder.layer.14.intermediate.dense', 'esm.encoder.layer.14.output.dense', 'esm.encoder.layer.15.attention.self.query', 'esm.encoder.layer.15.attention.self.key', 'esm.encoder.layer.15.attention.self.value', 'esm.encoder.layer.15.attention.output.dense', 'esm.encoder.layer.15.intermediate.dense', 'esm.encoder.layer.15.output.dense', 'esm.encoder.layer.16.attention.self.query', 'esm.encoder.layer.16.attention.self.key', 'esm.encoder.layer.16.attention.self.value', 'esm.encoder.layer.16.attention.output.dense', 'esm.encoder.layer.16.intermediate.dense', 'esm.encoder.layer.16.output.dense', 'esm.encoder.layer.17.attention.self.query', 'esm.encoder.layer.17.attention.self.key', 'esm.encoder.layer.17.attention.self.value', 'esm.encoder.layer.17.attention.output.dense', 'esm.encoder.layer.17.intermediate.dense', 'esm.encoder.layer.17.output.dense', 'esm.encoder.layer.18.attention.self.query', 'esm.encoder.layer.18.attention.self.key', 'esm.encoder.layer.18.attention.self.value', 'esm.encoder.layer.18.attention.output.dense', 'esm.encoder.layer.18.intermediate.dense', 'esm.encoder.layer.18.output.dense', 'esm.encoder.layer.19.attention.self.query', 'esm.encoder.layer.19.attention.self.key', 'esm.encoder.layer.19.attention.self.value', 'esm.encoder.layer.19.attention.output.dense', 'esm.encoder.layer.19.intermediate.dense', 'esm.encoder.layer.19.output.dense', 'esm.encoder.layer.20.attention.self.query', 'esm.encoder.layer.20.attention.self.key', 'esm.encoder.layer.20.attention.self.value', 'esm.encoder.layer.20.attention.output.dense', 'esm.encoder.layer.20.intermediate.dense', 'esm.encoder.layer.20.output.dense', 'esm.encoder.layer.21.attention.self.query', 'esm.encoder.layer.21.attention.self.key', 'esm.encoder.layer.21.attention.self.value', 'esm.encoder.layer.21.attention.output.dense', 'esm.encoder.layer.21.intermediate.dense', 'esm.encoder.layer.21.output.dense', 'esm.encoder.layer.22.attention.self.query', 'esm.encoder.layer.22.attention.self.key', 'esm.encoder.layer.22.attention.self.value', 'esm.encoder.layer.22.attention.output.dense', 'esm.encoder.layer.22.intermediate.dense', 'esm.encoder.layer.22.output.dense', 'esm.encoder.layer.23.attention.self.query', 'esm.encoder.layer.23.attention.self.key', 'esm.encoder.layer.23.attention.self.value', 'esm.encoder.layer.23.attention.output.dense', 'esm.encoder.layer.23.intermediate.dense', 'esm.encoder.layer.23.output.dense', 'esm.encoder.layer.24.attention.self.query', 'esm.encoder.layer.24.attention.self.key', 'esm.encoder.layer.24.attention.self.value', 'esm.encoder.layer.24.attention.output.dense', 'esm.encoder.layer.24.intermediate.dense', 'esm.encoder.layer.24.output.dense', 'esm.encoder.layer.25.attention.self.query', 'esm.encoder.layer.25.attention.self.key', 'esm.encoder.layer.25.attention.self.value', 'esm.encoder.layer.25.attention.output.dense', 'esm.encoder.layer.25.intermediate.dense', 'esm.encoder.layer.25.output.dense', 'esm.encoder.layer.26.attention.self.query', 'esm.encoder.layer.26.attention.self.key', 'esm.encoder.layer.26.attention.self.value', 'esm.encoder.layer.26.attention.output.dense', 'esm.encoder.layer.26.intermediate.dense', 'esm.encoder.layer.26.output.dense', 'esm.encoder.layer.27.attention.self.query', 'esm.encoder.layer.27.attention.self.key', 'esm.encoder.layer.27.attention.self.value', 'esm.encoder.layer.27.attention.output.dense', 'esm.encoder.layer.27.intermediate.dense', 'esm.encoder.layer.27.output.dense', 'esm.encoder.layer.28.attention.self.query', 'esm.encoder.layer.28.attention.self.key', 'esm.encoder.layer.28.attention.self.value', 'esm.encoder.layer.28.attention.output.dense', 'esm.encoder.layer.28.intermediate.dense', 'esm.encoder.layer.28.output.dense', 'esm.encoder.layer.29.attention.self.query', 'esm.encoder.layer.29.attention.self.key', 'esm.encoder.layer.29.attention.self.value', 'esm.encoder.layer.29.attention.output.dense', 'esm.encoder.layer.29.intermediate.dense', 'esm.encoder.layer.29.output.dense', 'lm_head.dense', 'lm_head.decoder'].\n",
      "INFO:kronfluence.computer.computer:Automatically determining executable batch size.\n",
      "INFO:kronfluence.computer.computer:Attempting to set per-device batch size to 256.\n",
      "DEBUG:kronfluence.computer.computer:Using sampler <torch.utils.data.sampler.SequentialSampler object at 0x7f07f5a01ac0> for the DataLoader.\n",
      "DEBUG:kronfluence.computer.computer:Using sampler <torch.utils.data.sampler.SequentialSampler object at 0x7f0680503a90> for the DataLoader.\n",
      "Computing pairwise scores (training gradient) [0/1]   0%|           [time left: ?, time spent: 00:00]\n",
      "Computing pairwise scores (query gradient) [0/1]   0%|           [time left: ?, time spent: 00:02]\n",
      "INFO:kronfluence.computer.computer:Attempting to set per-device batch size to 128.\n",
      "DEBUG:kronfluence.computer.computer:Using sampler <torch.utils.data.sampler.SequentialSampler object at 0x7f0680603340> for the DataLoader.\n",
      "DEBUG:kronfluence.computer.computer:Using sampler <torch.utils.data.sampler.SequentialSampler object at 0x7f06806031c0> for the DataLoader.\n",
      "Computing pairwise scores (training gradient) [0/1]   0%|           [time left: ?, time spent: 00:00]\n",
      "Computing pairwise scores (query gradient) [0/1]   0%|           [time left: ?, time spent: 00:02]\n",
      "INFO:kronfluence.computer.computer:Attempting to set per-device batch size to 64.\n",
      "DEBUG:kronfluence.computer.computer:Using sampler <torch.utils.data.sampler.SequentialSampler object at 0x7f0680621eb0> for the DataLoader.\n",
      "DEBUG:kronfluence.computer.computer:Using sampler <torch.utils.data.sampler.SequentialSampler object at 0x7f0680503af0> for the DataLoader.\n",
      "Computing pairwise scores (training gradient) [0/1]   0%|           [time left: ?, time spent: 00:00]\n",
      "Computing pairwise scores (query gradient) [0/1]   0%|           [time left: ?, time spent: 00:02]\n",
      "INFO:kronfluence.computer.computer:Attempting to set per-device batch size to 32.\n",
      "DEBUG:kronfluence.computer.computer:Using sampler <torch.utils.data.sampler.SequentialSampler object at 0x7f0818a84040> for the DataLoader.\n",
      "DEBUG:kronfluence.computer.computer:Using sampler <torch.utils.data.sampler.SequentialSampler object at 0x7f06806032e0> for the DataLoader.\n",
      "Computing pairwise scores (training gradient) [0/1]   0%|           [time left: ?, time spent: 00:00]\n",
      "Computing pairwise scores (query gradient) [0/1]   0%|           [time left: ?, time spent: 00:02]\n",
      "INFO:kronfluence.computer.computer:Attempting to set per-device batch size to 16.\n",
      "DEBUG:kronfluence.computer.computer:Using sampler <torch.utils.data.sampler.SequentialSampler object at 0x7f0680503910> for the DataLoader.\n",
      "DEBUG:kronfluence.computer.computer:Using sampler <torch.utils.data.sampler.SequentialSampler object at 0x7f0680503b50> for the DataLoader.\n",
      "Computing pairwise scores (training gradient) [0/1]   0%|           [time left: ?, time spent: 00:00]\n",
      "Computing pairwise scores (query gradient) [0/1]   0%|           [time left: ?, time spent: 00:02]\n",
      "INFO:kronfluence.computer.computer:Attempting to set per-device batch size to 8.\n",
      "DEBUG:kronfluence.computer.computer:Using sampler <torch.utils.data.sampler.SequentialSampler object at 0x7f0818a84040> for the DataLoader.\n",
      "DEBUG:kronfluence.computer.computer:Using sampler <torch.utils.data.sampler.SequentialSampler object at 0x7f07f5998be0> for the DataLoader.\n",
      "Computing pairwise scores (training gradient) [0/1]   0%|           [time left: ?, time spent: 00:00]\n",
      "Computing pairwise scores (query gradient) [0/1]   0%|           [time left: ?, time spent: 00:02]\n",
      "INFO:kronfluence.computer.computer:Attempting to set per-device batch size to 4.\n",
      "DEBUG:kronfluence.computer.computer:Using sampler <torch.utils.data.sampler.SequentialSampler object at 0x7f0680503ac0> for the DataLoader.\n",
      "DEBUG:kronfluence.computer.computer:Using sampler <torch.utils.data.sampler.SequentialSampler object at 0x7f0680503910> for the DataLoader.\n",
      "Computing pairwise scores (training gradient) [1/1] 100%|██████████ [time left: 00:00, time spent: 00:00]\n",
      "Computing pairwise scores (query gradient) [1/1] 100%|██████████ [time left: 00:00, time spent: 00:02]\n",
      "INFO:kronfluence.computer.computer:Executable batch size determined: 4.\n",
      "DEBUG:kronfluence.computer.computer:Using sampler <torch.utils.data.sampler.SequentialSampler object at 0x7f0681eb0910> for the DataLoader.\n",
      "DEBUG:kronfluence.computer.computer:Using sampler <torch.utils.data.sampler.SequentialSampler object at 0x7f0681eb06a0> for the DataLoader.\n",
      "Computing pairwise scores (training gradient) [64/64] 100%|██████████ [time left: 00:00, time spent: 00:21]\n",
      "Computing pairwise scores (training gradient) [64/64] 100%|██████████ [time left: 00:00, time spent: 00:21]\n",
      "Computing pairwise scores (training gradient) [64/64] 100%|██████████ [time left: 00:00, time spent: 00:21]\n",
      "Computing pairwise scores (training gradient) [64/64] 100%|██████████ [time left: 00:00, time spent: 00:21]\n",
      "Computing pairwise scores (training gradient) [64/64] 100%|██████████ [time left: 00:00, time spent: 00:21]\n",
      "Computing pairwise scores (training gradient) [64/64] 100%|██████████ [time left: 00:00, time spent: 00:21]\n",
      "Computing pairwise scores (training gradient) [64/64] 100%|██████████ [time left: 00:00, time spent: 00:21]\n",
      "Computing pairwise scores (training gradient) [64/64] 100%|██████████ [time left: 00:00, time spent: 00:21]\n",
      "Computing pairwise scores (training gradient) [64/64] 100%|██████████ [time left: 00:00, time spent: 00:21]\n",
      "Computing pairwise scores (training gradient) [64/64] 100%|██████████ [time left: 00:00, time spent: 00:18]\n",
      "Computing pairwise scores (training gradient) [64/64] 100%|██████████ [time left: 00:00, time spent: 00:18]\n",
      "Computing pairwise scores (training gradient) [64/64] 100%|██████████ [time left: 00:00, time spent: 00:18]\n",
      "Computing pairwise scores (training gradient) [64/64] 100%|██████████ [time left: 00:00, time spent: 00:20]\n",
      "Computing pairwise scores (training gradient) [64/64] 100%|██████████ [time left: 00:00, time spent: 00:21]\n",
      "Computing pairwise scores (training gradient) [64/64] 100%|██████████ [time left: 00:00, time spent: 00:21]\n",
      "Computing pairwise scores (training gradient) [64/64] 100%|██████████ [time left: 00:00, time spent: 00:21]\n",
      "Computing pairwise scores (training gradient) [64/64] 100%|██████████ [time left: 00:00, time spent: 00:21]\n",
      "Computing pairwise scores (training gradient) [64/64] 100%|██████████ [time left: 00:00, time spent: 00:21]\n",
      "Computing pairwise scores (training gradient) [64/64] 100%|██████████ [time left: 00:00, time spent: 00:21]\n",
      "Computing pairwise scores (training gradient) [64/64] 100%|██████████ [time left: 00:00, time spent: 00:21]\n",
      "Computing pairwise scores (training gradient) [64/64] 100%|██████████ [time left: 00:00, time spent: 00:21]\n",
      "Computing pairwise scores (training gradient) [64/64] 100%|██████████ [time left: 00:00, time spent: 00:21]\n",
      "Computing pairwise scores (training gradient) [64/64] 100%|██████████ [time left: 00:00, time spent: 00:21]\n",
      "Computing pairwise scores (training gradient) [64/64] 100%|██████████ [time left: 00:00, time spent: 00:21]\n",
      "Computing pairwise scores (training gradient) [64/64] 100%|██████████ [time left: 00:00, time spent: 00:21]\n",
      "Computing pairwise scores (training gradient) [64/64] 100%|██████████ [time left: 00:00, time spent: 00:21]\n",
      "Computing pairwise scores (training gradient) [64/64] 100%|██████████ [time left: 00:00, time spent: 00:19]\n",
      "Computing pairwise scores (training gradient) [64/64] 100%|██████████ [time left: 00:00, time spent: 00:18]\n",
      "Computing pairwise scores (training gradient) [64/64] 100%|██████████ [time left: 00:00, time spent: 00:18]\n",
      "Computing pairwise scores (training gradient) [64/64] 100%|██████████ [time left: 00:00, time spent: 00:19]\n",
      "Computing pairwise scores (training gradient) [64/64] 100%|██████████ [time left: 00:00, time spent: 00:21]\n",
      "Computing pairwise scores (training gradient) [64/64] 100%|██████████ [time left: 00:00, time spent: 00:21]\n",
      "Computing pairwise scores (query gradient) [32/32] 100%|██████████ [time left: 00:00, time spent: 12:19]\n",
      "INFO:kronfluence.computer.computer:Computed pairwise influence scores in 739.97 seconds.\n",
      "INFO:kronfluence.computer.computer:Saved pairwise scores at /home/cadegord/projects/bio-if/private/esm2-if/analyses/esm2_t30_150M_UR50D_benchmarking/scores_esm2_t30_150M_UR50D_benchmarking.\n"
     ]
    }
   ],
   "source": [
    "analyzer.compute_pairwise_scores(\n",
    "    scores_name=\"esm2_t30_150M_UR50D_benchmarking\",\n",
    "    factors_name=\"esm2_t30_150M_UR50D_benchmarking\",\n",
    "    overwrite_output_dir=True,\n",
    "    query_dataset=Dataset.from_dict(ds[:256]),\n",
    "    train_dataset=Dataset.from_dict(ds[:256]),\n",
    "    per_device_query_batch_size=8,\n",
    ")"
   ]
  },
  {
   "cell_type": "code",
   "execution_count": 3,
   "metadata": {},
   "outputs": [
    {
     "name": "stderr",
     "output_type": "stream",
     "text": [
      "DEBUG:urllib3.connectionpool:Starting new HTTPS connection (1): huggingface.co:443\n",
      "DEBUG:urllib3.connectionpool:https://huggingface.co:443 \"HEAD /facebook/esm2_t33_650M_UR50D/resolve/main/tokenizer_config.json HTTP/1.1\" 200 0\n",
      "DEBUG:urllib3.connectionpool:https://huggingface.co:443 \"HEAD /facebook/esm2_t33_650M_UR50D/resolve/main/config.json HTTP/1.1\" 200 0\n"
     ]
    }
   ],
   "source": [
    "tokenizer = AutoTokenizer.from_pretrained(\"facebook/esm2_t33_650M_UR50D\")\n",
    "model = AutoModelForMaskedLM.from_pretrained(\"facebook/esm2_t33_650M_UR50D\", device_map='cuda:7')\n",
    "# remove model.esm.contact_head from model\n",
    "del model.esm.contact_head"
   ]
  },
  {
   "cell_type": "code",
   "execution_count": 11,
   "metadata": {},
   "outputs": [],
   "source": [
    "task = MLMTask()\n",
    "model = prepare_model(model, task)"
   ]
  },
  {
   "cell_type": "code",
   "execution_count": 12,
   "metadata": {},
   "outputs": [
    {
     "name": "stderr",
     "output_type": "stream",
     "text": [
      "INFO:kronfluence.computer.computer:Tracking modules with names: ['esm.encoder.layer.0.attention.self.query', 'esm.encoder.layer.0.attention.self.key', 'esm.encoder.layer.0.attention.self.value', 'esm.encoder.layer.0.attention.output.dense', 'esm.encoder.layer.0.intermediate.dense', 'esm.encoder.layer.0.output.dense', 'esm.encoder.layer.1.attention.self.query', 'esm.encoder.layer.1.attention.self.key', 'esm.encoder.layer.1.attention.self.value', 'esm.encoder.layer.1.attention.output.dense', 'esm.encoder.layer.1.intermediate.dense', 'esm.encoder.layer.1.output.dense', 'esm.encoder.layer.2.attention.self.query', 'esm.encoder.layer.2.attention.self.key', 'esm.encoder.layer.2.attention.self.value', 'esm.encoder.layer.2.attention.output.dense', 'esm.encoder.layer.2.intermediate.dense', 'esm.encoder.layer.2.output.dense', 'esm.encoder.layer.3.attention.self.query', 'esm.encoder.layer.3.attention.self.key', 'esm.encoder.layer.3.attention.self.value', 'esm.encoder.layer.3.attention.output.dense', 'esm.encoder.layer.3.intermediate.dense', 'esm.encoder.layer.3.output.dense', 'esm.encoder.layer.4.attention.self.query', 'esm.encoder.layer.4.attention.self.key', 'esm.encoder.layer.4.attention.self.value', 'esm.encoder.layer.4.attention.output.dense', 'esm.encoder.layer.4.intermediate.dense', 'esm.encoder.layer.4.output.dense', 'esm.encoder.layer.5.attention.self.query', 'esm.encoder.layer.5.attention.self.key', 'esm.encoder.layer.5.attention.self.value', 'esm.encoder.layer.5.attention.output.dense', 'esm.encoder.layer.5.intermediate.dense', 'esm.encoder.layer.5.output.dense', 'esm.encoder.layer.6.attention.self.query', 'esm.encoder.layer.6.attention.self.key', 'esm.encoder.layer.6.attention.self.value', 'esm.encoder.layer.6.attention.output.dense', 'esm.encoder.layer.6.intermediate.dense', 'esm.encoder.layer.6.output.dense', 'esm.encoder.layer.7.attention.self.query', 'esm.encoder.layer.7.attention.self.key', 'esm.encoder.layer.7.attention.self.value', 'esm.encoder.layer.7.attention.output.dense', 'esm.encoder.layer.7.intermediate.dense', 'esm.encoder.layer.7.output.dense', 'esm.encoder.layer.8.attention.self.query', 'esm.encoder.layer.8.attention.self.key', 'esm.encoder.layer.8.attention.self.value', 'esm.encoder.layer.8.attention.output.dense', 'esm.encoder.layer.8.intermediate.dense', 'esm.encoder.layer.8.output.dense', 'esm.encoder.layer.9.attention.self.query', 'esm.encoder.layer.9.attention.self.key', 'esm.encoder.layer.9.attention.self.value', 'esm.encoder.layer.9.attention.output.dense', 'esm.encoder.layer.9.intermediate.dense', 'esm.encoder.layer.9.output.dense', 'esm.encoder.layer.10.attention.self.query', 'esm.encoder.layer.10.attention.self.key', 'esm.encoder.layer.10.attention.self.value', 'esm.encoder.layer.10.attention.output.dense', 'esm.encoder.layer.10.intermediate.dense', 'esm.encoder.layer.10.output.dense', 'esm.encoder.layer.11.attention.self.query', 'esm.encoder.layer.11.attention.self.key', 'esm.encoder.layer.11.attention.self.value', 'esm.encoder.layer.11.attention.output.dense', 'esm.encoder.layer.11.intermediate.dense', 'esm.encoder.layer.11.output.dense', 'esm.encoder.layer.12.attention.self.query', 'esm.encoder.layer.12.attention.self.key', 'esm.encoder.layer.12.attention.self.value', 'esm.encoder.layer.12.attention.output.dense', 'esm.encoder.layer.12.intermediate.dense', 'esm.encoder.layer.12.output.dense', 'esm.encoder.layer.13.attention.self.query', 'esm.encoder.layer.13.attention.self.key', 'esm.encoder.layer.13.attention.self.value', 'esm.encoder.layer.13.attention.output.dense', 'esm.encoder.layer.13.intermediate.dense', 'esm.encoder.layer.13.output.dense', 'esm.encoder.layer.14.attention.self.query', 'esm.encoder.layer.14.attention.self.key', 'esm.encoder.layer.14.attention.self.value', 'esm.encoder.layer.14.attention.output.dense', 'esm.encoder.layer.14.intermediate.dense', 'esm.encoder.layer.14.output.dense', 'esm.encoder.layer.15.attention.self.query', 'esm.encoder.layer.15.attention.self.key', 'esm.encoder.layer.15.attention.self.value', 'esm.encoder.layer.15.attention.output.dense', 'esm.encoder.layer.15.intermediate.dense', 'esm.encoder.layer.15.output.dense', 'esm.encoder.layer.16.attention.self.query', 'esm.encoder.layer.16.attention.self.key', 'esm.encoder.layer.16.attention.self.value', 'esm.encoder.layer.16.attention.output.dense', 'esm.encoder.layer.16.intermediate.dense', 'esm.encoder.layer.16.output.dense', 'esm.encoder.layer.17.attention.self.query', 'esm.encoder.layer.17.attention.self.key', 'esm.encoder.layer.17.attention.self.value', 'esm.encoder.layer.17.attention.output.dense', 'esm.encoder.layer.17.intermediate.dense', 'esm.encoder.layer.17.output.dense', 'esm.encoder.layer.18.attention.self.query', 'esm.encoder.layer.18.attention.self.key', 'esm.encoder.layer.18.attention.self.value', 'esm.encoder.layer.18.attention.output.dense', 'esm.encoder.layer.18.intermediate.dense', 'esm.encoder.layer.18.output.dense', 'esm.encoder.layer.19.attention.self.query', 'esm.encoder.layer.19.attention.self.key', 'esm.encoder.layer.19.attention.self.value', 'esm.encoder.layer.19.attention.output.dense', 'esm.encoder.layer.19.intermediate.dense', 'esm.encoder.layer.19.output.dense', 'esm.encoder.layer.20.attention.self.query', 'esm.encoder.layer.20.attention.self.key', 'esm.encoder.layer.20.attention.self.value', 'esm.encoder.layer.20.attention.output.dense', 'esm.encoder.layer.20.intermediate.dense', 'esm.encoder.layer.20.output.dense', 'esm.encoder.layer.21.attention.self.query', 'esm.encoder.layer.21.attention.self.key', 'esm.encoder.layer.21.attention.self.value', 'esm.encoder.layer.21.attention.output.dense', 'esm.encoder.layer.21.intermediate.dense', 'esm.encoder.layer.21.output.dense', 'esm.encoder.layer.22.attention.self.query', 'esm.encoder.layer.22.attention.self.key', 'esm.encoder.layer.22.attention.self.value', 'esm.encoder.layer.22.attention.output.dense', 'esm.encoder.layer.22.intermediate.dense', 'esm.encoder.layer.22.output.dense', 'esm.encoder.layer.23.attention.self.query', 'esm.encoder.layer.23.attention.self.key', 'esm.encoder.layer.23.attention.self.value', 'esm.encoder.layer.23.attention.output.dense', 'esm.encoder.layer.23.intermediate.dense', 'esm.encoder.layer.23.output.dense', 'esm.encoder.layer.24.attention.self.query', 'esm.encoder.layer.24.attention.self.key', 'esm.encoder.layer.24.attention.self.value', 'esm.encoder.layer.24.attention.output.dense', 'esm.encoder.layer.24.intermediate.dense', 'esm.encoder.layer.24.output.dense', 'esm.encoder.layer.25.attention.self.query', 'esm.encoder.layer.25.attention.self.key', 'esm.encoder.layer.25.attention.self.value', 'esm.encoder.layer.25.attention.output.dense', 'esm.encoder.layer.25.intermediate.dense', 'esm.encoder.layer.25.output.dense', 'esm.encoder.layer.26.attention.self.query', 'esm.encoder.layer.26.attention.self.key', 'esm.encoder.layer.26.attention.self.value', 'esm.encoder.layer.26.attention.output.dense', 'esm.encoder.layer.26.intermediate.dense', 'esm.encoder.layer.26.output.dense', 'esm.encoder.layer.27.attention.self.query', 'esm.encoder.layer.27.attention.self.key', 'esm.encoder.layer.27.attention.self.value', 'esm.encoder.layer.27.attention.output.dense', 'esm.encoder.layer.27.intermediate.dense', 'esm.encoder.layer.27.output.dense', 'esm.encoder.layer.28.attention.self.query', 'esm.encoder.layer.28.attention.self.key', 'esm.encoder.layer.28.attention.self.value', 'esm.encoder.layer.28.attention.output.dense', 'esm.encoder.layer.28.intermediate.dense', 'esm.encoder.layer.28.output.dense', 'esm.encoder.layer.29.attention.self.query', 'esm.encoder.layer.29.attention.self.key', 'esm.encoder.layer.29.attention.self.value', 'esm.encoder.layer.29.attention.output.dense', 'esm.encoder.layer.29.intermediate.dense', 'esm.encoder.layer.29.output.dense', 'esm.encoder.layer.30.attention.self.query', 'esm.encoder.layer.30.attention.self.key', 'esm.encoder.layer.30.attention.self.value', 'esm.encoder.layer.30.attention.output.dense', 'esm.encoder.layer.30.intermediate.dense', 'esm.encoder.layer.30.output.dense', 'esm.encoder.layer.31.attention.self.query', 'esm.encoder.layer.31.attention.self.key', 'esm.encoder.layer.31.attention.self.value', 'esm.encoder.layer.31.attention.output.dense', 'esm.encoder.layer.31.intermediate.dense', 'esm.encoder.layer.31.output.dense', 'esm.encoder.layer.32.attention.self.query', 'esm.encoder.layer.32.attention.self.key', 'esm.encoder.layer.32.attention.self.value', 'esm.encoder.layer.32.attention.output.dense', 'esm.encoder.layer.32.intermediate.dense', 'esm.encoder.layer.32.output.dense', 'lm_head.dense', 'lm_head.decoder'].\n",
      "INFO:kronfluence.computer.computer:Initializing Computer with parameters: {'self': <kronfluence.analyzer.Analyzer object at 0x7f1a31e63dc0>, 'analysis_name': 'esm2_t33_650M_UR50D_benchmarking', 'model': EsmForMaskedLM(\n",
      "  (esm): EsmModel(\n",
      "    (embeddings): EsmEmbeddings(\n",
      "      (word_embeddings): Embedding(33, 1280, padding_idx=1)\n",
      "      (dropout): Dropout(p=0.0, inplace=False)\n",
      "      (position_embeddings): Embedding(1026, 1280, padding_idx=1)\n",
      "    )\n",
      "    (encoder): EsmEncoder(\n",
      "      (layer): ModuleList(\n",
      "        (0-32): 33 x EsmLayer(\n",
      "          (attention): EsmAttention(\n",
      "            (self): EsmSelfAttention(\n",
      "              (query): TrackedLinear(\n",
      "                (original_module): Linear(in_features=1280, out_features=1280, bias=True)\n",
      "              )\n",
      "              (key): TrackedLinear(\n",
      "                (original_module): Linear(in_features=1280, out_features=1280, bias=True)\n",
      "              )\n",
      "              (value): TrackedLinear(\n",
      "                (original_module): Linear(in_features=1280, out_features=1280, bias=True)\n",
      "              )\n",
      "              (dropout): Dropout(p=0.0, inplace=False)\n",
      "              (rotary_embeddings): RotaryEmbedding()\n",
      "            )\n",
      "            (output): EsmSelfOutput(\n",
      "              (dense): TrackedLinear(\n",
      "                (original_module): Linear(in_features=1280, out_features=1280, bias=True)\n",
      "              )\n",
      "              (dropout): Dropout(p=0.0, inplace=False)\n",
      "            )\n",
      "            (LayerNorm): LayerNorm((1280,), eps=1e-05, elementwise_affine=True)\n",
      "          )\n",
      "          (intermediate): EsmIntermediate(\n",
      "            (dense): TrackedLinear(\n",
      "              (original_module): Linear(in_features=1280, out_features=5120, bias=True)\n",
      "            )\n",
      "          )\n",
      "          (output): EsmOutput(\n",
      "            (dense): TrackedLinear(\n",
      "              (original_module): Linear(in_features=5120, out_features=1280, bias=True)\n",
      "            )\n",
      "            (dropout): Dropout(p=0.0, inplace=False)\n",
      "          )\n",
      "          (LayerNorm): LayerNorm((1280,), eps=1e-05, elementwise_affine=True)\n",
      "        )\n",
      "      )\n",
      "      (emb_layer_norm_after): LayerNorm((1280,), eps=1e-05, elementwise_affine=True)\n",
      "    )\n",
      "  )\n",
      "  (lm_head): EsmLMHead(\n",
      "    (dense): TrackedLinear(\n",
      "      (original_module): Linear(in_features=1280, out_features=1280, bias=True)\n",
      "    )\n",
      "    (layer_norm): LayerNorm((1280,), eps=1e-05, elementwise_affine=True)\n",
      "    (decoder): TrackedLinear(\n",
      "      (original_module): Linear(in_features=1280, out_features=33, bias=False)\n",
      "    )\n",
      "  )\n",
      "), 'task': <__main__.MLMTask object at 0x7f1a4cfdec40>, 'cpu': False, 'log_level': None, 'log_main_process_only': True, 'profile': False, 'output_dir': './analyses', 'disable_model_save': True, '__class__': <class 'kronfluence.analyzer.Analyzer'>}\n",
      "DEBUG:kronfluence.computer.computer:Process state configuration:\n",
      "Num processes: 1\n",
      "Process index: 0\n",
      "Local process index: 0\n",
      "Device: cuda\n",
      "\n"
     ]
    }
   ],
   "source": [
    "analyzer = Analyzer(\n",
    "    analysis_name=f\"esm2_t33_650M_UR50D_benchmarking\",\n",
    "    task=task,\n",
    "    model=model,\n",
    "    cpu=False,\n",
    ")\n",
    "dataloader_kwargs = DataLoaderKwargs(collate_fn=default_data_collator)\n",
    "analyzer.set_dataloader_kwargs(dataloader_kwargs)"
   ]
  },
  {
   "cell_type": "code",
   "execution_count": 13,
   "metadata": {},
   "outputs": [
    {
     "name": "stderr",
     "output_type": "stream",
     "text": [
      "DEBUG:kronfluence.computer.computer:Fitting covariance matrices with parameters: {'self': <kronfluence.analyzer.Analyzer object at 0x7f1a31e63dc0>, 'factors_name': 'esm2_t33_650M_UR50D_benchmarking', 'dataset': Dataset({\n",
      "    features: ['seq', 'input_ids', 'attention_mask'],\n",
      "    num_rows: 256\n",
      "}), 'per_device_batch_size': None, 'initial_per_device_batch_size_attempt': 2, 'dataloader_kwargs': None, 'factor_args': None, 'target_data_partitions': None, 'target_module_partitions': None, 'overwrite_output_dir': False}\n",
      "INFO:kronfluence.computer.computer:Factor arguments not provided. Using the default configuration: FactorArguments(strategy='ekfac', use_empirical_fisher=False, immediate_gradient_removal=False, ignore_bias=False, distributed_sync_steps=1000, covariance_max_examples=100000, covariance_data_partition_size=1, covariance_module_partition_size=1, activation_covariance_dtype=torch.float32, gradient_covariance_dtype=torch.float32, eigendecomposition_dtype=torch.float64, lambda_max_examples=100000, lambda_data_partition_size=1, lambda_module_partition_size=1, lambda_iterative_aggregate=False, cached_activation_cpu_offload=False, lambda_dtype=torch.float32).\n",
      "INFO:kronfluence.computer.computer:Found existing saved arguments at `/home/cadegord/projects/bio-if/private/esm2-if/analyses/esm2_t33_650M_UR50D_benchmarking/factors_esm2_t33_650M_UR50D_benchmarking/factor_arguments.json`.\n",
      "INFO:kronfluence.computer.computer:DataLoader arguments not provided. Using the configuration: DataLoaderKwargs(num_workers=0, collate_fn=<function default_data_collator at 0x7f190a5751f0>, pin_memory=False, timeout=0, worker_init_fn=None, multiprocessing_context=None, generator=None, prefetch_factor=None, persistent_workers=False, pin_memory_device='').\n",
      "INFO:kronfluence.computer.computer:Found existing saved dataset metadata at `/home/cadegord/projects/bio-if/private/esm2-if/analyses/esm2_t33_650M_UR50D_benchmarking/factors_esm2_t33_650M_UR50D_benchmarking/covariance_dataset_metadata.json`.\n",
      "INFO:kronfluence.computer.computer:Total data examples to fit covariance matrices: 256.\n",
      "INFO:kronfluence.computer.computer:Fitting covariance matrices with data indices (0, 256) and modules ['esm.encoder.layer.0.attention.self.query', 'esm.encoder.layer.0.attention.self.key', 'esm.encoder.layer.0.attention.self.value', 'esm.encoder.layer.0.attention.output.dense', 'esm.encoder.layer.0.intermediate.dense', 'esm.encoder.layer.0.output.dense', 'esm.encoder.layer.1.attention.self.query', 'esm.encoder.layer.1.attention.self.key', 'esm.encoder.layer.1.attention.self.value', 'esm.encoder.layer.1.attention.output.dense', 'esm.encoder.layer.1.intermediate.dense', 'esm.encoder.layer.1.output.dense', 'esm.encoder.layer.2.attention.self.query', 'esm.encoder.layer.2.attention.self.key', 'esm.encoder.layer.2.attention.self.value', 'esm.encoder.layer.2.attention.output.dense', 'esm.encoder.layer.2.intermediate.dense', 'esm.encoder.layer.2.output.dense', 'esm.encoder.layer.3.attention.self.query', 'esm.encoder.layer.3.attention.self.key', 'esm.encoder.layer.3.attention.self.value', 'esm.encoder.layer.3.attention.output.dense', 'esm.encoder.layer.3.intermediate.dense', 'esm.encoder.layer.3.output.dense', 'esm.encoder.layer.4.attention.self.query', 'esm.encoder.layer.4.attention.self.key', 'esm.encoder.layer.4.attention.self.value', 'esm.encoder.layer.4.attention.output.dense', 'esm.encoder.layer.4.intermediate.dense', 'esm.encoder.layer.4.output.dense', 'esm.encoder.layer.5.attention.self.query', 'esm.encoder.layer.5.attention.self.key', 'esm.encoder.layer.5.attention.self.value', 'esm.encoder.layer.5.attention.output.dense', 'esm.encoder.layer.5.intermediate.dense', 'esm.encoder.layer.5.output.dense', 'esm.encoder.layer.6.attention.self.query', 'esm.encoder.layer.6.attention.self.key', 'esm.encoder.layer.6.attention.self.value', 'esm.encoder.layer.6.attention.output.dense', 'esm.encoder.layer.6.intermediate.dense', 'esm.encoder.layer.6.output.dense', 'esm.encoder.layer.7.attention.self.query', 'esm.encoder.layer.7.attention.self.key', 'esm.encoder.layer.7.attention.self.value', 'esm.encoder.layer.7.attention.output.dense', 'esm.encoder.layer.7.intermediate.dense', 'esm.encoder.layer.7.output.dense', 'esm.encoder.layer.8.attention.self.query', 'esm.encoder.layer.8.attention.self.key', 'esm.encoder.layer.8.attention.self.value', 'esm.encoder.layer.8.attention.output.dense', 'esm.encoder.layer.8.intermediate.dense', 'esm.encoder.layer.8.output.dense', 'esm.encoder.layer.9.attention.self.query', 'esm.encoder.layer.9.attention.self.key', 'esm.encoder.layer.9.attention.self.value', 'esm.encoder.layer.9.attention.output.dense', 'esm.encoder.layer.9.intermediate.dense', 'esm.encoder.layer.9.output.dense', 'esm.encoder.layer.10.attention.self.query', 'esm.encoder.layer.10.attention.self.key', 'esm.encoder.layer.10.attention.self.value', 'esm.encoder.layer.10.attention.output.dense', 'esm.encoder.layer.10.intermediate.dense', 'esm.encoder.layer.10.output.dense', 'esm.encoder.layer.11.attention.self.query', 'esm.encoder.layer.11.attention.self.key', 'esm.encoder.layer.11.attention.self.value', 'esm.encoder.layer.11.attention.output.dense', 'esm.encoder.layer.11.intermediate.dense', 'esm.encoder.layer.11.output.dense', 'esm.encoder.layer.12.attention.self.query', 'esm.encoder.layer.12.attention.self.key', 'esm.encoder.layer.12.attention.self.value', 'esm.encoder.layer.12.attention.output.dense', 'esm.encoder.layer.12.intermediate.dense', 'esm.encoder.layer.12.output.dense', 'esm.encoder.layer.13.attention.self.query', 'esm.encoder.layer.13.attention.self.key', 'esm.encoder.layer.13.attention.self.value', 'esm.encoder.layer.13.attention.output.dense', 'esm.encoder.layer.13.intermediate.dense', 'esm.encoder.layer.13.output.dense', 'esm.encoder.layer.14.attention.self.query', 'esm.encoder.layer.14.attention.self.key', 'esm.encoder.layer.14.attention.self.value', 'esm.encoder.layer.14.attention.output.dense', 'esm.encoder.layer.14.intermediate.dense', 'esm.encoder.layer.14.output.dense', 'esm.encoder.layer.15.attention.self.query', 'esm.encoder.layer.15.attention.self.key', 'esm.encoder.layer.15.attention.self.value', 'esm.encoder.layer.15.attention.output.dense', 'esm.encoder.layer.15.intermediate.dense', 'esm.encoder.layer.15.output.dense', 'esm.encoder.layer.16.attention.self.query', 'esm.encoder.layer.16.attention.self.key', 'esm.encoder.layer.16.attention.self.value', 'esm.encoder.layer.16.attention.output.dense', 'esm.encoder.layer.16.intermediate.dense', 'esm.encoder.layer.16.output.dense', 'esm.encoder.layer.17.attention.self.query', 'esm.encoder.layer.17.attention.self.key', 'esm.encoder.layer.17.attention.self.value', 'esm.encoder.layer.17.attention.output.dense', 'esm.encoder.layer.17.intermediate.dense', 'esm.encoder.layer.17.output.dense', 'esm.encoder.layer.18.attention.self.query', 'esm.encoder.layer.18.attention.self.key', 'esm.encoder.layer.18.attention.self.value', 'esm.encoder.layer.18.attention.output.dense', 'esm.encoder.layer.18.intermediate.dense', 'esm.encoder.layer.18.output.dense', 'esm.encoder.layer.19.attention.self.query', 'esm.encoder.layer.19.attention.self.key', 'esm.encoder.layer.19.attention.self.value', 'esm.encoder.layer.19.attention.output.dense', 'esm.encoder.layer.19.intermediate.dense', 'esm.encoder.layer.19.output.dense', 'esm.encoder.layer.20.attention.self.query', 'esm.encoder.layer.20.attention.self.key', 'esm.encoder.layer.20.attention.self.value', 'esm.encoder.layer.20.attention.output.dense', 'esm.encoder.layer.20.intermediate.dense', 'esm.encoder.layer.20.output.dense', 'esm.encoder.layer.21.attention.self.query', 'esm.encoder.layer.21.attention.self.key', 'esm.encoder.layer.21.attention.self.value', 'esm.encoder.layer.21.attention.output.dense', 'esm.encoder.layer.21.intermediate.dense', 'esm.encoder.layer.21.output.dense', 'esm.encoder.layer.22.attention.self.query', 'esm.encoder.layer.22.attention.self.key', 'esm.encoder.layer.22.attention.self.value', 'esm.encoder.layer.22.attention.output.dense', 'esm.encoder.layer.22.intermediate.dense', 'esm.encoder.layer.22.output.dense', 'esm.encoder.layer.23.attention.self.query', 'esm.encoder.layer.23.attention.self.key', 'esm.encoder.layer.23.attention.self.value', 'esm.encoder.layer.23.attention.output.dense', 'esm.encoder.layer.23.intermediate.dense', 'esm.encoder.layer.23.output.dense', 'esm.encoder.layer.24.attention.self.query', 'esm.encoder.layer.24.attention.self.key', 'esm.encoder.layer.24.attention.self.value', 'esm.encoder.layer.24.attention.output.dense', 'esm.encoder.layer.24.intermediate.dense', 'esm.encoder.layer.24.output.dense', 'esm.encoder.layer.25.attention.self.query', 'esm.encoder.layer.25.attention.self.key', 'esm.encoder.layer.25.attention.self.value', 'esm.encoder.layer.25.attention.output.dense', 'esm.encoder.layer.25.intermediate.dense', 'esm.encoder.layer.25.output.dense', 'esm.encoder.layer.26.attention.self.query', 'esm.encoder.layer.26.attention.self.key', 'esm.encoder.layer.26.attention.self.value', 'esm.encoder.layer.26.attention.output.dense', 'esm.encoder.layer.26.intermediate.dense', 'esm.encoder.layer.26.output.dense', 'esm.encoder.layer.27.attention.self.query', 'esm.encoder.layer.27.attention.self.key', 'esm.encoder.layer.27.attention.self.value', 'esm.encoder.layer.27.attention.output.dense', 'esm.encoder.layer.27.intermediate.dense', 'esm.encoder.layer.27.output.dense', 'esm.encoder.layer.28.attention.self.query', 'esm.encoder.layer.28.attention.self.key', 'esm.encoder.layer.28.attention.self.value', 'esm.encoder.layer.28.attention.output.dense', 'esm.encoder.layer.28.intermediate.dense', 'esm.encoder.layer.28.output.dense', 'esm.encoder.layer.29.attention.self.query', 'esm.encoder.layer.29.attention.self.key', 'esm.encoder.layer.29.attention.self.value', 'esm.encoder.layer.29.attention.output.dense', 'esm.encoder.layer.29.intermediate.dense', 'esm.encoder.layer.29.output.dense', 'esm.encoder.layer.30.attention.self.query', 'esm.encoder.layer.30.attention.self.key', 'esm.encoder.layer.30.attention.self.value', 'esm.encoder.layer.30.attention.output.dense', 'esm.encoder.layer.30.intermediate.dense', 'esm.encoder.layer.30.output.dense', 'esm.encoder.layer.31.attention.self.query', 'esm.encoder.layer.31.attention.self.key', 'esm.encoder.layer.31.attention.self.value', 'esm.encoder.layer.31.attention.output.dense', 'esm.encoder.layer.31.intermediate.dense', 'esm.encoder.layer.31.output.dense', 'esm.encoder.layer.32.attention.self.query', 'esm.encoder.layer.32.attention.self.key', 'esm.encoder.layer.32.attention.self.value', 'esm.encoder.layer.32.attention.output.dense', 'esm.encoder.layer.32.intermediate.dense', 'esm.encoder.layer.32.output.dense', 'lm_head.dense', 'lm_head.decoder'].\n",
      "INFO:kronfluence.computer.computer:Automatically determining executable batch size.\n",
      "INFO:kronfluence.computer.computer:Attempting to set per-device batch size to 2.\n",
      "DEBUG:kronfluence.computer.computer:Using sampler <torch.utils.data.sampler.SequentialSampler object at 0x7f1a4d670e50> for the DataLoader.\n",
      "Fitting covariance matrices [1/1] 100%|██████████ [time left: 00:00, time spent: 00:01]\n",
      "INFO:kronfluence.computer.computer:Executable batch size determined: 2.\n",
      "DEBUG:kronfluence.computer.computer:Using sampler <torch.utils.data.sampler.SequentialSampler object at 0x7f1a2d274eb0> for the DataLoader.\n",
      "Fitting covariance matrices [128/128] 100%|██████████ [time left: 00:00, time spent: 00:51]\n",
      "INFO:kronfluence.computer.computer:Fitted covariance matrices with 256 data points in 51.95 seconds.\n",
      "INFO:kronfluence.computer.computer:Saved covariance matrices at `/home/cadegord/projects/bio-if/private/esm2-if/analyses/esm2_t33_650M_UR50D_benchmarking/factors_esm2_t33_650M_UR50D_benchmarking`.\n",
      "DEBUG:kronfluence.computer.computer:Performing Eigendecomposition with parameters: {'self': <kronfluence.analyzer.Analyzer object at 0x7f1a31e63dc0>, 'factors_name': 'esm2_t33_650M_UR50D_benchmarking', 'factor_args': None, 'overwrite_output_dir': False, 'load_from_factors_name': None}\n",
      "INFO:kronfluence.computer.computer:Factor arguments not provided. Using the default configuration: FactorArguments(strategy='ekfac', use_empirical_fisher=False, immediate_gradient_removal=False, ignore_bias=False, distributed_sync_steps=1000, covariance_max_examples=100000, covariance_data_partition_size=1, covariance_module_partition_size=1, activation_covariance_dtype=torch.float32, gradient_covariance_dtype=torch.float32, eigendecomposition_dtype=torch.float64, lambda_max_examples=100000, lambda_data_partition_size=1, lambda_module_partition_size=1, lambda_iterative_aggregate=False, cached_activation_cpu_offload=False, lambda_dtype=torch.float32).\n",
      "INFO:kronfluence.computer.computer:Found existing saved arguments at `/home/cadegord/projects/bio-if/private/esm2-if/analyses/esm2_t33_650M_UR50D_benchmarking/factors_esm2_t33_650M_UR50D_benchmarking/factor_arguments.json`.\n",
      "Performing Eigendecomposition [200/200] 100%|██████████ [time left: 00:00, time spent: 00:55]\n",
      "INFO:kronfluence.computer.computer:Performed Eigendecomposition in 55.42 seconds.\n",
      "INFO:kronfluence.computer.computer:Saved Eigendecomposition results at `/home/cadegord/projects/bio-if/private/esm2-if/analyses/esm2_t33_650M_UR50D_benchmarking/factors_esm2_t33_650M_UR50D_benchmarking`.\n",
      "DEBUG:kronfluence.computer.computer:Fitting Lambda matrices with parameters: {'self': <kronfluence.analyzer.Analyzer object at 0x7f1a31e63dc0>, 'factors_name': 'esm2_t33_650M_UR50D_benchmarking', 'dataset': Dataset({\n",
      "    features: ['seq', 'input_ids', 'attention_mask'],\n",
      "    num_rows: 256\n",
      "}), 'per_device_batch_size': None, 'initial_per_device_batch_size_attempt': 2, 'dataloader_kwargs': None, 'factor_args': None, 'target_data_partitions': None, 'target_module_partitions': None, 'overwrite_output_dir': False, 'load_from_factors_name': None}\n",
      "INFO:kronfluence.computer.computer:Factor arguments not provided. Using the default configuration: FactorArguments(strategy='ekfac', use_empirical_fisher=False, immediate_gradient_removal=False, ignore_bias=False, distributed_sync_steps=1000, covariance_max_examples=100000, covariance_data_partition_size=1, covariance_module_partition_size=1, activation_covariance_dtype=torch.float32, gradient_covariance_dtype=torch.float32, eigendecomposition_dtype=torch.float64, lambda_max_examples=100000, lambda_data_partition_size=1, lambda_module_partition_size=1, lambda_iterative_aggregate=False, cached_activation_cpu_offload=False, lambda_dtype=torch.float32).\n",
      "INFO:kronfluence.computer.computer:Found existing saved arguments at `/home/cadegord/projects/bio-if/private/esm2-if/analyses/esm2_t33_650M_UR50D_benchmarking/factors_esm2_t33_650M_UR50D_benchmarking/factor_arguments.json`.\n",
      "INFO:kronfluence.computer.computer:DataLoader arguments not provided. Using the configuration: DataLoaderKwargs(num_workers=0, collate_fn=<function default_data_collator at 0x7f190a5751f0>, pin_memory=False, timeout=0, worker_init_fn=None, multiprocessing_context=None, generator=None, prefetch_factor=None, persistent_workers=False, pin_memory_device='').\n",
      "INFO:kronfluence.computer.computer:Saved dataset metadata at `/home/cadegord/projects/bio-if/private/esm2-if/analyses/esm2_t33_650M_UR50D_benchmarking/factors_esm2_t33_650M_UR50D_benchmarking/lambda_dataset_metadata.json`.\n",
      "INFO:kronfluence.computer.computer:Total data examples to fit Lambda matrices: 256.\n",
      "INFO:kronfluence.computer.computer:Fitting Lambda matrices with data indices (0, 256) and modules ['esm.encoder.layer.0.attention.self.query', 'esm.encoder.layer.0.attention.self.key', 'esm.encoder.layer.0.attention.self.value', 'esm.encoder.layer.0.attention.output.dense', 'esm.encoder.layer.0.intermediate.dense', 'esm.encoder.layer.0.output.dense', 'esm.encoder.layer.1.attention.self.query', 'esm.encoder.layer.1.attention.self.key', 'esm.encoder.layer.1.attention.self.value', 'esm.encoder.layer.1.attention.output.dense', 'esm.encoder.layer.1.intermediate.dense', 'esm.encoder.layer.1.output.dense', 'esm.encoder.layer.2.attention.self.query', 'esm.encoder.layer.2.attention.self.key', 'esm.encoder.layer.2.attention.self.value', 'esm.encoder.layer.2.attention.output.dense', 'esm.encoder.layer.2.intermediate.dense', 'esm.encoder.layer.2.output.dense', 'esm.encoder.layer.3.attention.self.query', 'esm.encoder.layer.3.attention.self.key', 'esm.encoder.layer.3.attention.self.value', 'esm.encoder.layer.3.attention.output.dense', 'esm.encoder.layer.3.intermediate.dense', 'esm.encoder.layer.3.output.dense', 'esm.encoder.layer.4.attention.self.query', 'esm.encoder.layer.4.attention.self.key', 'esm.encoder.layer.4.attention.self.value', 'esm.encoder.layer.4.attention.output.dense', 'esm.encoder.layer.4.intermediate.dense', 'esm.encoder.layer.4.output.dense', 'esm.encoder.layer.5.attention.self.query', 'esm.encoder.layer.5.attention.self.key', 'esm.encoder.layer.5.attention.self.value', 'esm.encoder.layer.5.attention.output.dense', 'esm.encoder.layer.5.intermediate.dense', 'esm.encoder.layer.5.output.dense', 'esm.encoder.layer.6.attention.self.query', 'esm.encoder.layer.6.attention.self.key', 'esm.encoder.layer.6.attention.self.value', 'esm.encoder.layer.6.attention.output.dense', 'esm.encoder.layer.6.intermediate.dense', 'esm.encoder.layer.6.output.dense', 'esm.encoder.layer.7.attention.self.query', 'esm.encoder.layer.7.attention.self.key', 'esm.encoder.layer.7.attention.self.value', 'esm.encoder.layer.7.attention.output.dense', 'esm.encoder.layer.7.intermediate.dense', 'esm.encoder.layer.7.output.dense', 'esm.encoder.layer.8.attention.self.query', 'esm.encoder.layer.8.attention.self.key', 'esm.encoder.layer.8.attention.self.value', 'esm.encoder.layer.8.attention.output.dense', 'esm.encoder.layer.8.intermediate.dense', 'esm.encoder.layer.8.output.dense', 'esm.encoder.layer.9.attention.self.query', 'esm.encoder.layer.9.attention.self.key', 'esm.encoder.layer.9.attention.self.value', 'esm.encoder.layer.9.attention.output.dense', 'esm.encoder.layer.9.intermediate.dense', 'esm.encoder.layer.9.output.dense', 'esm.encoder.layer.10.attention.self.query', 'esm.encoder.layer.10.attention.self.key', 'esm.encoder.layer.10.attention.self.value', 'esm.encoder.layer.10.attention.output.dense', 'esm.encoder.layer.10.intermediate.dense', 'esm.encoder.layer.10.output.dense', 'esm.encoder.layer.11.attention.self.query', 'esm.encoder.layer.11.attention.self.key', 'esm.encoder.layer.11.attention.self.value', 'esm.encoder.layer.11.attention.output.dense', 'esm.encoder.layer.11.intermediate.dense', 'esm.encoder.layer.11.output.dense', 'esm.encoder.layer.12.attention.self.query', 'esm.encoder.layer.12.attention.self.key', 'esm.encoder.layer.12.attention.self.value', 'esm.encoder.layer.12.attention.output.dense', 'esm.encoder.layer.12.intermediate.dense', 'esm.encoder.layer.12.output.dense', 'esm.encoder.layer.13.attention.self.query', 'esm.encoder.layer.13.attention.self.key', 'esm.encoder.layer.13.attention.self.value', 'esm.encoder.layer.13.attention.output.dense', 'esm.encoder.layer.13.intermediate.dense', 'esm.encoder.layer.13.output.dense', 'esm.encoder.layer.14.attention.self.query', 'esm.encoder.layer.14.attention.self.key', 'esm.encoder.layer.14.attention.self.value', 'esm.encoder.layer.14.attention.output.dense', 'esm.encoder.layer.14.intermediate.dense', 'esm.encoder.layer.14.output.dense', 'esm.encoder.layer.15.attention.self.query', 'esm.encoder.layer.15.attention.self.key', 'esm.encoder.layer.15.attention.self.value', 'esm.encoder.layer.15.attention.output.dense', 'esm.encoder.layer.15.intermediate.dense', 'esm.encoder.layer.15.output.dense', 'esm.encoder.layer.16.attention.self.query', 'esm.encoder.layer.16.attention.self.key', 'esm.encoder.layer.16.attention.self.value', 'esm.encoder.layer.16.attention.output.dense', 'esm.encoder.layer.16.intermediate.dense', 'esm.encoder.layer.16.output.dense', 'esm.encoder.layer.17.attention.self.query', 'esm.encoder.layer.17.attention.self.key', 'esm.encoder.layer.17.attention.self.value', 'esm.encoder.layer.17.attention.output.dense', 'esm.encoder.layer.17.intermediate.dense', 'esm.encoder.layer.17.output.dense', 'esm.encoder.layer.18.attention.self.query', 'esm.encoder.layer.18.attention.self.key', 'esm.encoder.layer.18.attention.self.value', 'esm.encoder.layer.18.attention.output.dense', 'esm.encoder.layer.18.intermediate.dense', 'esm.encoder.layer.18.output.dense', 'esm.encoder.layer.19.attention.self.query', 'esm.encoder.layer.19.attention.self.key', 'esm.encoder.layer.19.attention.self.value', 'esm.encoder.layer.19.attention.output.dense', 'esm.encoder.layer.19.intermediate.dense', 'esm.encoder.layer.19.output.dense', 'esm.encoder.layer.20.attention.self.query', 'esm.encoder.layer.20.attention.self.key', 'esm.encoder.layer.20.attention.self.value', 'esm.encoder.layer.20.attention.output.dense', 'esm.encoder.layer.20.intermediate.dense', 'esm.encoder.layer.20.output.dense', 'esm.encoder.layer.21.attention.self.query', 'esm.encoder.layer.21.attention.self.key', 'esm.encoder.layer.21.attention.self.value', 'esm.encoder.layer.21.attention.output.dense', 'esm.encoder.layer.21.intermediate.dense', 'esm.encoder.layer.21.output.dense', 'esm.encoder.layer.22.attention.self.query', 'esm.encoder.layer.22.attention.self.key', 'esm.encoder.layer.22.attention.self.value', 'esm.encoder.layer.22.attention.output.dense', 'esm.encoder.layer.22.intermediate.dense', 'esm.encoder.layer.22.output.dense', 'esm.encoder.layer.23.attention.self.query', 'esm.encoder.layer.23.attention.self.key', 'esm.encoder.layer.23.attention.self.value', 'esm.encoder.layer.23.attention.output.dense', 'esm.encoder.layer.23.intermediate.dense', 'esm.encoder.layer.23.output.dense', 'esm.encoder.layer.24.attention.self.query', 'esm.encoder.layer.24.attention.self.key', 'esm.encoder.layer.24.attention.self.value', 'esm.encoder.layer.24.attention.output.dense', 'esm.encoder.layer.24.intermediate.dense', 'esm.encoder.layer.24.output.dense', 'esm.encoder.layer.25.attention.self.query', 'esm.encoder.layer.25.attention.self.key', 'esm.encoder.layer.25.attention.self.value', 'esm.encoder.layer.25.attention.output.dense', 'esm.encoder.layer.25.intermediate.dense', 'esm.encoder.layer.25.output.dense', 'esm.encoder.layer.26.attention.self.query', 'esm.encoder.layer.26.attention.self.key', 'esm.encoder.layer.26.attention.self.value', 'esm.encoder.layer.26.attention.output.dense', 'esm.encoder.layer.26.intermediate.dense', 'esm.encoder.layer.26.output.dense', 'esm.encoder.layer.27.attention.self.query', 'esm.encoder.layer.27.attention.self.key', 'esm.encoder.layer.27.attention.self.value', 'esm.encoder.layer.27.attention.output.dense', 'esm.encoder.layer.27.intermediate.dense', 'esm.encoder.layer.27.output.dense', 'esm.encoder.layer.28.attention.self.query', 'esm.encoder.layer.28.attention.self.key', 'esm.encoder.layer.28.attention.self.value', 'esm.encoder.layer.28.attention.output.dense', 'esm.encoder.layer.28.intermediate.dense', 'esm.encoder.layer.28.output.dense', 'esm.encoder.layer.29.attention.self.query', 'esm.encoder.layer.29.attention.self.key', 'esm.encoder.layer.29.attention.self.value', 'esm.encoder.layer.29.attention.output.dense', 'esm.encoder.layer.29.intermediate.dense', 'esm.encoder.layer.29.output.dense', 'esm.encoder.layer.30.attention.self.query', 'esm.encoder.layer.30.attention.self.key', 'esm.encoder.layer.30.attention.self.value', 'esm.encoder.layer.30.attention.output.dense', 'esm.encoder.layer.30.intermediate.dense', 'esm.encoder.layer.30.output.dense', 'esm.encoder.layer.31.attention.self.query', 'esm.encoder.layer.31.attention.self.key', 'esm.encoder.layer.31.attention.self.value', 'esm.encoder.layer.31.attention.output.dense', 'esm.encoder.layer.31.intermediate.dense', 'esm.encoder.layer.31.output.dense', 'esm.encoder.layer.32.attention.self.query', 'esm.encoder.layer.32.attention.self.key', 'esm.encoder.layer.32.attention.self.value', 'esm.encoder.layer.32.attention.output.dense', 'esm.encoder.layer.32.intermediate.dense', 'esm.encoder.layer.32.output.dense', 'lm_head.dense', 'lm_head.decoder'].\n",
      "INFO:kronfluence.computer.computer:Automatically determining executable batch size.\n",
      "INFO:kronfluence.computer.computer:Attempting to set per-device batch size to 2.\n",
      "DEBUG:kronfluence.computer.computer:Using sampler <torch.utils.data.sampler.SequentialSampler object at 0x7f1a2d2743d0> for the DataLoader.\n",
      "Fitting Lambda matrices [0/1]   0%|           [time left: ?, time spent: 00:20]\n",
      "INFO:kronfluence.computer.computer:Attempting to set per-device batch size to 1.\n",
      "DEBUG:kronfluence.computer.computer:Using sampler <torch.utils.data.sampler.SequentialSampler object at 0x7f1a319424f0> for the DataLoader.\n",
      "Fitting Lambda matrices [0/1]   0%|           [time left: ?, time spent: 00:02]\n"
     ]
    },
    {
     "ename": "RuntimeError",
     "evalue": "No executable batch size found, reached zero.",
     "output_type": "error",
     "traceback": [
      "\u001b[0;31m---------------------------------------------------------------------------\u001b[0m",
      "\u001b[0;31mRuntimeError\u001b[0m                              Traceback (most recent call last)",
      "Cell \u001b[0;32mIn[13], line 1\u001b[0m\n\u001b[0;32m----> 1\u001b[0m \u001b[43manalyzer\u001b[49m\u001b[38;5;241;43m.\u001b[39;49m\u001b[43mfit_all_factors\u001b[49m\u001b[43m(\u001b[49m\n\u001b[1;32m      2\u001b[0m \u001b[43m    \u001b[49m\u001b[43mfactors_name\u001b[49m\u001b[38;5;241;43m=\u001b[39;49m\u001b[38;5;124;43m\"\u001b[39;49m\u001b[38;5;124;43mesm2_t33_650M_UR50D_benchmarking\u001b[39;49m\u001b[38;5;124;43m\"\u001b[39;49m\u001b[43m,\u001b[49m\n\u001b[1;32m      3\u001b[0m \u001b[43m    \u001b[49m\u001b[43mdataset\u001b[49m\u001b[38;5;241;43m=\u001b[39;49m\u001b[43mDataset\u001b[49m\u001b[38;5;241;43m.\u001b[39;49m\u001b[43mfrom_dict\u001b[49m\u001b[43m(\u001b[49m\u001b[43mds\u001b[49m\u001b[43m[\u001b[49m\u001b[43m:\u001b[49m\u001b[38;5;241;43m256\u001b[39;49m\u001b[43m]\u001b[49m\u001b[43m)\u001b[49m\u001b[43m,\u001b[49m\n\u001b[1;32m      4\u001b[0m \u001b[43m    \u001b[49m\u001b[38;5;66;43;03m# dataset=ds,\u001b[39;49;00m\n\u001b[1;32m      5\u001b[0m \u001b[43m    \u001b[49m\u001b[43mper_device_batch_size\u001b[49m\u001b[38;5;241;43m=\u001b[39;49m\u001b[38;5;28;43;01mNone\u001b[39;49;00m\u001b[43m,\u001b[49m\n\u001b[1;32m      6\u001b[0m \u001b[43m    \u001b[49m\u001b[43moverwrite_output_dir\u001b[49m\u001b[38;5;241;43m=\u001b[39;49m\u001b[38;5;28;43;01mFalse\u001b[39;49;00m\u001b[43m,\u001b[49m\n\u001b[1;32m      7\u001b[0m \u001b[43m    \u001b[49m\u001b[43minitial_per_device_batch_size_attempt\u001b[49m\u001b[38;5;241;43m=\u001b[39;49m\u001b[38;5;241;43m2\u001b[39;49m\u001b[43m,\u001b[49m\n\u001b[1;32m      8\u001b[0m \u001b[43m)\u001b[49m\n",
      "File \u001b[0;32m~/projects/kronfluence/kronfluence/analyzer.py:188\u001b[0m, in \u001b[0;36mAnalyzer.fit_all_factors\u001b[0;34m(self, factors_name, dataset, per_device_batch_size, initial_per_device_batch_size_attempt, dataloader_kwargs, factor_args, overwrite_output_dir)\u001b[0m\n\u001b[1;32m    174\u001b[0m \u001b[38;5;28mself\u001b[39m\u001b[38;5;241m.\u001b[39mfit_covariance_matrices(\n\u001b[1;32m    175\u001b[0m     factors_name\u001b[38;5;241m=\u001b[39mfactors_name,\n\u001b[1;32m    176\u001b[0m     dataset\u001b[38;5;241m=\u001b[39mdataset,\n\u001b[0;32m   (...)\u001b[0m\n\u001b[1;32m    181\u001b[0m     overwrite_output_dir\u001b[38;5;241m=\u001b[39moverwrite_output_dir,\n\u001b[1;32m    182\u001b[0m )\n\u001b[1;32m    183\u001b[0m \u001b[38;5;28mself\u001b[39m\u001b[38;5;241m.\u001b[39mperform_eigendecomposition(\n\u001b[1;32m    184\u001b[0m     factors_name\u001b[38;5;241m=\u001b[39mfactors_name,\n\u001b[1;32m    185\u001b[0m     factor_args\u001b[38;5;241m=\u001b[39mfactor_args,\n\u001b[1;32m    186\u001b[0m     overwrite_output_dir\u001b[38;5;241m=\u001b[39moverwrite_output_dir,\n\u001b[1;32m    187\u001b[0m )\n\u001b[0;32m--> 188\u001b[0m \u001b[38;5;28;43mself\u001b[39;49m\u001b[38;5;241;43m.\u001b[39;49m\u001b[43mfit_lambda_matrices\u001b[49m\u001b[43m(\u001b[49m\n\u001b[1;32m    189\u001b[0m \u001b[43m    \u001b[49m\u001b[43mfactors_name\u001b[49m\u001b[38;5;241;43m=\u001b[39;49m\u001b[43mfactors_name\u001b[49m\u001b[43m,\u001b[49m\n\u001b[1;32m    190\u001b[0m \u001b[43m    \u001b[49m\u001b[43mdataset\u001b[49m\u001b[38;5;241;43m=\u001b[39;49m\u001b[43mdataset\u001b[49m\u001b[43m,\u001b[49m\n\u001b[1;32m    191\u001b[0m \u001b[43m    \u001b[49m\u001b[43mper_device_batch_size\u001b[49m\u001b[38;5;241;43m=\u001b[39;49m\u001b[43mper_device_batch_size\u001b[49m\u001b[43m,\u001b[49m\n\u001b[1;32m    192\u001b[0m \u001b[43m    \u001b[49m\u001b[43minitial_per_device_batch_size_attempt\u001b[49m\u001b[38;5;241;43m=\u001b[39;49m\u001b[43minitial_per_device_batch_size_attempt\u001b[49m\u001b[43m,\u001b[49m\n\u001b[1;32m    193\u001b[0m \u001b[43m    \u001b[49m\u001b[43mdataloader_kwargs\u001b[49m\u001b[38;5;241;43m=\u001b[39;49m\u001b[43mdataloader_kwargs\u001b[49m\u001b[43m,\u001b[49m\n\u001b[1;32m    194\u001b[0m \u001b[43m    \u001b[49m\u001b[43mfactor_args\u001b[49m\u001b[38;5;241;43m=\u001b[39;49m\u001b[43mfactor_args\u001b[49m\u001b[43m,\u001b[49m\n\u001b[1;32m    195\u001b[0m \u001b[43m    \u001b[49m\u001b[43moverwrite_output_dir\u001b[49m\u001b[38;5;241;43m=\u001b[39;49m\u001b[43moverwrite_output_dir\u001b[49m\u001b[43m,\u001b[49m\n\u001b[1;32m    196\u001b[0m \u001b[43m\u001b[49m\u001b[43m)\u001b[49m\n",
      "File \u001b[0;32m~/projects/kronfluence/kronfluence/computer/factor_computer.py:646\u001b[0m, in \u001b[0;36mFactorComputer.fit_lambda_matrices\u001b[0;34m(self, factors_name, dataset, per_device_batch_size, initial_per_device_batch_size_attempt, dataloader_kwargs, factor_args, target_data_partitions, target_module_partitions, overwrite_output_dir, load_from_factors_name)\u001b[0m\n\u001b[1;32m    637\u001b[0m \u001b[38;5;28;01mif\u001b[39;00m per_device_batch_size \u001b[38;5;129;01mis\u001b[39;00m \u001b[38;5;28;01mNone\u001b[39;00m:\n\u001b[1;32m    638\u001b[0m     kwargs \u001b[38;5;241m=\u001b[39m {\n\u001b[1;32m    639\u001b[0m         \u001b[38;5;124m\"\u001b[39m\u001b[38;5;124meigen_factors\u001b[39m\u001b[38;5;124m\"\u001b[39m: eigen_factors,\n\u001b[1;32m    640\u001b[0m         \u001b[38;5;124m\"\u001b[39m\u001b[38;5;124mmodel\u001b[39m\u001b[38;5;124m\"\u001b[39m: \u001b[38;5;28mself\u001b[39m\u001b[38;5;241m.\u001b[39mmodel,\n\u001b[0;32m   (...)\u001b[0m\n\u001b[1;32m    644\u001b[0m         \u001b[38;5;124m\"\u001b[39m\u001b[38;5;124mtracked_module_names\u001b[39m\u001b[38;5;124m\"\u001b[39m: module_partition_names[module_partition],\n\u001b[1;32m    645\u001b[0m     }\n\u001b[0;32m--> 646\u001b[0m     per_device_batch_size \u001b[38;5;241m=\u001b[39m \u001b[38;5;28;43mself\u001b[39;49m\u001b[38;5;241;43m.\u001b[39;49m\u001b[43m_find_executable_factors_batch_size\u001b[49m\u001b[43m(\u001b[49m\n\u001b[1;32m    647\u001b[0m \u001b[43m        \u001b[49m\u001b[43mfunc\u001b[49m\u001b[38;5;241;43m=\u001b[39;49m\u001b[43mfit_lambda_matrices_with_loader\u001b[49m\u001b[43m,\u001b[49m\n\u001b[1;32m    648\u001b[0m \u001b[43m        \u001b[49m\u001b[43mfunc_kwargs\u001b[49m\u001b[38;5;241;43m=\u001b[39;49m\u001b[43mkwargs\u001b[49m\u001b[43m,\u001b[49m\n\u001b[1;32m    649\u001b[0m \u001b[43m        \u001b[49m\u001b[43mdataset\u001b[49m\u001b[38;5;241;43m=\u001b[39;49m\u001b[43mdataset\u001b[49m\u001b[43m,\u001b[49m\n\u001b[1;32m    650\u001b[0m \u001b[43m        \u001b[49m\u001b[43minitial_per_device_batch_size_attempt\u001b[49m\u001b[38;5;241;43m=\u001b[39;49m\u001b[43minitial_per_device_batch_size_attempt\u001b[49m\u001b[43m,\u001b[49m\n\u001b[1;32m    651\u001b[0m \u001b[43m        \u001b[49m\u001b[43mdataloader_params\u001b[49m\u001b[38;5;241;43m=\u001b[39;49m\u001b[43mdataloader_params\u001b[49m\u001b[43m,\u001b[49m\n\u001b[1;32m    652\u001b[0m \u001b[43m        \u001b[49m\u001b[43mtotal_data_examples\u001b[49m\u001b[38;5;241;43m=\u001b[39;49m\u001b[43mmax_partition_examples\u001b[49m\u001b[43m,\u001b[49m\n\u001b[1;32m    653\u001b[0m \u001b[43m    \u001b[49m\u001b[43m)\u001b[49m\n\u001b[1;32m    655\u001b[0m release_memory()\n\u001b[1;32m    656\u001b[0m start_time \u001b[38;5;241m=\u001b[39m get_time(state\u001b[38;5;241m=\u001b[39m\u001b[38;5;28mself\u001b[39m\u001b[38;5;241m.\u001b[39mstate)\n",
      "File \u001b[0;32m~/projects/kronfluence/kronfluence/computer/factor_computer.py:156\u001b[0m, in \u001b[0;36mFactorComputer._find_executable_factors_batch_size\u001b[0;34m(self, func, func_kwargs, initial_per_device_batch_size_attempt, dataset, dataloader_params, total_data_examples)\u001b[0m\n\u001b[1;32m    147\u001b[0m     loader \u001b[38;5;241m=\u001b[39m \u001b[38;5;28mself\u001b[39m\u001b[38;5;241m.\u001b[39m_get_dataloader(\n\u001b[1;32m    148\u001b[0m         dataset\u001b[38;5;241m=\u001b[39mdataset,\n\u001b[1;32m    149\u001b[0m         per_device_batch_size\u001b[38;5;241m=\u001b[39mbatch_size,\n\u001b[0;32m   (...)\u001b[0m\n\u001b[1;32m    152\u001b[0m         allow_duplicates\u001b[38;5;241m=\u001b[39m\u001b[38;5;28;01mTrue\u001b[39;00m,\n\u001b[1;32m    153\u001b[0m     )\n\u001b[1;32m    154\u001b[0m     func(loader\u001b[38;5;241m=\u001b[39mloader, \u001b[38;5;241m*\u001b[39m\u001b[38;5;241m*\u001b[39mfunc_kwargs)\n\u001b[0;32m--> 156\u001b[0m per_device_batch_size \u001b[38;5;241m=\u001b[39m \u001b[43mfind_executable_batch_size\u001b[49m\u001b[43m(\u001b[49m\n\u001b[1;32m    157\u001b[0m \u001b[43m    \u001b[49m\u001b[43mfunc\u001b[49m\u001b[38;5;241;43m=\u001b[39;49m\u001b[43mexecutable_batch_size_func\u001b[49m\u001b[43m,\u001b[49m\n\u001b[1;32m    158\u001b[0m \u001b[43m    \u001b[49m\u001b[43mstart_batch_size\u001b[49m\u001b[38;5;241;43m=\u001b[39;49m\u001b[43mstart_batch_size\u001b[49m\u001b[43m,\u001b[49m\n\u001b[1;32m    159\u001b[0m \u001b[43m\u001b[49m\u001b[43m)\u001b[49m\n\u001b[1;32m    160\u001b[0m \u001b[38;5;28mself\u001b[39m\u001b[38;5;241m.\u001b[39mlogger\u001b[38;5;241m.\u001b[39minfo(\u001b[38;5;124mf\u001b[39m\u001b[38;5;124m\"\u001b[39m\u001b[38;5;124mExecutable batch size determined: \u001b[39m\u001b[38;5;132;01m{\u001b[39;00mper_device_batch_size\u001b[38;5;132;01m}\u001b[39;00m\u001b[38;5;124m.\u001b[39m\u001b[38;5;124m\"\u001b[39m)\n\u001b[1;32m    161\u001b[0m \u001b[38;5;28;01mreturn\u001b[39;00m per_device_batch_size\n",
      "File \u001b[0;32m~/projects/kronfluence/kronfluence/utils/dataset.py:56\u001b[0m, in \u001b[0;36mfind_executable_batch_size\u001b[0;34m(func, start_batch_size)\u001b[0m\n\u001b[1;32m     54\u001b[0m \u001b[38;5;28;01mwhile\u001b[39;00m \u001b[38;5;28;01mTrue\u001b[39;00m:\n\u001b[1;32m     55\u001b[0m     \u001b[38;5;28;01mif\u001b[39;00m batch_size \u001b[38;5;241m==\u001b[39m \u001b[38;5;241m0\u001b[39m:\n\u001b[0;32m---> 56\u001b[0m         \u001b[38;5;28;01mraise\u001b[39;00m \u001b[38;5;167;01mRuntimeError\u001b[39;00m(\u001b[38;5;124m\"\u001b[39m\u001b[38;5;124mNo executable batch size found, reached zero.\u001b[39m\u001b[38;5;124m\"\u001b[39m)\n\u001b[1;32m     57\u001b[0m     \u001b[38;5;28;01mtry\u001b[39;00m:\n\u001b[1;32m     58\u001b[0m         func(batch_size)\n",
      "\u001b[0;31mRuntimeError\u001b[0m: No executable batch size found, reached zero."
     ]
    }
   ],
   "source": [
    "analyzer.fit_all_factors(\n",
    "    factors_name=\"esm2_t33_650M_UR50D_benchmarking\",\n",
    "    dataset=Dataset.from_dict(ds[:256]),\n",
    "    # dataset=ds,\n",
    "    per_device_batch_size=None,\n",
    "    overwrite_output_dir=False,\n",
    "    initial_per_device_batch_size_attempt=2,\n",
    ")"
   ]
  },
  {
   "cell_type": "code",
   "execution_count": null,
   "metadata": {},
   "outputs": [],
   "source": []
  }
 ],
 "metadata": {
  "kernelspec": {
   "display_name": "bio-if",
   "language": "python",
   "name": "python3"
  },
  "language_info": {
   "codemirror_mode": {
    "name": "ipython",
    "version": 3
   },
   "file_extension": ".py",
   "mimetype": "text/x-python",
   "name": "python",
   "nbconvert_exporter": "python",
   "pygments_lexer": "ipython3",
   "version": "3.9.18"
  }
 },
 "nbformat": 4,
 "nbformat_minor": 2
}
