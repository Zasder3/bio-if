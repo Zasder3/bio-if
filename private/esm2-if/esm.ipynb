{
 "cells": [
  {
   "cell_type": "code",
   "execution_count": 1,
   "metadata": {},
   "outputs": [],
   "source": [
    "from transformers import AutoTokenizer, AutoModelForMaskedLM\n",
    "from transformers import default_data_collator\n",
    "from datasets import Dataset\n",
    "import torch\n",
    "import torch.nn as nn\n",
    "import torch.nn.functional as F\n",
    "import matplotlib.pyplot as plt\n",
    "import logging\n",
    "logging.basicConfig(level=logging.DEBUG)"
   ]
  },
  {
   "cell_type": "code",
   "execution_count": 2,
   "metadata": {},
   "outputs": [],
   "source": [
    "# set default device\n",
    "torch.cuda.set_device(7)"
   ]
  },
  {
   "cell_type": "code",
   "execution_count": 3,
   "metadata": {},
   "outputs": [
    {
     "name": "stderr",
     "output_type": "stream",
     "text": [
      "DEBUG:urllib3.connectionpool:Starting new HTTPS connection (1): huggingface.co:443\n",
      "DEBUG:urllib3.connectionpool:https://huggingface.co:443 \"HEAD /facebook/esm2_t12_35M_UR50D/resolve/main/tokenizer_config.json HTTP/1.1\" 200 0\n",
      "DEBUG:urllib3.connectionpool:https://huggingface.co:443 \"HEAD /facebook/esm2_t12_35M_UR50D/resolve/main/config.json HTTP/1.1\" 200 0\n"
     ]
    }
   ],
   "source": [
    "tokenizer = AutoTokenizer.from_pretrained(\"facebook/esm2_t12_35M_UR50D\")\n",
    "model = AutoModelForMaskedLM.from_pretrained(\"facebook/esm2_t12_35M_UR50D\", device_map='cuda:7')\n",
    "# remove model.esm.contact_head from model\n",
    "del model.esm.contact_head"
   ]
  },
  {
   "cell_type": "code",
   "execution_count": 4,
   "metadata": {},
   "outputs": [],
   "source": [
    "# process fasta\n",
    "def read_fasta(fasta_file):\n",
    "    with open(fasta_file) as f:\n",
    "        lines = f.readlines()\n",
    "    seqs = []\n",
    "    for line in lines:\n",
    "        if line[0] == '>':\n",
    "            if seqs:\n",
    "                seqs[-1] = ''.join(seqs[-1])\n",
    "            seqs.append([])\n",
    "        else:\n",
    "            seqs[-1].append(line.strip())\n",
    "    seqs[-1] = ''.join(seqs[-1])\n",
    "    return seqs"
   ]
  },
  {
   "cell_type": "code",
   "execution_count": 5,
   "metadata": {},
   "outputs": [],
   "source": [
    "seqs = read_fasta('partial.fasta')"
   ]
  },
  {
   "cell_type": "code",
   "execution_count": 6,
   "metadata": {},
   "outputs": [
    {
     "name": "stderr",
     "output_type": "stream",
     "text": [
      "DEBUG:matplotlib.pyplot:Loaded backend module://matplotlib_inline.backend_inline version unknown.\n",
      "DEBUG:matplotlib.pyplot:Loaded backend module://matplotlib_inline.backend_inline version unknown.\n",
      "DEBUG:matplotlib.font_manager:findfont: Matching sans\\-serif:style=normal:variant=normal:weight=normal:stretch=normal:size=10.0.\n",
      "DEBUG:matplotlib.font_manager:findfont: score(FontEntry(fname='/home/cadegord/miniconda3/envs/bio-if/lib/python3.9/site-packages/matplotlib/mpl-data/fonts/ttf/DejaVuSans-Bold.ttf', name='DejaVu Sans', style='normal', variant='normal', weight=700, stretch='normal', size='scalable')) = 0.33499999999999996\n",
      "DEBUG:matplotlib.font_manager:findfont: score(FontEntry(fname='/home/cadegord/miniconda3/envs/bio-if/lib/python3.9/site-packages/matplotlib/mpl-data/fonts/ttf/cmex10.ttf', name='cmex10', style='normal', variant='normal', weight=400, stretch='normal', size='scalable')) = 10.05\n",
      "DEBUG:matplotlib.font_manager:findfont: score(FontEntry(fname='/home/cadegord/miniconda3/envs/bio-if/lib/python3.9/site-packages/matplotlib/mpl-data/fonts/ttf/cmmi10.ttf', name='cmmi10', style='normal', variant='normal', weight=400, stretch='normal', size='scalable')) = 10.05\n",
      "DEBUG:matplotlib.font_manager:findfont: score(FontEntry(fname='/home/cadegord/miniconda3/envs/bio-if/lib/python3.9/site-packages/matplotlib/mpl-data/fonts/ttf/STIXSizFourSymBol.ttf', name='STIXSizeFourSym', style='normal', variant='normal', weight=700, stretch='normal', size='scalable')) = 10.335\n",
      "DEBUG:matplotlib.font_manager:findfont: score(FontEntry(fname='/home/cadegord/miniconda3/envs/bio-if/lib/python3.9/site-packages/matplotlib/mpl-data/fonts/ttf/STIXSizTwoSymBol.ttf', name='STIXSizeTwoSym', style='normal', variant='normal', weight=700, stretch='normal', size='scalable')) = 10.335\n",
      "DEBUG:matplotlib.font_manager:findfont: score(FontEntry(fname='/home/cadegord/miniconda3/envs/bio-if/lib/python3.9/site-packages/matplotlib/mpl-data/fonts/ttf/STIXSizFiveSymReg.ttf', name='STIXSizeFiveSym', style='normal', variant='normal', weight=400, stretch='normal', size='scalable')) = 10.05\n",
      "DEBUG:matplotlib.font_manager:findfont: score(FontEntry(fname='/home/cadegord/miniconda3/envs/bio-if/lib/python3.9/site-packages/matplotlib/mpl-data/fonts/ttf/cmss10.ttf', name='cmss10', style='normal', variant='normal', weight=400, stretch='normal', size='scalable')) = 10.05\n",
      "DEBUG:matplotlib.font_manager:findfont: score(FontEntry(fname='/home/cadegord/miniconda3/envs/bio-if/lib/python3.9/site-packages/matplotlib/mpl-data/fonts/ttf/cmsy10.ttf', name='cmsy10', style='normal', variant='normal', weight=400, stretch='normal', size='scalable')) = 10.05\n",
      "DEBUG:matplotlib.font_manager:findfont: score(FontEntry(fname='/home/cadegord/miniconda3/envs/bio-if/lib/python3.9/site-packages/matplotlib/mpl-data/fonts/ttf/STIXNonUniBolIta.ttf', name='STIXNonUnicode', style='italic', variant='normal', weight=700, stretch='normal', size='scalable')) = 11.335\n",
      "DEBUG:matplotlib.font_manager:findfont: score(FontEntry(fname='/home/cadegord/miniconda3/envs/bio-if/lib/python3.9/site-packages/matplotlib/mpl-data/fonts/ttf/STIXSizTwoSymReg.ttf', name='STIXSizeTwoSym', style='normal', variant='normal', weight=400, stretch='normal', size='scalable')) = 10.05\n",
      "DEBUG:matplotlib.font_manager:findfont: score(FontEntry(fname='/home/cadegord/miniconda3/envs/bio-if/lib/python3.9/site-packages/matplotlib/mpl-data/fonts/ttf/STIXSizThreeSymReg.ttf', name='STIXSizeThreeSym', style='normal', variant='normal', weight=400, stretch='normal', size='scalable')) = 10.05\n",
      "DEBUG:matplotlib.font_manager:findfont: score(FontEntry(fname='/home/cadegord/miniconda3/envs/bio-if/lib/python3.9/site-packages/matplotlib/mpl-data/fonts/ttf/STIXSizOneSymReg.ttf', name='STIXSizeOneSym', style='normal', variant='normal', weight=400, stretch='normal', size='scalable')) = 10.05\n",
      "DEBUG:matplotlib.font_manager:findfont: score(FontEntry(fname='/home/cadegord/miniconda3/envs/bio-if/lib/python3.9/site-packages/matplotlib/mpl-data/fonts/ttf/DejaVuSerif.ttf', name='DejaVu Serif', style='normal', variant='normal', weight=400, stretch='normal', size='scalable')) = 10.05\n",
      "DEBUG:matplotlib.font_manager:findfont: score(FontEntry(fname='/home/cadegord/miniconda3/envs/bio-if/lib/python3.9/site-packages/matplotlib/mpl-data/fonts/ttf/STIXGeneralBolIta.ttf', name='STIXGeneral', style='italic', variant='normal', weight=700, stretch='normal', size='scalable')) = 11.335\n",
      "DEBUG:matplotlib.font_manager:findfont: score(FontEntry(fname='/home/cadegord/miniconda3/envs/bio-if/lib/python3.9/site-packages/matplotlib/mpl-data/fonts/ttf/cmb10.ttf', name='cmb10', style='normal', variant='normal', weight=400, stretch='normal', size='scalable')) = 10.05\n",
      "DEBUG:matplotlib.font_manager:findfont: score(FontEntry(fname='/home/cadegord/miniconda3/envs/bio-if/lib/python3.9/site-packages/matplotlib/mpl-data/fonts/ttf/DejaVuSansMono-Oblique.ttf', name='DejaVu Sans Mono', style='oblique', variant='normal', weight=400, stretch='normal', size='scalable')) = 11.05\n",
      "DEBUG:matplotlib.font_manager:findfont: score(FontEntry(fname='/home/cadegord/miniconda3/envs/bio-if/lib/python3.9/site-packages/matplotlib/mpl-data/fonts/ttf/DejaVuSerifDisplay.ttf', name='DejaVu Serif Display', style='normal', variant='normal', weight=400, stretch='normal', size='scalable')) = 10.05\n",
      "DEBUG:matplotlib.font_manager:findfont: score(FontEntry(fname='/home/cadegord/miniconda3/envs/bio-if/lib/python3.9/site-packages/matplotlib/mpl-data/fonts/ttf/STIXGeneral.ttf', name='STIXGeneral', style='normal', variant='normal', weight=400, stretch='normal', size='scalable')) = 10.05\n",
      "DEBUG:matplotlib.font_manager:findfont: score(FontEntry(fname='/home/cadegord/miniconda3/envs/bio-if/lib/python3.9/site-packages/matplotlib/mpl-data/fonts/ttf/STIXSizOneSymBol.ttf', name='STIXSizeOneSym', style='normal', variant='normal', weight=700, stretch='normal', size='scalable')) = 10.335\n",
      "DEBUG:matplotlib.font_manager:findfont: score(FontEntry(fname='/home/cadegord/miniconda3/envs/bio-if/lib/python3.9/site-packages/matplotlib/mpl-data/fonts/ttf/STIXNonUniBol.ttf', name='STIXNonUnicode', style='normal', variant='normal', weight=700, stretch='normal', size='scalable')) = 10.335\n",
      "DEBUG:matplotlib.font_manager:findfont: score(FontEntry(fname='/home/cadegord/miniconda3/envs/bio-if/lib/python3.9/site-packages/matplotlib/mpl-data/fonts/ttf/DejaVuSansMono-Bold.ttf', name='DejaVu Sans Mono', style='normal', variant='normal', weight=700, stretch='normal', size='scalable')) = 10.335\n",
      "DEBUG:matplotlib.font_manager:findfont: score(FontEntry(fname='/home/cadegord/miniconda3/envs/bio-if/lib/python3.9/site-packages/matplotlib/mpl-data/fonts/ttf/STIXSizFourSymReg.ttf', name='STIXSizeFourSym', style='normal', variant='normal', weight=400, stretch='normal', size='scalable')) = 10.05\n",
      "DEBUG:matplotlib.font_manager:findfont: score(FontEntry(fname='/home/cadegord/miniconda3/envs/bio-if/lib/python3.9/site-packages/matplotlib/mpl-data/fonts/ttf/DejaVuSansMono-BoldOblique.ttf', name='DejaVu Sans Mono', style='oblique', variant='normal', weight=700, stretch='normal', size='scalable')) = 11.335\n",
      "DEBUG:matplotlib.font_manager:findfont: score(FontEntry(fname='/home/cadegord/miniconda3/envs/bio-if/lib/python3.9/site-packages/matplotlib/mpl-data/fonts/ttf/DejaVuSerif-Italic.ttf', name='DejaVu Serif', style='italic', variant='normal', weight=400, stretch='normal', size='scalable')) = 11.05\n",
      "DEBUG:matplotlib.font_manager:findfont: score(FontEntry(fname='/home/cadegord/miniconda3/envs/bio-if/lib/python3.9/site-packages/matplotlib/mpl-data/fonts/ttf/DejaVuSans-Oblique.ttf', name='DejaVu Sans', style='oblique', variant='normal', weight=400, stretch='normal', size='scalable')) = 1.05\n",
      "DEBUG:matplotlib.font_manager:findfont: score(FontEntry(fname='/home/cadegord/miniconda3/envs/bio-if/lib/python3.9/site-packages/matplotlib/mpl-data/fonts/ttf/DejaVuSerif-Bold.ttf', name='DejaVu Serif', style='normal', variant='normal', weight=700, stretch='normal', size='scalable')) = 10.335\n",
      "DEBUG:matplotlib.font_manager:findfont: score(FontEntry(fname='/home/cadegord/miniconda3/envs/bio-if/lib/python3.9/site-packages/matplotlib/mpl-data/fonts/ttf/STIXNonUni.ttf', name='STIXNonUnicode', style='normal', variant='normal', weight=400, stretch='normal', size='scalable')) = 10.05\n",
      "DEBUG:matplotlib.font_manager:findfont: score(FontEntry(fname='/home/cadegord/miniconda3/envs/bio-if/lib/python3.9/site-packages/matplotlib/mpl-data/fonts/ttf/STIXNonUniIta.ttf', name='STIXNonUnicode', style='italic', variant='normal', weight=400, stretch='normal', size='scalable')) = 11.05\n",
      "DEBUG:matplotlib.font_manager:findfont: score(FontEntry(fname='/home/cadegord/miniconda3/envs/bio-if/lib/python3.9/site-packages/matplotlib/mpl-data/fonts/ttf/STIXGeneralBol.ttf', name='STIXGeneral', style='normal', variant='normal', weight=700, stretch='normal', size='scalable')) = 10.335\n",
      "DEBUG:matplotlib.font_manager:findfont: score(FontEntry(fname='/home/cadegord/miniconda3/envs/bio-if/lib/python3.9/site-packages/matplotlib/mpl-data/fonts/ttf/DejaVuSerif-BoldItalic.ttf', name='DejaVu Serif', style='italic', variant='normal', weight=700, stretch='normal', size='scalable')) = 11.335\n",
      "DEBUG:matplotlib.font_manager:findfont: score(FontEntry(fname='/home/cadegord/miniconda3/envs/bio-if/lib/python3.9/site-packages/matplotlib/mpl-data/fonts/ttf/STIXGeneralItalic.ttf', name='STIXGeneral', style='italic', variant='normal', weight=400, stretch='normal', size='scalable')) = 11.05\n",
      "DEBUG:matplotlib.font_manager:findfont: score(FontEntry(fname='/home/cadegord/miniconda3/envs/bio-if/lib/python3.9/site-packages/matplotlib/mpl-data/fonts/ttf/cmtt10.ttf', name='cmtt10', style='normal', variant='normal', weight=400, stretch='normal', size='scalable')) = 10.05\n",
      "DEBUG:matplotlib.font_manager:findfont: score(FontEntry(fname='/home/cadegord/miniconda3/envs/bio-if/lib/python3.9/site-packages/matplotlib/mpl-data/fonts/ttf/DejaVuSansDisplay.ttf', name='DejaVu Sans Display', style='normal', variant='normal', weight=400, stretch='normal', size='scalable')) = 10.05\n",
      "DEBUG:matplotlib.font_manager:findfont: score(FontEntry(fname='/home/cadegord/miniconda3/envs/bio-if/lib/python3.9/site-packages/matplotlib/mpl-data/fonts/ttf/DejaVuSans-BoldOblique.ttf', name='DejaVu Sans', style='oblique', variant='normal', weight=700, stretch='normal', size='scalable')) = 1.335\n",
      "DEBUG:matplotlib.font_manager:findfont: score(FontEntry(fname='/home/cadegord/miniconda3/envs/bio-if/lib/python3.9/site-packages/matplotlib/mpl-data/fonts/ttf/cmr10.ttf', name='cmr10', style='normal', variant='normal', weight=400, stretch='normal', size='scalable')) = 10.05\n",
      "DEBUG:matplotlib.font_manager:findfont: score(FontEntry(fname='/home/cadegord/miniconda3/envs/bio-if/lib/python3.9/site-packages/matplotlib/mpl-data/fonts/ttf/STIXSizThreeSymBol.ttf', name='STIXSizeThreeSym', style='normal', variant='normal', weight=700, stretch='normal', size='scalable')) = 10.335\n",
      "DEBUG:matplotlib.font_manager:findfont: score(FontEntry(fname='/home/cadegord/miniconda3/envs/bio-if/lib/python3.9/site-packages/matplotlib/mpl-data/fonts/ttf/DejaVuSansMono.ttf', name='DejaVu Sans Mono', style='normal', variant='normal', weight=400, stretch='normal', size='scalable')) = 10.05\n",
      "DEBUG:matplotlib.font_manager:findfont: score(FontEntry(fname='/home/cadegord/miniconda3/envs/bio-if/lib/python3.9/site-packages/matplotlib/mpl-data/fonts/ttf/DejaVuSans.ttf', name='DejaVu Sans', style='normal', variant='normal', weight=400, stretch='normal', size='scalable')) = 0.05\n",
      "DEBUG:matplotlib.font_manager:findfont: score(FontEntry(fname='/usr/share/fonts/truetype/liberation/LiberationMono-Regular.ttf', name='Liberation Mono', style='normal', variant='normal', weight=400, stretch='normal', size='scalable')) = 10.05\n",
      "DEBUG:matplotlib.font_manager:findfont: score(FontEntry(fname='/usr/share/fonts/truetype/lyx/cmex10.ttf', name='cmex10', style='normal', variant='normal', weight=400, stretch='normal', size='scalable')) = 10.05\n",
      "DEBUG:matplotlib.font_manager:findfont: score(FontEntry(fname='/usr/share/fonts/truetype/liberation/LiberationMono-Bold.ttf', name='Liberation Mono', style='normal', variant='normal', weight=700, stretch='normal', size='scalable')) = 10.335\n",
      "DEBUG:matplotlib.font_manager:findfont: score(FontEntry(fname='/usr/share/fonts/truetype/lyx/msbm10.ttf', name='msbm10', style='normal', variant='normal', weight=400, stretch='normal', size='scalable')) = 10.05\n",
      "DEBUG:matplotlib.font_manager:findfont: score(FontEntry(fname='/usr/share/fonts/truetype/dejavu/DejaVuSansMono.ttf', name='DejaVu Sans Mono', style='normal', variant='normal', weight=400, stretch='normal', size='scalable')) = 10.05\n",
      "DEBUG:matplotlib.font_manager:findfont: score(FontEntry(fname='/usr/share/fonts/truetype/dejavu/DejaVuSerif-Bold.ttf', name='DejaVu Serif', style='normal', variant='normal', weight=700, stretch='normal', size='scalable')) = 10.335\n",
      "DEBUG:matplotlib.font_manager:findfont: score(FontEntry(fname='/usr/share/fonts/truetype/liberation/LiberationSans-BoldItalic.ttf', name='Liberation Sans', style='italic', variant='normal', weight=700, stretch='normal', size='scalable')) = 11.335\n",
      "DEBUG:matplotlib.font_manager:findfont: score(FontEntry(fname='/usr/share/fonts/truetype/liberation/LiberationSansNarrow-Bold.ttf', name='Liberation Sans Narrow', style='normal', variant='normal', weight=700, stretch='condensed', size='scalable')) = 10.535\n",
      "DEBUG:matplotlib.font_manager:findfont: score(FontEntry(fname='/usr/share/fonts/truetype/lyx/esint10.ttf', name='esint10', style='normal', variant='normal', weight=400, stretch='normal', size='scalable')) = 10.05\n",
      "DEBUG:matplotlib.font_manager:findfont: score(FontEntry(fname='/usr/share/fonts/truetype/liberation/LiberationMono-Italic.ttf', name='Liberation Mono', style='italic', variant='normal', weight=400, stretch='normal', size='scalable')) = 11.05\n",
      "DEBUG:matplotlib.font_manager:findfont: score(FontEntry(fname='/usr/share/fonts/truetype/liberation/LiberationSerif-Regular.ttf', name='Liberation Serif', style='normal', variant='normal', weight=400, stretch='normal', size='scalable')) = 10.05\n",
      "DEBUG:matplotlib.font_manager:findfont: score(FontEntry(fname='/usr/share/fonts/truetype/lyx/eufm10.ttf', name='eufm10', style='normal', variant='normal', weight=400, stretch='normal', size='scalable')) = 10.05\n",
      "DEBUG:matplotlib.font_manager:findfont: score(FontEntry(fname='/usr/share/fonts/truetype/liberation/LiberationSans-Italic.ttf', name='Liberation Sans', style='italic', variant='normal', weight=400, stretch='normal', size='scalable')) = 11.05\n",
      "DEBUG:matplotlib.font_manager:findfont: score(FontEntry(fname='/usr/share/fonts/truetype/liberation/LiberationSans-Regular.ttf', name='Liberation Sans', style='normal', variant='normal', weight=400, stretch='normal', size='scalable')) = 10.05\n",
      "DEBUG:matplotlib.font_manager:findfont: score(FontEntry(fname='/usr/share/fonts/truetype/lyx/stmary10.ttf', name='stmary10', style='normal', variant='normal', weight=400, stretch='normal', size='scalable')) = 10.05\n",
      "DEBUG:matplotlib.font_manager:findfont: score(FontEntry(fname='/usr/share/fonts/truetype/dejavu/DejaVuSans-Bold.ttf', name='DejaVu Sans', style='normal', variant='normal', weight=700, stretch='normal', size='scalable')) = 0.33499999999999996\n",
      "DEBUG:matplotlib.font_manager:findfont: score(FontEntry(fname='/usr/share/fonts/truetype/lyx/dsrom10.ttf', name='dsrom10', style='normal', variant='normal', weight=400, stretch='normal', size='scalable')) = 10.05\n",
      "DEBUG:matplotlib.font_manager:findfont: score(FontEntry(fname='/usr/share/fonts/truetype/liberation/LiberationSerif-BoldItalic.ttf', name='Liberation Serif', style='italic', variant='normal', weight=700, stretch='normal', size='scalable')) = 11.335\n",
      "DEBUG:matplotlib.font_manager:findfont: score(FontEntry(fname='/usr/share/fonts/truetype/lyx/cmr10.ttf', name='cmr10', style='normal', variant='normal', weight=400, stretch='normal', size='scalable')) = 10.05\n",
      "DEBUG:matplotlib.font_manager:findfont: score(FontEntry(fname='/usr/share/fonts/truetype/dejavu/DejaVuSerif.ttf', name='DejaVu Serif', style='normal', variant='normal', weight=400, stretch='normal', size='scalable')) = 10.05\n",
      "DEBUG:matplotlib.font_manager:findfont: score(FontEntry(fname='/usr/share/fonts/truetype/dejavu/DejaVuSansMono-Bold.ttf', name='DejaVu Sans Mono', style='normal', variant='normal', weight=700, stretch='normal', size='scalable')) = 10.335\n",
      "DEBUG:matplotlib.font_manager:findfont: score(FontEntry(fname='/usr/share/fonts/truetype/liberation/LiberationSansNarrow-Italic.ttf', name='Liberation Sans Narrow', style='italic', variant='normal', weight=400, stretch='condensed', size='scalable')) = 11.25\n",
      "DEBUG:matplotlib.font_manager:findfont: score(FontEntry(fname='/usr/share/fonts/truetype/lyx/cmsy10.ttf', name='cmsy10', style='normal', variant='normal', weight=400, stretch='normal', size='scalable')) = 10.05\n",
      "DEBUG:matplotlib.font_manager:findfont: score(FontEntry(fname='/usr/share/fonts/truetype/liberation/LiberationSansNarrow-Regular.ttf', name='Liberation Sans Narrow', style='normal', variant='normal', weight=400, stretch='condensed', size='scalable')) = 10.25\n",
      "DEBUG:matplotlib.font_manager:findfont: score(FontEntry(fname='/usr/share/fonts/truetype/lyx/msam10.ttf', name='msam10', style='normal', variant='normal', weight=400, stretch='normal', size='scalable')) = 10.05\n",
      "DEBUG:matplotlib.font_manager:findfont: score(FontEntry(fname='/usr/share/fonts/truetype/lyx/wasy10.ttf', name='wasy10', style='normal', variant='normal', weight=400, stretch='normal', size='scalable')) = 10.05\n",
      "DEBUG:matplotlib.font_manager:findfont: score(FontEntry(fname='/usr/share/fonts/truetype/lyx/rsfs10.ttf', name='rsfs10', style='italic', variant='normal', weight=400, stretch='normal', size='scalable')) = 11.05\n",
      "DEBUG:matplotlib.font_manager:findfont: score(FontEntry(fname='/usr/share/fonts/truetype/lyx/cmmi10.ttf', name='cmmi10', style='normal', variant='normal', weight=400, stretch='normal', size='scalable')) = 10.05\n",
      "DEBUG:matplotlib.font_manager:findfont: score(FontEntry(fname='/usr/share/fonts/truetype/liberation/LiberationSansNarrow-BoldItalic.ttf', name='Liberation Sans Narrow', style='italic', variant='normal', weight=700, stretch='condensed', size='scalable')) = 11.535\n",
      "DEBUG:matplotlib.font_manager:findfont: score(FontEntry(fname='/usr/share/fonts/truetype/liberation/LiberationSerif-Bold.ttf', name='Liberation Serif', style='normal', variant='normal', weight=700, stretch='normal', size='scalable')) = 10.335\n",
      "DEBUG:matplotlib.font_manager:findfont: score(FontEntry(fname='/usr/share/fonts/truetype/liberation/LiberationSans-Bold.ttf', name='Liberation Sans', style='normal', variant='normal', weight=700, stretch='normal', size='scalable')) = 10.335\n",
      "DEBUG:matplotlib.font_manager:findfont: score(FontEntry(fname='/usr/share/fonts/truetype/liberation/LiberationSerif-Italic.ttf', name='Liberation Serif', style='italic', variant='normal', weight=400, stretch='normal', size='scalable')) = 11.05\n",
      "DEBUG:matplotlib.font_manager:findfont: score(FontEntry(fname='/usr/share/fonts/truetype/liberation/LiberationMono-BoldItalic.ttf', name='Liberation Mono', style='italic', variant='normal', weight=700, stretch='normal', size='scalable')) = 11.335\n",
      "DEBUG:matplotlib.font_manager:findfont: score(FontEntry(fname='/usr/share/fonts/truetype/dejavu/DejaVuSans.ttf', name='DejaVu Sans', style='normal', variant='normal', weight=400, stretch='normal', size='scalable')) = 0.05\n",
      "DEBUG:matplotlib.font_manager:findfont: Matching sans\\-serif:style=normal:variant=normal:weight=normal:stretch=normal:size=10.0 to DejaVu Sans ('/home/cadegord/miniconda3/envs/bio-if/lib/python3.9/site-packages/matplotlib/mpl-data/fonts/ttf/DejaVuSans.ttf') with score of 0.050000.\n"
     ]
    },
    {
     "data": {
      "text/plain": [
       "Text(0, 0.5, 'Frequency')"
      ]
     },
     "execution_count": 6,
     "metadata": {},
     "output_type": "execute_result"
    },
    {
     "data": {
      "image/png": "[encoded data removed]",
      "text/plain": [
       "<Figure size 640x480 with 1 Axes>"
      ]
     },
     "metadata": {},
     "output_type": "display_data"
    }
   ],
   "source": [
    "plt.hist([len(seq) for seq in seqs], bins=100)\n",
    "plt.xlabel('Sequence length')\n",
    "plt.ylabel('Frequency')"
   ]
  },
  {
   "cell_type": "code",
   "execution_count": 7,
   "metadata": {},
   "outputs": [
    {
     "data": {
      "application/vnd.jupyter.widget-view+json": {
       "model_id": "5998cc4d963b4be4bfba1132c087066b",
       "version_major": 2,
       "version_minor": 0
      },
      "text/plain": [
       "Map:   0%|          | 0/2331 [00:00<?, ? examples/s]"
      ]
     },
     "metadata": {},
     "output_type": "display_data"
    }
   ],
   "source": [
    "ds = Dataset.from_dict({'seq': [seq[:256] for seq in seqs]})\n",
    "ds = ds.map(lambda x: tokenizer(x['seq'], padding='max_length', truncation=True, max_length=256, return_tensors='pt'), batched=True)"
   ]
  },
  {
   "cell_type": "code",
   "execution_count": 8,
   "metadata": {},
   "outputs": [
    {
     "data": {
      "text/plain": [
       "Dataset({\n",
       "    features: ['seq', 'input_ids', 'attention_mask'],\n",
       "    num_rows: 2331\n",
       "})"
      ]
     },
     "execution_count": 8,
     "metadata": {},
     "output_type": "execute_result"
    }
   ],
   "source": [
    "ds"
   ]
  },
  {
   "cell_type": "code",
   "execution_count": 9,
   "metadata": {},
   "outputs": [],
   "source": [
    "from kronfluence import Analyzer, prepare_model\n",
    "from kronfluence.task import Task\n",
    "from kronfluence.utils.dataset import DataLoaderKwargs"
   ]
  },
  {
   "cell_type": "code",
   "execution_count": 10,
   "metadata": {},
   "outputs": [],
   "source": [
    "from typing import Dict, Optional\n",
    "\n",
    "BATCH_TYPE = Dict[str, torch.Tensor]\n",
    "\n",
    "class MLMTask(Task):\n",
    "    def compute_train_loss(\n",
    "        self,\n",
    "        batch: BATCH_TYPE,\n",
    "        model: nn.Module,\n",
    "        sample: bool = False,\n",
    "    ) -> torch.Tensor:\n",
    "        logits = model(\n",
    "            input_ids=batch[\"input_ids\"],\n",
    "            attention_mask=batch[\"attention_mask\"],\n",
    "        ).logits\n",
    "\n",
    "        if not sample:\n",
    "            return (F.cross_entropy(logits.transpose(1,2), batch[\"input_ids\"], reduction='none') * batch[\"attention_mask\"]).sum()\n",
    "        with torch.no_grad():\n",
    "            sampled_labels = torch.distributions.Categorical(logits=logits).sample()\n",
    "        return (F.cross_entropy(logits.transpose(1,2), sampled_labels.detach(), reduction='none') * batch[\"attention_mask\"]).sum()\n",
    "\n",
    "    def compute_measurement(\n",
    "        self,\n",
    "        batch: BATCH_TYPE,\n",
    "        model: nn.Module,\n",
    "    ) -> torch.Tensor:\n",
    "        # Copied from: https://github.com/MadryLab/trak/blob/main/trak/modelout_functions.py.\n",
    "        logits = model(\n",
    "            input_ids=batch[\"input_ids\"],\n",
    "            attention_mask=batch[\"attention_mask\"],\n",
    "        ).logits\n",
    "\n",
    "        labels = batch[\"input_ids\"]\n",
    "        logits_correct = logits.view(-1, logits.size(-1))\n",
    "        logits_correct = logits_correct[torch.arange(len(labels.view(-1))), labels.view(-1)]\n",
    "        logits_correct = logits_correct.view(*labels.size())\n",
    "\n",
    "        cloned_logits = logits.clone()\n",
    "        cloned_logits = cloned_logits.view(-1, cloned_logits.size(-1))\n",
    "        cloned_logits[torch.arange(len(labels.view(-1))), labels.view(-1)] = float(\"-inf\")\n",
    "        cloned_logits = cloned_logits.view(*logits.size())\n",
    "\n",
    "        margins = logits_correct - cloned_logits.logsumexp(dim=-1)\n",
    "        margins = margins * batch[\"attention_mask\"]\n",
    "        return -margins.sum()\n",
    "\n",
    "    def get_attention_mask(self, batch: BATCH_TYPE) -> Optional[torch.Tensor]:\n",
    "        return batch[\"attention_mask\"]"
   ]
  },
  {
   "cell_type": "code",
   "execution_count": 11,
   "metadata": {},
   "outputs": [],
   "source": [
    "task = MLMTask()\n",
    "model = prepare_model(model, task)"
   ]
  },
  {
   "cell_type": "code",
   "execution_count": 12,
   "metadata": {},
   "outputs": [
    {
     "name": "stderr",
     "output_type": "stream",
     "text": [
      "INFO:kronfluence.computer.computer:Tracking modules with names: ['esm.encoder.layer.0.attention.self.query', 'esm.encoder.layer.0.attention.self.key', 'esm.encoder.layer.0.attention.self.value', 'esm.encoder.layer.0.attention.output.dense', 'esm.encoder.layer.0.intermediate.dense', 'esm.encoder.layer.0.output.dense', 'esm.encoder.layer.1.attention.self.query', 'esm.encoder.layer.1.attention.self.key', 'esm.encoder.layer.1.attention.self.value', 'esm.encoder.layer.1.attention.output.dense', 'esm.encoder.layer.1.intermediate.dense', 'esm.encoder.layer.1.output.dense', 'esm.encoder.layer.2.attention.self.query', 'esm.encoder.layer.2.attention.self.key', 'esm.encoder.layer.2.attention.self.value', 'esm.encoder.layer.2.attention.output.dense', 'esm.encoder.layer.2.intermediate.dense', 'esm.encoder.layer.2.output.dense', 'esm.encoder.layer.3.attention.self.query', 'esm.encoder.layer.3.attention.self.key', 'esm.encoder.layer.3.attention.self.value', 'esm.encoder.layer.3.attention.output.dense', 'esm.encoder.layer.3.intermediate.dense', 'esm.encoder.layer.3.output.dense', 'esm.encoder.layer.4.attention.self.query', 'esm.encoder.layer.4.attention.self.key', 'esm.encoder.layer.4.attention.self.value', 'esm.encoder.layer.4.attention.output.dense', 'esm.encoder.layer.4.intermediate.dense', 'esm.encoder.layer.4.output.dense', 'esm.encoder.layer.5.attention.self.query', 'esm.encoder.layer.5.attention.self.key', 'esm.encoder.layer.5.attention.self.value', 'esm.encoder.layer.5.attention.output.dense', 'esm.encoder.layer.5.intermediate.dense', 'esm.encoder.layer.5.output.dense', 'esm.encoder.layer.6.attention.self.query', 'esm.encoder.layer.6.attention.self.key', 'esm.encoder.layer.6.attention.self.value', 'esm.encoder.layer.6.attention.output.dense', 'esm.encoder.layer.6.intermediate.dense', 'esm.encoder.layer.6.output.dense', 'esm.encoder.layer.7.attention.self.query', 'esm.encoder.layer.7.attention.self.key', 'esm.encoder.layer.7.attention.self.value', 'esm.encoder.layer.7.attention.output.dense', 'esm.encoder.layer.7.intermediate.dense', 'esm.encoder.layer.7.output.dense', 'esm.encoder.layer.8.attention.self.query', 'esm.encoder.layer.8.attention.self.key', 'esm.encoder.layer.8.attention.self.value', 'esm.encoder.layer.8.attention.output.dense', 'esm.encoder.layer.8.intermediate.dense', 'esm.encoder.layer.8.output.dense', 'esm.encoder.layer.9.attention.self.query', 'esm.encoder.layer.9.attention.self.key', 'esm.encoder.layer.9.attention.self.value', 'esm.encoder.layer.9.attention.output.dense', 'esm.encoder.layer.9.intermediate.dense', 'esm.encoder.layer.9.output.dense', 'esm.encoder.layer.10.attention.self.query', 'esm.encoder.layer.10.attention.self.key', 'esm.encoder.layer.10.attention.self.value', 'esm.encoder.layer.10.attention.output.dense', 'esm.encoder.layer.10.intermediate.dense', 'esm.encoder.layer.10.output.dense', 'esm.encoder.layer.11.attention.self.query', 'esm.encoder.layer.11.attention.self.key', 'esm.encoder.layer.11.attention.self.value', 'esm.encoder.layer.11.attention.output.dense', 'esm.encoder.layer.11.intermediate.dense', 'esm.encoder.layer.11.output.dense', 'lm_head.dense', 'lm_head.decoder'].\n",
      "INFO:kronfluence.computer.computer:Initializing Computer with parameters: {'self': <kronfluence.analyzer.Analyzer object at 0x7f25e716d9a0>, 'analysis_name': 'esm2_t12_35M_UR50D_benchmarking', 'model': EsmForMaskedLM(\n",
      "  (esm): EsmModel(\n",
      "    (embeddings): EsmEmbeddings(\n",
      "      (word_embeddings): Embedding(33, 480, padding_idx=1)\n",
      "      (dropout): Dropout(p=0.0, inplace=False)\n",
      "      (position_embeddings): Embedding(1026, 480, padding_idx=1)\n",
      "    )\n",
      "    (encoder): EsmEncoder(\n",
      "      (layer): ModuleList(\n",
      "        (0-11): 12 x EsmLayer(\n",
      "          (attention): EsmAttention(\n",
      "            (self): EsmSelfAttention(\n",
      "              (query): TrackedLinear(\n",
      "                (original_module): Linear(in_features=480, out_features=480, bias=True)\n",
      "              )\n",
      "              (key): TrackedLinear(\n",
      "                (original_module): Linear(in_features=480, out_features=480, bias=True)\n",
      "              )\n",
      "              (value): TrackedLinear(\n",
      "                (original_module): Linear(in_features=480, out_features=480, bias=True)\n",
      "              )\n",
      "              (dropout): Dropout(p=0.0, inplace=False)\n",
      "              (rotary_embeddings): RotaryEmbedding()\n",
      "            )\n",
      "            (output): EsmSelfOutput(\n",
      "              (dense): TrackedLinear(\n",
      "                (original_module): Linear(in_features=480, out_features=480, bias=True)\n",
      "              )\n",
      "              (dropout): Dropout(p=0.0, inplace=False)\n",
      "            )\n",
      "            (LayerNorm): LayerNorm((480,), eps=1e-05, elementwise_affine=True)\n",
      "          )\n",
      "          (intermediate): EsmIntermediate(\n",
      "            (dense): TrackedLinear(\n",
      "              (original_module): Linear(in_features=480, out_features=1920, bias=True)\n",
      "            )\n",
      "          )\n",
      "          (output): EsmOutput(\n",
      "            (dense): TrackedLinear(\n",
      "              (original_module): Linear(in_features=1920, out_features=480, bias=True)\n",
      "            )\n",
      "            (dropout): Dropout(p=0.0, inplace=False)\n",
      "          )\n",
      "          (LayerNorm): LayerNorm((480,), eps=1e-05, elementwise_affine=True)\n",
      "        )\n",
      "      )\n",
      "      (emb_layer_norm_after): LayerNorm((480,), eps=1e-05, elementwise_affine=True)\n",
      "    )\n",
      "  )\n",
      "  (lm_head): EsmLMHead(\n",
      "    (dense): TrackedLinear(\n",
      "      (original_module): Linear(in_features=480, out_features=480, bias=True)\n",
      "    )\n",
      "    (layer_norm): LayerNorm((480,), eps=1e-05, elementwise_affine=True)\n",
      "    (decoder): TrackedLinear(\n",
      "      (original_module): Linear(in_features=480, out_features=33, bias=False)\n",
      "    )\n",
      "  )\n",
      "), 'task': <__main__.MLMTask object at 0x7f25e71f1220>, 'cpu': False, 'log_level': None, 'log_main_process_only': True, 'profile': False, 'output_dir': './analyses', 'disable_model_save': True, '__class__': <class 'kronfluence.analyzer.Analyzer'>}\n",
      "DEBUG:kronfluence.computer.computer:Process state configuration:\n",
      "Num processes: 1\n",
      "Process index: 0\n",
      "Local process index: 0\n",
      "Device: cuda\n",
      "\n"
     ]
    }
   ],
   "source": [
    "analyzer = Analyzer(\n",
    "    analysis_name=f\"esm2_t12_35M_UR50D_benchmarking\",\n",
    "    task=task,\n",
    "    model=model,\n",
    "    cpu=False,\n",
    ")\n",
    "dataloader_kwargs = DataLoaderKwargs(collate_fn=default_data_collator)\n",
    "analyzer.set_dataloader_kwargs(dataloader_kwargs)"
   ]
  },
  {
   "cell_type": "code",
   "execution_count": 13,
   "metadata": {},
   "outputs": [
    {
     "name": "stderr",
     "output_type": "stream",
     "text": [
      "DEBUG:kronfluence.computer.computer:Fitting covariance matrices with parameters: {'self': <kronfluence.analyzer.Analyzer object at 0x7f25e716d9a0>, 'factors_name': 'esm2_t12_35M_UR50D_benchmarking', 'dataset': Dataset({\n",
      "    features: ['seq', 'input_ids', 'attention_mask'],\n",
      "    num_rows: 256\n",
      "}), 'per_device_batch_size': None, 'initial_per_device_batch_size_attempt': 512, 'dataloader_kwargs': None, 'factor_args': None, 'target_data_partitions': None, 'target_module_partitions': None, 'overwrite_output_dir': False}\n",
      "INFO:kronfluence.computer.computer:Found existing covariance matrices at `/home/cadegord/projects/bio-if/private/esm2-if/analyses/esm2_t12_35M_UR50D_benchmarking/factors_esm2_t12_35M_UR50D_benchmarking`. Skipping.\n",
      "DEBUG:kronfluence.computer.computer:Performing Eigendecomposition with parameters: {'self': <kronfluence.analyzer.Analyzer object at 0x7f25e716d9a0>, 'factors_name': 'esm2_t12_35M_UR50D_benchmarking', 'factor_args': None, 'overwrite_output_dir': False, 'load_from_factors_name': None}\n",
      "INFO:kronfluence.computer.computer:Found existing Eigendecomposition results at `/home/cadegord/projects/bio-if/private/esm2-if/analyses/esm2_t12_35M_UR50D_benchmarking/factors_esm2_t12_35M_UR50D_benchmarking`. Skipping.\n",
      "DEBUG:kronfluence.computer.computer:Fitting Lambda matrices with parameters: {'self': <kronfluence.analyzer.Analyzer object at 0x7f25e716d9a0>, 'factors_name': 'esm2_t12_35M_UR50D_benchmarking', 'dataset': Dataset({\n",
      "    features: ['seq', 'input_ids', 'attention_mask'],\n",
      "    num_rows: 256\n",
      "}), 'per_device_batch_size': None, 'initial_per_device_batch_size_attempt': 512, 'dataloader_kwargs': None, 'factor_args': None, 'target_data_partitions': None, 'target_module_partitions': None, 'overwrite_output_dir': False, 'load_from_factors_name': None}\n",
      "INFO:kronfluence.computer.computer:Found existing Lambda matrices at `/home/cadegord/projects/bio-if/private/esm2-if/analyses/esm2_t12_35M_UR50D_benchmarking/factors_esm2_t12_35M_UR50D_benchmarking`. Skipping.\n"
     ]
    }
   ],
   "source": [
    "analyzer.fit_all_factors(\n",
    "    factors_name=\"esm2_t12_35M_UR50D_benchmarking\",\n",
    "    dataset=Dataset.from_dict(ds[:256]),\n",
    "    # dataset=ds,\n",
    "    per_device_batch_size=None,\n",
    "    overwrite_output_dir=False,\n",
    "    initial_per_device_batch_size_attempt=512,\n",
    ")"
   ]
  },
  {
   "cell_type": "code",
   "execution_count": 14,
   "metadata": {},
   "outputs": [
    {
     "name": "stderr",
     "output_type": "stream",
     "text": [
      "DEBUG:kronfluence.computer.computer:Computing pairwise scores with parameters: {'self': <kronfluence.analyzer.Analyzer object at 0x7f25e716d9a0>, 'scores_name': 'esm2_t12_35M_UR50D_benchmarking', 'factors_name': 'esm2_t12_35M_UR50D_benchmarking', 'query_dataset': Dataset({\n",
      "    features: ['seq', 'input_ids', 'attention_mask'],\n",
      "    num_rows: 256\n",
      "}), 'train_dataset': Dataset({\n",
      "    features: ['seq', 'input_ids', 'attention_mask'],\n",
      "    num_rows: 256\n",
      "}), 'per_device_query_batch_size': 16, 'per_device_train_batch_size': None, 'initial_per_device_train_batch_size_attempt': 4096, 'query_indices': None, 'train_indices': None, 'dataloader_kwargs': None, 'score_args': None, 'target_data_partitions': None, 'target_module_partitions': None, 'overwrite_output_dir': True}\n",
      "INFO:kronfluence.computer.computer:Score arguments not provided. Using the default configuration: ScoreArguments(damping=None, immediate_gradient_removal=False, cached_activation_cpu_offload=False, distributed_sync_steps=1000, data_partition_size=1, module_partition_size=1, per_module_score=False, query_gradient_rank=None, query_gradient_svd_dtype=torch.float64, score_dtype=torch.float32, per_sample_gradient_dtype=torch.float32, precondition_dtype=torch.float32).\n",
      "INFO:kronfluence.computer.computer:Loaded `FactorArguments` with configuration: FactorArguments(strategy='ekfac', use_empirical_fisher=False, immediate_gradient_removal=False, ignore_bias=False, distributed_sync_steps=1000, covariance_max_examples=100000, covariance_data_partition_size=1, covariance_module_partition_size=1, activation_covariance_dtype='torch.float32', gradient_covariance_dtype='torch.float32', eigendecomposition_dtype='torch.float64', lambda_max_examples=100000, lambda_data_partition_size=1, lambda_module_partition_size=1, lambda_iterative_aggregate=False, cached_activation_cpu_offload=False, lambda_dtype='torch.float32').\n",
      "INFO:kronfluence.computer.computer:Saved arguments at `/home/cadegord/projects/bio-if/private/esm2-if/analyses/esm2_t12_35M_UR50D_benchmarking/scores_esm2_t12_35M_UR50D_benchmarking/score_arguments.json`.\n",
      "INFO:kronfluence.computer.computer:Saved arguments at `/home/cadegord/projects/bio-if/private/esm2-if/analyses/esm2_t12_35M_UR50D_benchmarking/scores_esm2_t12_35M_UR50D_benchmarking/factor_arguments.json`.\n",
      "INFO:kronfluence.computer.computer:DataLoader arguments not provided. Using the configuration: DataLoaderKwargs(num_workers=0, collate_fn=<function default_data_collator at 0x7f24bf0891f0>, pin_memory=False, timeout=0, worker_init_fn=None, multiprocessing_context=None, generator=None, prefetch_factor=None, persistent_workers=False, pin_memory_device='').\n",
      "INFO:kronfluence.computer.computer:Saved dataset metadata at `/home/cadegord/projects/bio-if/private/esm2-if/analyses/esm2_t12_35M_UR50D_benchmarking/scores_esm2_t12_35M_UR50D_benchmarking/query_dataset_metadata.json`.\n",
      "INFO:kronfluence.computer.computer:Saved dataset metadata at `/home/cadegord/projects/bio-if/private/esm2-if/analyses/esm2_t12_35M_UR50D_benchmarking/scores_esm2_t12_35M_UR50D_benchmarking/train_dataset_metadata.json`.\n",
      "INFO:kronfluence.computer.computer:Fitting pairwise scores with data indices (0, 256) and modules ['esm.encoder.layer.0.attention.self.query', 'esm.encoder.layer.0.attention.self.key', 'esm.encoder.layer.0.attention.self.value', 'esm.encoder.layer.0.attention.output.dense', 'esm.encoder.layer.0.intermediate.dense', 'esm.encoder.layer.0.output.dense', 'esm.encoder.layer.1.attention.self.query', 'esm.encoder.layer.1.attention.self.key', 'esm.encoder.layer.1.attention.self.value', 'esm.encoder.layer.1.attention.output.dense', 'esm.encoder.layer.1.intermediate.dense', 'esm.encoder.layer.1.output.dense', 'esm.encoder.layer.2.attention.self.query', 'esm.encoder.layer.2.attention.self.key', 'esm.encoder.layer.2.attention.self.value', 'esm.encoder.layer.2.attention.output.dense', 'esm.encoder.layer.2.intermediate.dense', 'esm.encoder.layer.2.output.dense', 'esm.encoder.layer.3.attention.self.query', 'esm.encoder.layer.3.attention.self.key', 'esm.encoder.layer.3.attention.self.value', 'esm.encoder.layer.3.attention.output.dense', 'esm.encoder.layer.3.intermediate.dense', 'esm.encoder.layer.3.output.dense', 'esm.encoder.layer.4.attention.self.query', 'esm.encoder.layer.4.attention.self.key', 'esm.encoder.layer.4.attention.self.value', 'esm.encoder.layer.4.attention.output.dense', 'esm.encoder.layer.4.intermediate.dense', 'esm.encoder.layer.4.output.dense', 'esm.encoder.layer.5.attention.self.query', 'esm.encoder.layer.5.attention.self.key', 'esm.encoder.layer.5.attention.self.value', 'esm.encoder.layer.5.attention.output.dense', 'esm.encoder.layer.5.intermediate.dense', 'esm.encoder.layer.5.output.dense', 'esm.encoder.layer.6.attention.self.query', 'esm.encoder.layer.6.attention.self.key', 'esm.encoder.layer.6.attention.self.value', 'esm.encoder.layer.6.attention.output.dense', 'esm.encoder.layer.6.intermediate.dense', 'esm.encoder.layer.6.output.dense', 'esm.encoder.layer.7.attention.self.query', 'esm.encoder.layer.7.attention.self.key', 'esm.encoder.layer.7.attention.self.value', 'esm.encoder.layer.7.attention.output.dense', 'esm.encoder.layer.7.intermediate.dense', 'esm.encoder.layer.7.output.dense', 'esm.encoder.layer.8.attention.self.query', 'esm.encoder.layer.8.attention.self.key', 'esm.encoder.layer.8.attention.self.value', 'esm.encoder.layer.8.attention.output.dense', 'esm.encoder.layer.8.intermediate.dense', 'esm.encoder.layer.8.output.dense', 'esm.encoder.layer.9.attention.self.query', 'esm.encoder.layer.9.attention.self.key', 'esm.encoder.layer.9.attention.self.value', 'esm.encoder.layer.9.attention.output.dense', 'esm.encoder.layer.9.intermediate.dense', 'esm.encoder.layer.9.output.dense', 'esm.encoder.layer.10.attention.self.query', 'esm.encoder.layer.10.attention.self.key', 'esm.encoder.layer.10.attention.self.value', 'esm.encoder.layer.10.attention.output.dense', 'esm.encoder.layer.10.intermediate.dense', 'esm.encoder.layer.10.output.dense', 'esm.encoder.layer.11.attention.self.query', 'esm.encoder.layer.11.attention.self.key', 'esm.encoder.layer.11.attention.self.value', 'esm.encoder.layer.11.attention.output.dense', 'esm.encoder.layer.11.intermediate.dense', 'esm.encoder.layer.11.output.dense', 'lm_head.dense', 'lm_head.decoder'].\n",
      "INFO:kronfluence.computer.computer:Automatically determining executable batch size.\n",
      "INFO:kronfluence.computer.computer:Attempting to set per-device batch size to 256.\n",
      "DEBUG:kronfluence.computer.computer:Using sampler <torch.utils.data.sampler.SequentialSampler object at 0x7f25e1fd7910> for the DataLoader.\n",
      "DEBUG:kronfluence.computer.computer:Using sampler <torch.utils.data.sampler.SequentialSampler object at 0x7f25e71f1250> for the DataLoader.\n",
      "Computing pairwise scores (training gradient) [0/1]   0%|           [time left: ?, time spent: 00:00]\n",
      "Computing pairwise scores (query gradient) [0/1]   0%|           [time left: ?, time spent: 00:01]\n",
      "INFO:kronfluence.computer.computer:Attempting to set per-device batch size to 128.\n",
      "DEBUG:kronfluence.computer.computer:Using sampler <torch.utils.data.sampler.SequentialSampler object at 0x7f25e70284f0> for the DataLoader.\n",
      "DEBUG:kronfluence.computer.computer:Using sampler <torch.utils.data.sampler.SequentialSampler object at 0x7f25e7028fa0> for the DataLoader.\n",
      "Computing pairwise scores (training gradient) [0/1]   0%|           [time left: ?, time spent: 00:00]\n",
      "Computing pairwise scores (query gradient) [0/1]   0%|           [time left: ?, time spent: 00:01]\n",
      "INFO:kronfluence.computer.computer:Attempting to set per-device batch size to 64.\n",
      "DEBUG:kronfluence.computer.computer:Using sampler <torch.utils.data.sampler.SequentialSampler object at 0x7f25e70411c0> for the DataLoader.\n",
      "DEBUG:kronfluence.computer.computer:Using sampler <torch.utils.data.sampler.SequentialSampler object at 0x7f25e7041be0> for the DataLoader.\n",
      "Computing pairwise scores (training gradient) [0/1]   0%|           [time left: ?, time spent: 00:00]\n",
      "Computing pairwise scores (query gradient) [0/1]   0%|           [time left: ?, time spent: 00:01]\n",
      "INFO:kronfluence.computer.computer:Attempting to set per-device batch size to 32.\n",
      "DEBUG:kronfluence.computer.computer:Using sampler <torch.utils.data.sampler.SequentialSampler object at 0x7f25e7028b80> for the DataLoader.\n",
      "DEBUG:kronfluence.computer.computer:Using sampler <torch.utils.data.sampler.SequentialSampler object at 0x7f25e7028fa0> for the DataLoader.\n",
      "Computing pairwise scores (training gradient) [0/1]   0%|           [time left: ?, time spent: 00:00]\n",
      "Computing pairwise scores (query gradient) [0/1]   0%|           [time left: ?, time spent: 00:01]\n",
      "INFO:kronfluence.computer.computer:Attempting to set per-device batch size to 16.\n",
      "DEBUG:kronfluence.computer.computer:Using sampler <torch.utils.data.sampler.SequentialSampler object at 0x7f25e70414c0> for the DataLoader.\n",
      "DEBUG:kronfluence.computer.computer:Using sampler <torch.utils.data.sampler.SequentialSampler object at 0x7f25e7041970> for the DataLoader.\n",
      "Computing pairwise scores (training gradient) [1/1] 100%|██████████ [time left: 00:00, time spent: 00:00]\n",
      "Computing pairwise scores (query gradient) [1/1] 100%|██████████ [time left: 00:00, time spent: 00:01]\n",
      "INFO:kronfluence.computer.computer:Executable batch size determined: 16.\n",
      "DEBUG:kronfluence.computer.computer:Using sampler <torch.utils.data.sampler.SequentialSampler object at 0x7f25e703d250> for the DataLoader.\n",
      "DEBUG:kronfluence.computer.computer:Using sampler <torch.utils.data.sampler.SequentialSampler object at 0x7f25e703d340> for the DataLoader.\n",
      "Computing pairwise scores (training gradient) [16/16] 100%|██████████ [time left: 00:00, time spent: 00:04]\n",
      "Computing pairwise scores (training gradient) [16/16] 100%|██████████ [time left: 00:00, time spent: 00:04]\n",
      "Computing pairwise scores (training gradient) [16/16] 100%|██████████ [time left: 00:00, time spent: 00:04]\n",
      "Computing pairwise scores (training gradient) [16/16] 100%|██████████ [time left: 00:00, time spent: 00:04]\n",
      "Computing pairwise scores (training gradient) [16/16] 100%|██████████ [time left: 00:00, time spent: 00:04]\n",
      "Computing pairwise scores (training gradient) [16/16] 100%|██████████ [time left: 00:00, time spent: 00:04]\n",
      "Computing pairwise scores (training gradient) [16/16] 100%|██████████ [time left: 00:00, time spent: 00:04]\n",
      "Computing pairwise scores (training gradient) [16/16] 100%|██████████ [time left: 00:00, time spent: 00:04]\n",
      "Computing pairwise scores (training gradient) [16/16] 100%|██████████ [time left: 00:00, time spent: 00:04]\n",
      "Computing pairwise scores (training gradient) [16/16] 100%|██████████ [time left: 00:00, time spent: 00:04]\n",
      "Computing pairwise scores (training gradient) [16/16] 100%|██████████ [time left: 00:00, time spent: 00:04]\n",
      "Computing pairwise scores (training gradient) [16/16] 100%|██████████ [time left: 00:00, time spent: 00:04]\n",
      "Computing pairwise scores (training gradient) [16/16] 100%|██████████ [time left: 00:00, time spent: 00:04]\n",
      "Computing pairwise scores (training gradient) [16/16] 100%|██████████ [time left: 00:00, time spent: 00:04]\n",
      "Computing pairwise scores (training gradient) [16/16] 100%|██████████ [time left: 00:00, time spent: 00:04]\n",
      "Computing pairwise scores (training gradient) [16/16] 100%|██████████ [time left: 00:00, time spent: 00:04]\n",
      "Computing pairwise scores (query gradient) [16/16] 100%|██████████ [time left: 00:00, time spent: 01:33]\n",
      "INFO:kronfluence.computer.computer:Computed pairwise influence scores in 93.79 seconds.\n",
      "INFO:kronfluence.computer.computer:Saved pairwise scores at /home/cadegord/projects/bio-if/private/esm2-if/analyses/esm2_t12_35M_UR50D_benchmarking/scores_esm2_t12_35M_UR50D_benchmarking.\n"
     ]
    }
   ],
   "source": [
    "analyzer.compute_pairwise_scores(\n",
    "    scores_name=\"esm2_t12_35M_UR50D_benchmarking\",\n",
    "    factors_name=\"esm2_t12_35M_UR50D_benchmarking\",\n",
    "    overwrite_output_dir=True,\n",
    "    query_dataset=Dataset.from_dict(ds[:256]),\n",
    "    train_dataset=Dataset.from_dict(ds[:256]),\n",
    "    per_device_query_batch_size=16,\n",
    ")"
   ]
  },
  {
   "cell_type": "code",
   "execution_count": null,
   "metadata": {},
   "outputs": [],
   "source": []
  }
 ],
 "metadata": {
  "kernelspec": {
   "display_name": "bio-if",
   "language": "python",
   "name": "python3"
  },
  "language_info": {
   "codemirror_mode": {
    "name": "ipython",
    "version": 3
   },
   "file_extension": ".py",
   "mimetype": "text/x-python",
   "name": "python",
   "nbconvert_exporter": "python",
   "pygments_lexer": "ipython3",
   "version": "3.9.18"
  }
 },
 "nbformat": 4,
 "nbformat_minor": 2
}
