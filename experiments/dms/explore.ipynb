{
 "cells": [
  {
   "cell_type": "code",
   "execution_count": 2,
   "metadata": {},
   "outputs": [],
   "source": [
    "import os\n",
    "import pandas as pd\n",
    "from multiprocessing import Pool\n",
    "from tqdm import tqdm"
   ]
  },
  {
   "cell_type": "code",
   "execution_count": 3,
   "metadata": {},
   "outputs": [],
   "source": [
    "p = Pool(8)"
   ]
  },
  {
   "cell_type": "code",
   "execution_count": 17,
   "metadata": {},
   "outputs": [
    {
     "name": "stderr",
     "output_type": "stream",
     "text": [
      "  0%|          | 0/217 [00:00<?, ?it/s]"
     ]
    },
    {
     "name": "stderr",
     "output_type": "stream",
     "text": [
      "100%|██████████| 217/217 [00:05<00:00, 36.77it/s]\n"
     ]
    }
   ],
   "source": [
    "meta_df = pd.read_csv('DMS_substitutions.csv')\n",
    "# append studies/ to the DMS_filename column\n",
    "studies = meta_df['DMS_filename'].map(lambda x: f'studies/{x}')\n",
    "\n",
    "all_studies_df = list(tqdm(p.imap(pd.read_csv, studies), total=len(studies)))"
   ]
  },
  {
   "cell_type": "code",
   "execution_count": 33,
   "metadata": {},
   "outputs": [],
   "source": [
    "def get_max_number_of_mutations(df):\n",
    "    # count the occurences of a : in the column mutant\n",
    "    return df['mutant'].str.count(':').max() + 1"
   ]
  },
  {
   "cell_type": "code",
   "execution_count": 34,
   "metadata": {},
   "outputs": [
    {
     "name": "stderr",
     "output_type": "stream",
     "text": [
      "100%|██████████| 217/217 [00:03<00:00, 61.50it/s]\n"
     ]
    }
   ],
   "source": [
    "all_studies_max_mutations = list(tqdm(p.imap(get_max_number_of_mutations, all_studies_df, chunksize=1), total=len(all_studies_df)))"
   ]
  },
  {
   "cell_type": "code",
   "execution_count": 32,
   "metadata": {},
   "outputs": [
    {
     "name": "stdout",
     "output_type": "stream",
     "text": [
      "Mean: 1.262672811059908\n",
      "Median: 0.0\n",
      "Max: 43\n"
     ]
    }
   ],
   "source": [
    "# print mean, median, max\n",
    "print(f'Mean: {pd.Series(all_studies_max_mutations).mean()}')\n",
    "print(f'Median: {pd.Series(all_studies_max_mutations).median()}')\n",
    "print(f'Max: {pd.Series(all_studies_max_mutations).max()}')"
   ]
  },
  {
   "cell_type": "code",
   "execution_count": 29,
   "metadata": {},
   "outputs": [
    {
     "name": "stdout",
     "output_type": "stream",
     "text": [
      "Argmax: 65\n",
      "Study Name of Argmax: GCN4_YEAST_Staller_2018.csv\n"
     ]
    }
   ],
   "source": [
    "# get argmax of max mutations\n",
    "argmax = pd.Series(all_studies_max_mutations).idxmax()\n",
    "print(f'Argmax: {argmax}')\n",
    "print(f'Study Name of Argmax: {meta_df.iloc[argmax][\"DMS_filename\"]}')"
   ]
  },
  {
   "cell_type": "code",
   "execution_count": null,
   "metadata": {},
   "outputs": [],
   "source": []
  }
 ],
 "metadata": {
  "language_info": {
   "name": "python"
  }
 },
 "nbformat": 4,
 "nbformat_minor": 2
}
