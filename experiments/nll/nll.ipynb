{
 "cells": [
  {
   "cell_type": "code",
   "execution_count": 1,
   "metadata": {},
   "outputs": [],
   "source": [
    "import matplotlib.pyplot as plt\n",
    "import pandas as pd\n",
    "import numpy as np\n",
    "import seaborn as sns\n",
    "import torch\n",
    "from datasets import Dataset\n",
    "from transformers import AutoTokenizer, AutoModelForMaskedLM, default_data_collator\n",
    "from tqdm import tqdm\n",
    "from kronfluence.utils.dataset import find_executable_batch_size"
   ]
  },
  {
   "cell_type": "code",
   "execution_count": 2,
   "metadata": {},
   "outputs": [],
   "source": [
    "df = pd.read_csv('../../src/bio_if/data/plmbias/common_proteins_progen_esm_loglikelihood.csv')"
   ]
  },
  {
   "cell_type": "code",
   "execution_count": 3,
   "metadata": {},
   "outputs": [
    {
     "data": {
      "text/html": [
       "<div>\n",
       "<style scoped>\n",
       "    .dataframe tbody tr th:only-of-type {\n",
       "        vertical-align: middle;\n",
       "    }\n",
       "\n",
       "    .dataframe tbody tr th {\n",
       "        vertical-align: top;\n",
       "    }\n",
       "\n",
       "    .dataframe thead th {\n",
       "        text-align: right;\n",
       "    }\n",
       "</style>\n",
       "<table border=\"1\" class=\"dataframe\">\n",
       "  <thead>\n",
       "    <tr style=\"text-align: right;\">\n",
       "      <th></th>\n",
       "      <th>Entry</th>\n",
       "      <th>Entry Name</th>\n",
       "      <th>primary_protein_name</th>\n",
       "      <th>all_protein_names</th>\n",
       "      <th>Gene Names</th>\n",
       "      <th>Organism</th>\n",
       "      <th>Length</th>\n",
       "      <th>genus_species</th>\n",
       "      <th>domain</th>\n",
       "      <th>kingdom</th>\n",
       "      <th>...</th>\n",
       "      <th>Description</th>\n",
       "      <th>sequence</th>\n",
       "      <th>progen2-medium_fp16_False_ll</th>\n",
       "      <th>progen2-base_fp16_False_ll</th>\n",
       "      <th>progen2-large_fp16_False_ll</th>\n",
       "      <th>progen2-xlarge_fp16_False_ll</th>\n",
       "      <th>progen2-BFD90_fp16_False_ll</th>\n",
       "      <th>ESM2_650M_pppl</th>\n",
       "      <th>ESM2_3B_pppl</th>\n",
       "      <th>ESM2_15B_pppl</th>\n",
       "    </tr>\n",
       "  </thead>\n",
       "  <tbody>\n",
       "    <tr>\n",
       "      <th>0</th>\n",
       "      <td>O00541</td>\n",
       "      <td>PESC_HUMAN</td>\n",
       "      <td>Pescadillo homolog</td>\n",
       "      <td>Pescadillo homolog</td>\n",
       "      <td>PES1</td>\n",
       "      <td>Homo sapiens (Human)</td>\n",
       "      <td>588</td>\n",
       "      <td>Homo sapiens</td>\n",
       "      <td>Eukaryota</td>\n",
       "      <td>Animalia</td>\n",
       "      <td>...</td>\n",
       "      <td>sp|O00541|PESC_HUMAN Pescadillo homolog OS=Hom...</td>\n",
       "      <td>MGGLEKKKYERGSATNYITRNKARKKLQLSLADFRRLCILKGIYPH...</td>\n",
       "      <td>-0.877656</td>\n",
       "      <td>-0.739062</td>\n",
       "      <td>-0.673376</td>\n",
       "      <td>-0.275376</td>\n",
       "      <td>-0.557462</td>\n",
       "      <td>-1.376413</td>\n",
       "      <td>-1.153031</td>\n",
       "      <td>-0.863481</td>\n",
       "    </tr>\n",
       "    <tr>\n",
       "      <th>1</th>\n",
       "      <td>O15229</td>\n",
       "      <td>KMO_HUMAN</td>\n",
       "      <td>Kynurenine 3-monooxygenase</td>\n",
       "      <td>Kynurenine 3-monooxygenase (EC 1.14.13.9) (Kyn...</td>\n",
       "      <td>KMO</td>\n",
       "      <td>Homo sapiens (Human)</td>\n",
       "      <td>486</td>\n",
       "      <td>Homo sapiens</td>\n",
       "      <td>Eukaryota</td>\n",
       "      <td>Animalia</td>\n",
       "      <td>...</td>\n",
       "      <td>sp|O15229|KMO_HUMAN Kynurenine 3-monooxygenase...</td>\n",
       "      <td>MDSSVIQRKKVAVIGGGLVGSLQACFLAKRNFQIDVYEAREDTRVA...</td>\n",
       "      <td>-1.115627</td>\n",
       "      <td>-1.019284</td>\n",
       "      <td>-1.055469</td>\n",
       "      <td>-0.597102</td>\n",
       "      <td>-0.828649</td>\n",
       "      <td>-1.078029</td>\n",
       "      <td>-0.841189</td>\n",
       "      <td>-0.721648</td>\n",
       "    </tr>\n",
       "    <tr>\n",
       "      <th>2</th>\n",
       "      <td>O15371</td>\n",
       "      <td>EIF3D_HUMAN</td>\n",
       "      <td>Eukaryotic translation initiation factor 3 sub...</td>\n",
       "      <td>Eukaryotic translation initiation factor 3 sub...</td>\n",
       "      <td>EIF3D EIF3S7</td>\n",
       "      <td>Homo sapiens (Human)</td>\n",
       "      <td>548</td>\n",
       "      <td>Homo sapiens</td>\n",
       "      <td>Eukaryota</td>\n",
       "      <td>Animalia</td>\n",
       "      <td>...</td>\n",
       "      <td>sp|O15371|EIF3D_HUMAN Eukaryotic translation i...</td>\n",
       "      <td>MAKFMTPVIQDNPSGWGPCAVPEQFRDMPYQPFSKGDRLGKVADWT...</td>\n",
       "      <td>-1.028079</td>\n",
       "      <td>-0.465545</td>\n",
       "      <td>-0.500757</td>\n",
       "      <td>-0.104518</td>\n",
       "      <td>-0.289271</td>\n",
       "      <td>-1.767279</td>\n",
       "      <td>-1.147200</td>\n",
       "      <td>-0.939404</td>\n",
       "    </tr>\n",
       "    <tr>\n",
       "      <th>3</th>\n",
       "      <td>O15372</td>\n",
       "      <td>EIF3H_HUMAN</td>\n",
       "      <td>Eukaryotic translation initiation factor 3 sub...</td>\n",
       "      <td>Eukaryotic translation initiation factor 3 sub...</td>\n",
       "      <td>EIF3H EIF3S3</td>\n",
       "      <td>Homo sapiens (Human)</td>\n",
       "      <td>352</td>\n",
       "      <td>Homo sapiens</td>\n",
       "      <td>Eukaryota</td>\n",
       "      <td>Animalia</td>\n",
       "      <td>...</td>\n",
       "      <td>sp|O15372|EIF3H_HUMAN Eukaryotic translation i...</td>\n",
       "      <td>MASRKEGTGSTATSSSSTAGAAGKGKGKGGSGDSAVKQVQIDGLVV...</td>\n",
       "      <td>-1.272828</td>\n",
       "      <td>-1.144460</td>\n",
       "      <td>-0.878840</td>\n",
       "      <td>-0.297281</td>\n",
       "      <td>-0.522815</td>\n",
       "      <td>-1.453510</td>\n",
       "      <td>-1.361511</td>\n",
       "      <td>-1.337643</td>\n",
       "    </tr>\n",
       "    <tr>\n",
       "      <th>4</th>\n",
       "      <td>O43148</td>\n",
       "      <td>MCES_HUMAN</td>\n",
       "      <td>mRNA cap guanine-N7 methyltransferase</td>\n",
       "      <td>mRNA cap guanine-N7 methyltransferase (EC 2.1....</td>\n",
       "      <td>RNMT KIAA0398</td>\n",
       "      <td>Homo sapiens (Human)</td>\n",
       "      <td>476</td>\n",
       "      <td>Homo sapiens</td>\n",
       "      <td>Eukaryota</td>\n",
       "      <td>Animalia</td>\n",
       "      <td>...</td>\n",
       "      <td>sp|O43148|MCES_HUMAN mRNA cap guanine-N7 methy...</td>\n",
       "      <td>MANSAKAEEYEKMSLEQAKASVNSETESSFNINENTTASGTGLSEK...</td>\n",
       "      <td>-1.465531</td>\n",
       "      <td>-1.197696</td>\n",
       "      <td>-1.246382</td>\n",
       "      <td>-0.836779</td>\n",
       "      <td>-1.065558</td>\n",
       "      <td>-1.062195</td>\n",
       "      <td>-0.843875</td>\n",
       "      <td>-0.803533</td>\n",
       "    </tr>\n",
       "  </tbody>\n",
       "</table>\n",
       "<p>5 rows × 23 columns</p>\n",
       "</div>"
      ],
      "text/plain": [
       "    Entry   Entry Name                               primary_protein_name  \\\n",
       "0  O00541   PESC_HUMAN                                 Pescadillo homolog   \n",
       "1  O15229    KMO_HUMAN                         Kynurenine 3-monooxygenase   \n",
       "2  O15371  EIF3D_HUMAN  Eukaryotic translation initiation factor 3 sub...   \n",
       "3  O15372  EIF3H_HUMAN  Eukaryotic translation initiation factor 3 sub...   \n",
       "4  O43148   MCES_HUMAN              mRNA cap guanine-N7 methyltransferase   \n",
       "\n",
       "                                   all_protein_names     Gene Names  \\\n",
       "0                                 Pescadillo homolog           PES1   \n",
       "1  Kynurenine 3-monooxygenase (EC 1.14.13.9) (Kyn...            KMO   \n",
       "2  Eukaryotic translation initiation factor 3 sub...   EIF3D EIF3S7   \n",
       "3  Eukaryotic translation initiation factor 3 sub...   EIF3H EIF3S3   \n",
       "4  mRNA cap guanine-N7 methyltransferase (EC 2.1....  RNMT KIAA0398   \n",
       "\n",
       "               Organism  Length genus_species     domain   kingdom  ...  \\\n",
       "0  Homo sapiens (Human)     588  Homo sapiens  Eukaryota  Animalia  ...   \n",
       "1  Homo sapiens (Human)     486  Homo sapiens  Eukaryota  Animalia  ...   \n",
       "2  Homo sapiens (Human)     548  Homo sapiens  Eukaryota  Animalia  ...   \n",
       "3  Homo sapiens (Human)     352  Homo sapiens  Eukaryota  Animalia  ...   \n",
       "4  Homo sapiens (Human)     476  Homo sapiens  Eukaryota  Animalia  ...   \n",
       "\n",
       "                                         Description  \\\n",
       "0  sp|O00541|PESC_HUMAN Pescadillo homolog OS=Hom...   \n",
       "1  sp|O15229|KMO_HUMAN Kynurenine 3-monooxygenase...   \n",
       "2  sp|O15371|EIF3D_HUMAN Eukaryotic translation i...   \n",
       "3  sp|O15372|EIF3H_HUMAN Eukaryotic translation i...   \n",
       "4  sp|O43148|MCES_HUMAN mRNA cap guanine-N7 methy...   \n",
       "\n",
       "                                            sequence  \\\n",
       "0  MGGLEKKKYERGSATNYITRNKARKKLQLSLADFRRLCILKGIYPH...   \n",
       "1  MDSSVIQRKKVAVIGGGLVGSLQACFLAKRNFQIDVYEAREDTRVA...   \n",
       "2  MAKFMTPVIQDNPSGWGPCAVPEQFRDMPYQPFSKGDRLGKVADWT...   \n",
       "3  MASRKEGTGSTATSSSSTAGAAGKGKGKGGSGDSAVKQVQIDGLVV...   \n",
       "4  MANSAKAEEYEKMSLEQAKASVNSETESSFNINENTTASGTGLSEK...   \n",
       "\n",
       "  progen2-medium_fp16_False_ll progen2-base_fp16_False_ll  \\\n",
       "0                    -0.877656                  -0.739062   \n",
       "1                    -1.115627                  -1.019284   \n",
       "2                    -1.028079                  -0.465545   \n",
       "3                    -1.272828                  -1.144460   \n",
       "4                    -1.465531                  -1.197696   \n",
       "\n",
       "  progen2-large_fp16_False_ll  progen2-xlarge_fp16_False_ll  \\\n",
       "0                   -0.673376                     -0.275376   \n",
       "1                   -1.055469                     -0.597102   \n",
       "2                   -0.500757                     -0.104518   \n",
       "3                   -0.878840                     -0.297281   \n",
       "4                   -1.246382                     -0.836779   \n",
       "\n",
       "   progen2-BFD90_fp16_False_ll  ESM2_650M_pppl  ESM2_3B_pppl  ESM2_15B_pppl  \n",
       "0                    -0.557462       -1.376413     -1.153031      -0.863481  \n",
       "1                    -0.828649       -1.078029     -0.841189      -0.721648  \n",
       "2                    -0.289271       -1.767279     -1.147200      -0.939404  \n",
       "3                    -0.522815       -1.453510     -1.361511      -1.337643  \n",
       "4                    -1.065558       -1.062195     -0.843875      -0.803533  \n",
       "\n",
       "[5 rows x 23 columns]"
      ]
     },
     "execution_count": 3,
     "metadata": {},
     "output_type": "execute_result"
    }
   ],
   "source": [
    "df.head()"
   ]
  },
  {
   "cell_type": "code",
   "execution_count": 4,
   "metadata": {},
   "outputs": [
    {
     "name": "stdout",
     "output_type": "stream",
     "text": [
      "Index(['Entry', 'Entry Name', 'primary_protein_name', 'all_protein_names',\n",
      "       'Gene Names', 'Organism', 'Length', 'genus_species', 'domain',\n",
      "       'kingdom', 'phylum_division', 'class', 'genus', 'Description',\n",
      "       'sequence', 'progen2-medium_fp16_False_ll',\n",
      "       'progen2-base_fp16_False_ll', 'progen2-large_fp16_False_ll',\n",
      "       'progen2-xlarge_fp16_False_ll', 'progen2-BFD90_fp16_False_ll',\n",
      "       'ESM2_650M_pppl', 'ESM2_3B_pppl', 'ESM2_15B_pppl'],\n",
      "      dtype='object')\n"
     ]
    }
   ],
   "source": [
    "print(df.columns)"
   ]
  },
  {
   "cell_type": "code",
   "execution_count": 5,
   "metadata": {},
   "outputs": [
    {
     "data": {
      "text/plain": [
       "(array([3.460e+02, 1.914e+03, 1.341e+03, 1.179e+03, 5.740e+02, 7.570e+02,\n",
       "        4.310e+02, 4.150e+02, 1.350e+02, 1.050e+02, 8.500e+01, 4.500e+01,\n",
       "        5.200e+01, 4.900e+01, 2.100e+01, 2.200e+01, 1.000e+01, 1.300e+01,\n",
       "        1.300e+01, 9.000e+00, 7.000e+00, 1.000e+00, 3.000e+00, 3.000e+00,\n",
       "        1.000e+00, 1.000e+00, 0.000e+00, 7.000e+00, 1.000e+00, 0.000e+00,\n",
       "        1.000e+00, 2.000e+00, 0.000e+00, 0.000e+00, 0.000e+00, 0.000e+00,\n",
       "        1.000e+00, 0.000e+00, 0.000e+00, 0.000e+00, 0.000e+00, 0.000e+00,\n",
       "        0.000e+00, 0.000e+00, 0.000e+00, 0.000e+00, 0.000e+00, 0.000e+00,\n",
       "        0.000e+00, 1.000e+00]),\n",
       " array([  13. ,   82.7,  152.4,  222.1,  291.8,  361.5,  431.2,  500.9,\n",
       "         570.6,  640.3,  710. ,  779.7,  849.4,  919.1,  988.8, 1058.5,\n",
       "        1128.2, 1197.9, 1267.6, 1337.3, 1407. , 1476.7, 1546.4, 1616.1,\n",
       "        1685.8, 1755.5, 1825.2, 1894.9, 1964.6, 2034.3, 2104. , 2173.7,\n",
       "        2243.4, 2313.1, 2382.8, 2452.5, 2522.2, 2591.9, 2661.6, 2731.3,\n",
       "        2801. , 2870.7, 2940.4, 3010.1, 3079.8, 3149.5, 3219.2, 3288.9,\n",
       "        3358.6, 3428.3, 3498. ]),\n",
       " <BarContainer object of 50 artists>)"
      ]
     },
     "execution_count": 5,
     "metadata": {},
     "output_type": "execute_result"
    },
    {
     "data": {
      "image/png": "[encoded data removed]",
      "text/plain": [
       "<Figure size 640x480 with 1 Axes>"
      ]
     },
     "metadata": {},
     "output_type": "display_data"
    }
   ],
   "source": [
    "# make a histogram of sequence length\n",
    "plt.hist(df['sequence'].apply(len), bins=50)"
   ]
  },
  {
   "cell_type": "code",
   "execution_count": 6,
   "metadata": {},
   "outputs": [],
   "source": [
    "MODEL_NAME = 'facebook/esm2_t33_650M_UR50D'\n",
    "DEVICE = 'cuda:0'"
   ]
  },
  {
   "cell_type": "code",
   "execution_count": 7,
   "metadata": {},
   "outputs": [],
   "source": [
    "tokenizer = AutoTokenizer.from_pretrained(MODEL_NAME)\n",
    "model = AutoModelForMaskedLM.from_pretrained(MODEL_NAME, device_map=DEVICE)"
   ]
  },
  {
   "cell_type": "code",
   "execution_count": 8,
   "metadata": {},
   "outputs": [
    {
     "name": "stdout",
     "output_type": "stream",
     "text": [
      "EsmTokenizer(name_or_path='facebook/esm2_t33_650M_UR50D', vocab_size=33, model_max_length=1000000000000000019884624838656, is_fast=False, padding_side='right', truncation_side='right', special_tokens={'eos_token': '<eos>', 'unk_token': '<unk>', 'pad_token': '<pad>', 'cls_token': '<cls>', 'mask_token': '<mask>'}, clean_up_tokenization_spaces=True),  added_tokens_decoder={\n",
      "\t0: AddedToken(\"<cls>\", rstrip=False, lstrip=False, single_word=False, normalized=False, special=True),\n",
      "\t1: AddedToken(\"<pad>\", rstrip=False, lstrip=False, single_word=False, normalized=False, special=True),\n",
      "\t2: AddedToken(\"<eos>\", rstrip=False, lstrip=False, single_word=False, normalized=False, special=True),\n",
      "\t3: AddedToken(\"<unk>\", rstrip=False, lstrip=False, single_word=False, normalized=False, special=True),\n",
      "\t32: AddedToken(\"<mask>\", rstrip=False, lstrip=False, single_word=False, normalized=False, special=True),\n",
      "}\n",
      "{'eos_token': '<eos>', 'unk_token': '<unk>', 'pad_token': '<pad>', 'cls_token': '<cls>', 'mask_token': '<mask>'}\n",
      "[5, 23, 13, 9, 18, 6, 21, 12, 15, 4, 20, 17, 14, 16, 10, 8, 11, 7, 22, 19]\n"
     ]
    }
   ],
   "source": [
    "# print all tokens of the tokenizer\n",
    "CANONICAL_AAS = 'ACDEFGHIKLMNPQRSTVWY'\n",
    "tokenized_canonical_aas = tokenizer(CANONICAL_AAS)['input_ids'][1:-1]\n",
    "assert not any([tokenized_canonical_aas[i] in tokenizer.all_special_ids for i in range(len(tokenized_canonical_aas))])\n",
    "assert len(tokenized_canonical_aas) == len(CANONICAL_AAS)\n",
    "print(tokenizer)\n",
    "print(tokenizer.special_tokens_map)\n",
    "print(tokenized_canonical_aas)"
   ]
  },
  {
   "cell_type": "code",
   "execution_count": 9,
   "metadata": {},
   "outputs": [],
   "source": [
    "# ds = Dataset.from_dict({'seq': df['sequence'].tolist()})\n",
    "# ds = ds.map(lambda x: tokenizer(x['seq'], padding='max_length', truncation=True, max_length=max(df['sequence'].apply(len))+2, return_tensors='pt'), batched=True)"
   ]
  },
  {
   "cell_type": "code",
   "execution_count": 21,
   "metadata": {},
   "outputs": [],
   "source": [
    "# calculate true PPLs for ESM 650M\n",
    "df['ESM2_650M_pppl_true'] = np.exp(-df['ESM2_650M_pppl'])"
   ]
  },
  {
   "cell_type": "code",
   "execution_count": 11,
   "metadata": {},
   "outputs": [],
   "source": [
    "# get log likelihood of first sequence\n",
    "seq = df['sequence'][0]\n",
    "def get_log_likelihood(seq):\n",
    "    model.eval()\n",
    "    seqs = [seq]\n",
    "    for i in range(len(seq)):\n",
    "        masked_seq = seq[:i] + '<mask>' + seq[i+1:]\n",
    "        seqs.append(masked_seq)\n",
    "    tokenized = tokenizer(seqs, padding='max_length', truncation=True, max_length=len(seq)+2, return_tensors='pt')\n",
    "    assert torch.all(tokenized['input_ids'][:, -1] == tokenizer.eos_token_id)\n",
    "    default_seq = {k: v[0:1] for k, v in tokenized.items()}\n",
    "    tokenized = {k: v[1:] for k, v in tokenized.items()}\n",
    "\n",
    "    BATCH_SIZE = 128\n",
    "    total = 0\n",
    "    dataset = Dataset.from_dict(tokenized)\n",
    "    dataloader = torch.utils.data.DataLoader(dataset, batch_size=BATCH_SIZE, collate_fn=default_data_collator)\n",
    "    for i, batch in tqdm(enumerate(dataloader), total=len(dataloader)):\n",
    "        bs = batch['input_ids'].shape[0]\n",
    "        for k, v in batch.items():\n",
    "            batch[k] = v.to(DEVICE)\n",
    "        \n",
    "        with (torch.no_grad(), torch.cuda.amp.autocast(enabled='cuda' in DEVICE)):\n",
    "            outputs = model(**batch) # [batch_size, seq_len, num_tokens]\n",
    "        individual_lls = torch.log_softmax(outputs.logits, dim=-1)[\n",
    "            torch.arange(bs),\n",
    "            torch.arange(1+i*BATCH_SIZE, 1+i*BATCH_SIZE+bs),\n",
    "        ] # [batch_size, seq_len]\n",
    "        total += sum(individual_lls[torch.arange(bs), default_seq['input_ids'][0, 1+i*BATCH_SIZE:1+i*BATCH_SIZE+bs]])\n",
    "    return total.item() / len(seq) "
   ]
  },
  {
   "cell_type": "code",
   "execution_count": 11,
   "metadata": {},
   "outputs": [
    {
     "name": "stderr",
     "output_type": "stream",
     "text": [
      "100%|██████████| 5/5 [00:09<00:00,  1.96s/it]\n",
      " 10%|█         | 1/10 [00:10<01:35, 10.58s/it]"
     ]
    },
    {
     "name": "stdout",
     "output_type": "stream",
     "text": [
      "-1.376540826291454\n"
     ]
    },
    {
     "name": "stderr",
     "output_type": "stream",
     "text": [
      "100%|██████████| 4/4 [00:05<00:00,  1.30s/it]\n",
      " 20%|██        | 2/10 [00:16<01:01,  7.72s/it]"
     ]
    },
    {
     "name": "stdout",
     "output_type": "stream",
     "text": [
      "-1.0783214176633231\n"
     ]
    },
    {
     "name": "stderr",
     "output_type": "stream",
     "text": [
      "100%|██████████| 5/5 [00:07<00:00,  1.48s/it]\n",
      " 30%|███       | 3/10 [00:24<00:55,  7.87s/it]"
     ]
    },
    {
     "name": "stdout",
     "output_type": "stream",
     "text": [
      "-1.7674027046147924\n"
     ]
    },
    {
     "name": "stderr",
     "output_type": "stream",
     "text": [
      "100%|██████████| 3/3 [00:02<00:00,  1.12it/s]\n",
      " 40%|████      | 4/10 [00:27<00:35,  5.93s/it]"
     ]
    },
    {
     "name": "stdout",
     "output_type": "stream",
     "text": [
      "-1.45390831340443\n"
     ]
    },
    {
     "name": "stderr",
     "output_type": "stream",
     "text": [
      "100%|██████████| 4/4 [00:05<00:00,  1.32s/it]\n",
      " 50%|█████     | 5/10 [00:33<00:29,  5.88s/it]"
     ]
    },
    {
     "name": "stdout",
     "output_type": "stream",
     "text": [
      "-1.0620464036444657\n"
     ]
    },
    {
     "name": "stderr",
     "output_type": "stream",
     "text": [
      "100%|██████████| 2/2 [00:01<00:00,  1.84it/s]\n",
      " 60%|██████    | 6/10 [00:34<00:17,  4.30s/it]"
     ]
    },
    {
     "name": "stdout",
     "output_type": "stream",
     "text": [
      "-0.8018189786329801\n"
     ]
    },
    {
     "name": "stderr",
     "output_type": "stream",
     "text": [
      "100%|██████████| 8/8 [00:29<00:00,  3.68s/it]\n",
      " 70%|███████   | 7/10 [01:05<00:39, 13.16s/it]"
     ]
    },
    {
     "name": "stdout",
     "output_type": "stream",
     "text": [
      "-0.7799362848801326\n"
     ]
    },
    {
     "name": "stderr",
     "output_type": "stream",
     "text": [
      "100%|██████████| 3/3 [00:03<00:00,  1.01s/it]\n",
      " 80%|████████  | 8/10 [01:09<00:20, 10.04s/it]"
     ]
    },
    {
     "name": "stdout",
     "output_type": "stream",
     "text": [
      "-1.4322663994245632\n"
     ]
    },
    {
     "name": "stderr",
     "output_type": "stream",
     "text": [
      "100%|██████████| 12/12 [01:19<00:00,  6.60s/it]\n",
      " 90%|█████████ | 9/10 [02:32<00:33, 33.03s/it]"
     ]
    },
    {
     "name": "stdout",
     "output_type": "stream",
     "text": [
      "-2.0510792896213035\n"
     ]
    },
    {
     "name": "stderr",
     "output_type": "stream",
     "text": [
      "100%|██████████| 5/5 [00:06<00:00,  1.31s/it]\n",
      "100%|██████████| 10/10 [02:39<00:00, 15.98s/it]"
     ]
    },
    {
     "name": "stdout",
     "output_type": "stream",
     "text": [
      "-1.403676134474734\n"
     ]
    },
    {
     "name": "stderr",
     "output_type": "stream",
     "text": [
      "\n"
     ]
    }
   ],
   "source": [
    "lls = []\n",
    "for seq in tqdm(df['sequence'][:10]):\n",
    "    lls.append(get_log_likelihood(seq))\n",
    "    print(lls[-1])"
   ]
  },
  {
   "cell_type": "code",
   "execution_count": 12,
   "metadata": {},
   "outputs": [
    {
     "data": {
      "text/plain": [
       "Text(0, 0.5, 'df log likelihood')"
      ]
     },
     "execution_count": 12,
     "metadata": {},
     "output_type": "execute_result"
    },
    {
     "data": {
      "image/png": "[encoded data removed]",
      "text/plain": [
       "<Figure size 640x480 with 1 Axes>"
      ]
     },
     "metadata": {},
     "output_type": "display_data"
    }
   ],
   "source": [
    "plt.plot(lls, df['ESM2_650M_pppl'][:len(lls)], 'o')\n",
    "plt.plot([min(lls), max(lls)], [min(lls), max(lls)], 'k--')\n",
    "plt.xlabel('generated log likelihood')\n",
    "plt.ylabel('df log likelihood')"
   ]
  },
  {
   "cell_type": "code",
   "execution_count": 13,
   "metadata": {},
   "outputs": [],
   "source": [
    "def get_one_shot_log_likelihood(seqs):\n",
    "    model.eval()\n",
    "    max_length = max([len(seq) for seq in seqs])\n",
    "    tokenized = tokenizer(seqs, padding='max_length', truncation=True, max_length=max_length, return_tensors='pt')\n",
    "\n",
    "    batch = {k: v.to(DEVICE) for k, v in tokenized.items()}\n",
    "    label = batch['input_ids']\n",
    "    label_special = torch.zeros_like(label, dtype=torch.bool)\n",
    "    for special_id in tokenizer.all_special_ids:\n",
    "        label_special |= label == special_id\n",
    "    label = label.masked_fill(label_special, -100)\n",
    "\n",
    "    with (torch.no_grad(), torch.cuda.amp.autocast(enabled='cuda' in DEVICE)):\n",
    "        outputs = model(**batch).logits.transpose(1, 2) # [batch_size, num_tokens, seq_len]\n",
    "\n",
    "    individual_lls = torch.nn.functional.cross_entropy(outputs, label, reduction='none') # [batch_size, seq_len]\n",
    "    return -(individual_lls.sum(dim=-1) / (~label_special).sum(dim=-1)).numpy(force=True)"
   ]
  },
  {
   "cell_type": "code",
   "execution_count": 14,
   "metadata": {},
   "outputs": [
    {
     "name": "stderr",
     "output_type": "stream",
     "text": [
      "100%|██████████| 7545/7545 [05:06<00:00, 24.62it/s]\n"
     ]
    }
   ],
   "source": [
    "olls = []\n",
    "batch_size = 1\n",
    "for i in tqdm(range(0, len(df['sequence']), batch_size)):\n",
    "    seqs = df['sequence'][i:i+batch_size].tolist()\n",
    "    olls.append(get_one_shot_log_likelihood(seqs))"
   ]
  },
  {
   "cell_type": "code",
   "execution_count": 16,
   "metadata": {},
   "outputs": [],
   "source": [
    "olls = np.concatenate(olls)"
   ]
  },
  {
   "cell_type": "code",
   "execution_count": 17,
   "metadata": {},
   "outputs": [],
   "source": [
    "df['esm650m_one_shot_log_likelihood'] = olls"
   ]
  },
  {
   "cell_type": "code",
   "execution_count": 17,
   "metadata": {},
   "outputs": [],
   "source": [
    "def get_one_shot_pppl(seqs):\n",
    "    model.eval()\n",
    "    max_length = max([len(seq) for seq in seqs])\n",
    "    tokenized = tokenizer(seqs, padding='max_length', truncation=True, max_length=max_length, return_tensors='pt')\n",
    "\n",
    "    batch = {k: v.to(DEVICE) for k, v in tokenized.items()}\n",
    "    label = batch['input_ids'] # [batch_size, seq_len]\n",
    "    label_special = torch.zeros_like(label, dtype=torch.bool)\n",
    "    for special_id in tokenizer.all_special_ids:\n",
    "        label_special |= label == special_id\n",
    "    # label = label.masked_fill(label_special, -1)\n",
    "\n",
    "    with (torch.no_grad(), torch.cuda.amp.autocast(enabled='cuda' in DEVICE)):\n",
    "        outputs = model(**batch).logits # [batch_size, seq_len, num_tokens]\n",
    "\n",
    "    individual_probs = torch.softmax(outputs, dim=-1).transpose(1, 2) # [batch_size, num_tokens, seq_len]\n",
    "    individual_probs = individual_probs.gather(dim=1, index=label.unsqueeze(1)).squeeze(1) # [batch_size, seq_len]\n",
    "    corrected_probs = 2 * individual_probs - 1\n",
    "    corrected_probs = corrected_probs.masked_fill(label_special, 1)\n",
    "    print(f\"Percent of negative probs: {100 * (corrected_probs < 0).sum().item() / (~label_special).sum().item():.2f}%\")\n",
    "    return torch.pow(corrected_probs.prod(dim=-1), - 1 / (~label_special).sum(dim=-1)).numpy(force=True)\n",
    "    # corrected_log_probs = torch.log((2*individual_probs - 1).clamp_min(1e-8))\n",
    "    # corrected_log_probs = corrected_log_probs.masked_fill(label_special, 0)\n",
    "    # return torch.exp(-(corrected_log_probs.sum(dim=-1) / (~label_special).sum(dim=-1))).numpy(force=True)"
   ]
  },
  {
   "cell_type": "code",
   "execution_count": 18,
   "metadata": {},
   "outputs": [
    {
     "name": "stderr",
     "output_type": "stream",
     "text": [
      "  0%|          | 20/7545 [00:00<05:13, 24.01it/s]"
     ]
    },
    {
     "name": "stderr",
     "output_type": "stream",
     "text": [
      "100%|██████████| 7545/7545 [05:03<00:00, 24.87it/s]\n"
     ]
    }
   ],
   "source": [
    "pppls = []\n",
    "batch_size = 1\n",
    "for i in tqdm(range(0, len(df['sequence']), batch_size)):\n",
    "    seqs = df['sequence'][i:i+batch_size].tolist()\n",
    "    pppls.append(get_one_shot_pppl(seqs))"
   ]
  },
  {
   "cell_type": "code",
   "execution_count": 19,
   "metadata": {},
   "outputs": [],
   "source": [
    "df['esm650m_one_shot_pppl'] = np.concatenate(pppls)"
   ]
  },
  {
   "cell_type": "code",
   "execution_count": 22,
   "metadata": {},
   "outputs": [
    {
     "data": {
      "text/plain": [
       "Text(0, 0.5, 'Pseudo Perplexity')"
      ]
     },
     "execution_count": 22,
     "metadata": {},
     "output_type": "execute_result"
    },
    {
     "data": {
      "image/png": "[encoded data removed]",
      "text/plain": [
       "<Figure size 640x480 with 1 Axes>"
      ]
     },
     "metadata": {},
     "output_type": "display_data"
    }
   ],
   "source": [
    "sns.scatterplot(x='esm650m_one_shot_pppl', y='ESM2_650M_pppl_true', data=df, hue='kingdom')\n",
    "# plt.plot(olls, df['ESM2_650M_pppl'][:len(olls)], 'o')\n",
    "# make line of best fit\n",
    "# m, b = np.polyfit(np.array(olls), df['ESM2_650M_pppl'][:len(olls)], 1)\n",
    "# plt.plot([min(olls), max(olls)], [m*min(olls)+b, m*max(olls)+b], 'k--')\n",
    "plt.xlabel('One-Shot Pseudo Perplexity')\n",
    "plt.ylabel('Pseudo Perplexity')"
   ]
  },
  {
   "cell_type": "code",
   "execution_count": 26,
   "metadata": {},
   "outputs": [
    {
     "name": "stdout",
     "output_type": "stream",
     "text": [
      "spearman r: SignificanceResult(statistic=0.9383633749428081, pvalue=0.0)\n",
      "pearson r: PearsonRResult(statistic=0.9460311404442383, pvalue=0.0)\n"
     ]
    }
   ],
   "source": [
    "# compute r squared for both pearson and spearman\n",
    "from scipy.stats import pearsonr, spearmanr\n",
    "sp = spearmanr(olls, df['ESM2_650M_pppl'])\n",
    "pe = pearsonr(olls, df['ESM2_650M_pppl'])\n",
    "print(f'spearman r: {sp}')\n",
    "print(f'pearson r: {pe}')"
   ]
  },
  {
   "cell_type": "code",
   "execution_count": null,
   "metadata": {},
   "outputs": [],
   "source": []
  }
 ],
 "metadata": {
  "kernelspec": {
   "display_name": "bio-if",
   "language": "python",
   "name": "python3"
  },
  "language_info": {
   "codemirror_mode": {
    "name": "ipython",
    "version": 3
   },
   "file_extension": ".py",
   "mimetype": "text/x-python",
   "name": "python",
   "nbconvert_exporter": "python",
   "pygments_lexer": "ipython3",
   "version": "3.9.19"
  }
 },
 "nbformat": 4,
 "nbformat_minor": 2
}
